{
 "cells": [
  {
   "cell_type": "code",
   "execution_count": 246,
   "metadata": {},
   "outputs": [],
   "source": [
    "import pandas as pd\n",
    "\n",
    "df = pd.read_csv('/home/n-grinsztajn/PycharmProjects/nature-go-wiki/data/useful_data/species_with_word_count.csv')"
   ]
  },
  {
   "cell_type": "code",
   "execution_count": 248,
   "metadata": {},
   "outputs": [],
   "source": [
    "df_rarity = pd.read_csv('/home/n-grinsztajn/PycharmProjects/nature-go-wiki/data/useful_data/species_with_rarity2.csv')\n",
    "rarity_columns = ['rarity_batch_0', 'rarity_batch_1', 'rarity_batch_2', 'rarity_batch_3', 'rarity_batch_4']\n",
    "df_rarity['rarity_gpt'] = df_rarity[rarity_columns].mean(axis=1)\n"
   ]
  },
  {
   "cell_type": "code",
   "execution_count": 89,
   "metadata": {},
   "outputs": [
    {
     "data": {
      "text/plain": [
       "array([[<Axes: title={'center': 'rarity_gpt'}>]], dtype=object)"
      ]
     },
     "execution_count": 89,
     "metadata": {},
     "output_type": "execute_result"
    },
    {
     "data": {
      "image/png": "[encoded data removed]",
      "text/plain": [
       "<Figure size 640x480 with 1 Axes>"
      ]
     },
     "metadata": {},
     "output_type": "display_data"
    }
   ],
   "source": [
    "df_rarity.hist(column='rarity_gpt', bins=200)"
   ]
  },
  {
   "cell_type": "code",
   "execution_count": 249,
   "metadata": {},
   "outputs": [],
   "source": [
    "full_df = pd.merge(df, df_rarity[['id', 'rarity_gpt']], on='id', how='inner')\n",
    "full_df.rename(columns={'rarity_gpt': 'rarityGpt'}, inplace=True)"
   ]
  },
  {
   "cell_type": "code",
   "execution_count": 250,
   "metadata": {},
   "outputs": [
    {
     "data": {
      "text/plain": [
       "18433"
      ]
     },
     "execution_count": 250,
     "metadata": {},
     "output_type": "execute_result"
    }
   ],
   "source": [
    "(full_df['WikipediaWordCount'] > 0).sum()\n"
   ]
  },
  {
   "cell_type": "code",
   "execution_count": 253,
   "metadata": {},
   "outputs": [],
   "source": [
    "df_legacy = pd.read_csv('/home/n-grinsztajn/PycharmProjects/nature-go-wiki/data/useful_data/plantnet_species_legacy.csv')\n",
    "df_legacy = df_legacy.drop_duplicates(subset=['species'])\n"
   ]
  },
  {
   "cell_type": "code",
   "execution_count": 254,
   "metadata": {},
   "outputs": [
    {
     "name": "stdout",
     "output_type": "stream",
     "text": [
      "36469\n",
      "36469\n"
     ]
    }
   ],
   "source": [
    "merged_df = pd.merge(full_df, df_legacy[['species', 'numberOfOccurrences']], how='left', left_on='scientificNameWithoutAuthor', right_on='species')\n",
    "print(len(merged_df))\n",
    "# Update numberOfOccurrences in df1\n",
    "merged_df['numberOfOccurrences'] = merged_df['numberOfOccurrences'].fillna(-1)\n",
    "print(len(merged_df))"
   ]
  },
  {
   "cell_type": "code",
   "execution_count": 255,
   "metadata": {},
   "outputs": [
    {
     "data": {
      "text/plain": [
       "14169"
      ]
     },
     "execution_count": 255,
     "metadata": {},
     "output_type": "execute_result"
    }
   ],
   "source": [
    "sum(merged_df['numberOfOccurrences'] > 0)"
   ]
  },
  {
   "cell_type": "code",
   "execution_count": 256,
   "metadata": {},
   "outputs": [],
   "source": [
    "merged_df.drop(columns=['species'], inplace=True)"
   ]
  },
  {
   "cell_type": "code",
   "execution_count": 257,
   "metadata": {},
   "outputs": [
    {
     "data": {
      "text/plain": [
       "{'common': 510, 'uncommon': 1322, 'rare': 4120, 'legendary': 5964}"
      ]
     },
     "execution_count": 257,
     "metadata": {},
     "output_type": "execute_result"
    }
   ],
   "source": [
    "p_rarity = {'legendary': 0.01, 'rare': 0.10, 'uncommon': 0.20, 'common': 0.68}\n",
    "\n",
    "# Sort the p_rarity dictionary by value in descending order\n",
    "sorted_rarity = {k: v for k, v in sorted(p_rarity.items(), key=lambda item: item[1], reverse=True)}\n",
    "\n",
    "merged_df['occurencePositif'] = merged_df['numberOfOccurrences'].replace(-1, 0)\n",
    "\n",
    "merged_df = merged_df.sort_values(by='occurencePositif', ascending=False)\n",
    "merged_df.reset_index(drop=True, inplace=True)\n",
    "\n",
    "# Calculate the cumulative sum of 'numberOfOccurrences'\n",
    "merged_df['cumulative_sum'] = merged_df['occurencePositif'].cumsum()\n",
    "merged_df['occurences_cdf'] = 1 - merged_df['cumulative_sum'] / merged_df['occurencePositif'].sum()\n",
    "\n",
    "# Calculate the total number of occurrences\n",
    "total_occurrences = merged_df['occurencePositif'].sum()\n",
    "\n",
    "# Initialize an empty dictionary to store the results\n",
    "index_rarity = {}\n",
    "\n",
    "# Initialize a variable to keep track of the cumulative percentage\n",
    "cumulative_percent = 0\n",
    "\n",
    "# Loop through each rarity level and find the corresponding index\n",
    "for rarity, percent in sorted_rarity.items():\n",
    "    cumulative_percent += percent\n",
    "    index = merged_df[merged_df['cumulative_sum'] >= cumulative_percent * total_occurrences].index[0]\n",
    "    index_rarity[rarity] = index\n",
    "\n",
    "index_rarity"
   ]
  },
  {
   "cell_type": "code",
   "execution_count": 258,
   "metadata": {},
   "outputs": [],
   "source": [
    "merged_df.drop(columns=['cumulative_sum', 'occurencePositif'], inplace=True)"
   ]
  },
  {
   "cell_type": "code",
   "execution_count": 90,
   "metadata": {},
   "outputs": [],
   "source": [
    "merged_df.to_csv('data/species_final.csv', index=False)"
   ]
  },
  {
   "cell_type": "code",
   "execution_count": null,
   "metadata": {},
   "outputs": [],
   "source": [
    "# get the discovery date + genus + family"
   ]
  },
  {
   "cell_type": "code",
   "execution_count": 259,
   "metadata": {},
   "outputs": [
    {
     "name": "stderr",
     "output_type": "stream",
     "text": [
      "Skipping line 684912: expected 31 fields, saw 35\n",
      "\n",
      "/tmp/ipykernel_125926/3244673053.py:3: DtypeWarning: Columns (26) have mixed types. Specify dtype option on import or set low_memory=False.\n",
      "  df = pd.read_csv(\"/home/n-grinsztajn/PycharmProjects/nature-go-wiki/data/wcvp_names.csv\", delimiter='|', on_bad_lines='warn')\n"
     ]
    },
    {
     "name": "stdout",
     "output_type": "stream",
     "text": [
      "1418847\n",
      "1028579\n"
     ]
    },
    {
     "name": "stderr",
     "output_type": "stream",
     "text": [
      "/tmp/ipykernel_125926/3244673053.py:18: SettingWithCopyWarning: \n",
      "A value is trying to be set on a copy of a slice from a DataFrame.\n",
      "Try using .loc[row_indexer,col_indexer] = value instead\n",
      "\n",
      "See the caveats in the documentation: https://pandas.pydata.org/pandas-docs/stable/user_guide/indexing.html#returning-a-view-versus-a-copy\n",
      "  df_cleaned['first_published_cleaned'] = df_cleaned['first_published_cleaned'].astype(int)\n"
     ]
    },
    {
     "name": "stdout",
     "output_type": "stream",
     "text": [
      "47558\n",
      "0\n"
     ]
    }
   ],
   "source": [
    "import re\n",
    "\n",
    "df = pd.read_csv(\"/home/n-grinsztajn/PycharmProjects/nature-go-wiki/data/wcvp_names.csv\", delimiter='|', on_bad_lines='warn')\n",
    "print(len(df))\n",
    "df = df.loc[df['taxon_rank'] == 'Species']\n",
    "# df = df.loc[df['taxon_status'] == 'Accepted']\n",
    "print(len(df))\n",
    "\n",
    "df['first_published_str'] = df['first_published'].astype(str)\n",
    "\n",
    "# Use regular expressions to extract the first 4-digit number from each entry\n",
    "df['first_published_cleaned'] = df['first_published_str'].apply(lambda x: int(re.search(r'\\d{4}', x).group()) if re.search(r'\\d{4}', x) else None)\n",
    "\n",
    "# Drop rows where cleaned 'first_published' is None\n",
    "df_cleaned = df.dropna(subset=['first_published_cleaned'])\n",
    "\n",
    "# Convert to integers\n",
    "df_cleaned['first_published_cleaned'] = df_cleaned['first_published_cleaned'].astype(int)\n",
    "\n",
    "print(sum(df_cleaned['taxon_name'].duplicated()))\n",
    "\n",
    "df_cleaned_no_duplicates = df_cleaned.loc[df['taxon_status'] == 'Accepted']\n",
    "print(sum(df_cleaned_no_duplicates['taxon_name'].duplicated()))"
   ]
  },
  {
   "cell_type": "code",
   "execution_count": 260,
   "metadata": {},
   "outputs": [
    {
     "data": {
      "text/plain": [
       "taxon_status\n",
       "Synonym              564112\n",
       "Accepted             356364\n",
       "Unplaced              39833\n",
       "Illegitimate          39292\n",
       "Invalid               23087\n",
       "Orthographic           1679\n",
       "Artificial Hybrid      1565\n",
       "Misapplied             1102\n",
       "Local Biotype          1090\n",
       "Name: count, dtype: int64"
      ]
     },
     "execution_count": 260,
     "metadata": {},
     "output_type": "execute_result"
    }
   ],
   "source": [
    "df_cleaned['taxon_status'].value_counts()"
   ]
  },
  {
   "cell_type": "code",
   "execution_count": 96,
   "metadata": {},
   "outputs": [
    {
     "data": {
      "text/plain": [
       "Index(['id', 'commonNames', 'scientificNameWithoutAuthor',\n",
       "       'scientificNameAuthorship', 'gbifId', 'powoId', 'iucnCategory',\n",
       "       'WikipediaWordCount', 'rarityGpt', 'numberOfOccurrences',\n",
       "       'occurences_cdf'],\n",
       "      dtype='object')"
      ]
     },
     "execution_count": 96,
     "metadata": {},
     "output_type": "execute_result"
    }
   ],
   "source": [
    "merged_df.keys()"
   ]
  },
  {
   "cell_type": "code",
   "execution_count": 261,
   "metadata": {},
   "outputs": [],
   "source": [
    "# df_final_final = pd.merge(merged_df, df_cleaned[['taxon_name', 'powo_id', 'family', 'genus', 'first_published_cleaned']], how='left', left_on='scientificNameWithoutAuthor', right_on='taxon_name')\n",
    "df_final_final = pd.merge(merged_df, df_cleaned[['taxon_name', 'powo_id', 'family', 'genus', 'first_published_cleaned']], how='left', left_on='powoId', right_on='powo_id')"
   ]
  },
  {
   "cell_type": "code",
   "execution_count": 262,
   "metadata": {},
   "outputs": [
    {
     "name": "stdout",
     "output_type": "stream",
     "text": [
      "1\n",
      "9\n"
     ]
    }
   ],
   "source": [
    "print(sum(df_final_final['powoId'].isna()))\n",
    "print(sum(df_final_final['powo_id'].isna()))"
   ]
  },
  {
   "cell_type": "code",
   "execution_count": 216,
   "metadata": {},
   "outputs": [
    {
     "data": {
      "text/plain": [
       "Index(['id', 'commonNames', 'scientificNameWithoutAuthor',\n",
       "       'scientificNameAuthorship', 'gbifId', 'powoId', 'iucnCategory',\n",
       "       'WikipediaWordCount', 'rarityGpt', 'numberOfOccurrences',\n",
       "       'occurences_cdf', 'taxon_name', 'powo_id', 'family', 'genus',\n",
       "       'first_published_cleaned'],\n",
       "      dtype='object')"
      ]
     },
     "execution_count": 216,
     "metadata": {},
     "output_type": "execute_result"
    }
   ],
   "source": [
    "df_final_final.keys()"
   ]
  },
  {
   "cell_type": "code",
   "execution_count": 264,
   "metadata": {},
   "outputs": [
    {
     "name": "stdout",
     "output_type": "stream",
     "text": [
      "1\n",
      "4\n"
     ]
    }
   ],
   "source": [
    "na_rows = df_final_final[df_final_final['family'].isna()]\n",
    "updated_na_rows = pd.merge(\n",
    "    na_rows.drop(columns=['taxon_name', 'family', 'genus', 'first_published_cleaned', 'powo_id']),  # Drop conflicting columns\n",
    "    df_cleaned[['taxon_name', 'powo_id', 'family', 'genus', 'first_published_cleaned']],\n",
    "    how='left',\n",
    "    left_on='scientificNameWithoutAuthor',\n",
    "    right_on='taxon_name'\n",
    ")\n",
    "df_final_final = df_final_final.dropna(subset=['family'])\n",
    "df_final_final = pd.concat([df_final_final, updated_na_rows], ignore_index=True)\n",
    "\n",
    "print(sum(df_final_final['powoId'].isna()))\n",
    "print(sum(df_final_final['powo_id'].isna()))\n"
   ]
  },
  {
   "cell_type": "code",
   "execution_count": 273,
   "metadata": {},
   "outputs": [
    {
     "name": "stdout",
     "output_type": "stream",
     "text": [
      "36469\n",
      "36469\n"
     ]
    }
   ],
   "source": [
    "print(len(merged_df))\n",
    "print(len(df_final_final))"
   ]
  },
  {
   "cell_type": "code",
   "execution_count": 271,
   "metadata": {},
   "outputs": [
    {
     "data": {
      "text/html": [
       "<div>\n",
       "<style scoped>\n",
       "    .dataframe tbody tr th:only-of-type {\n",
       "        vertical-align: middle;\n",
       "    }\n",
       "\n",
       "    .dataframe tbody tr th {\n",
       "        vertical-align: top;\n",
       "    }\n",
       "\n",
       "    .dataframe thead th {\n",
       "        text-align: right;\n",
       "    }\n",
       "</style>\n",
       "<table border=\"1\" class=\"dataframe\">\n",
       "  <thead>\n",
       "    <tr style=\"text-align: right;\">\n",
       "      <th></th>\n",
       "      <th>id</th>\n",
       "      <th>commonNames</th>\n",
       "      <th>scientificNameWithoutAuthor</th>\n",
       "      <th>scientificNameAuthorship</th>\n",
       "      <th>gbifId</th>\n",
       "      <th>powoId</th>\n",
       "      <th>iucnCategory</th>\n",
       "      <th>WikipediaWordCount</th>\n",
       "      <th>rarityGpt</th>\n",
       "      <th>numberOfOccurrences</th>\n",
       "      <th>occurrencesCdf</th>\n",
       "      <th>powoIdReal</th>\n",
       "      <th>family</th>\n",
       "      <th>genus</th>\n",
       "      <th>firstPublished</th>\n",
       "    </tr>\n",
       "  </thead>\n",
       "  <tbody>\n",
       "    <tr>\n",
       "      <th>36461</th>\n",
       "      <td>1376705</td>\n",
       "      <td>['Kaduk Malaysia', 'Wild pepper', 'Lá lốt', 'S...</td>\n",
       "      <td>Piper sarmentosum</td>\n",
       "      <td>Roxb.</td>\n",
       "      <td>4191172.0</td>\n",
       "      <td>683277-1</td>\n",
       "      <td>NaN</td>\n",
       "      <td>641.0</td>\n",
       "      <td>3.6</td>\n",
       "      <td>5.0</td>\n",
       "      <td>0.008993</td>\n",
       "      <td>683278-1</td>\n",
       "      <td>Piperaceae</td>\n",
       "      <td>Piper</td>\n",
       "      <td>1810.0</td>\n",
       "    </tr>\n",
       "    <tr>\n",
       "      <th>36462</th>\n",
       "      <td>1376705</td>\n",
       "      <td>['Kaduk Malaysia', 'Wild pepper', 'Lá lốt', 'S...</td>\n",
       "      <td>Piper sarmentosum</td>\n",
       "      <td>Roxb.</td>\n",
       "      <td>4191172.0</td>\n",
       "      <td>683277-1</td>\n",
       "      <td>NaN</td>\n",
       "      <td>641.0</td>\n",
       "      <td>3.6</td>\n",
       "      <td>5.0</td>\n",
       "      <td>0.008993</td>\n",
       "      <td>683276-1</td>\n",
       "      <td>Piperaceae</td>\n",
       "      <td>Piper</td>\n",
       "      <td>1832.0</td>\n",
       "    </tr>\n",
       "  </tbody>\n",
       "</table>\n",
       "</div>"
      ],
      "text/plain": [
       "            id                                        commonNames  \\\n",
       "36461  1376705  ['Kaduk Malaysia', 'Wild pepper', 'Lá lốt', 'S...   \n",
       "36462  1376705  ['Kaduk Malaysia', 'Wild pepper', 'Lá lốt', 'S...   \n",
       "\n",
       "      scientificNameWithoutAuthor scientificNameAuthorship     gbifId  \\\n",
       "36461           Piper sarmentosum                    Roxb.  4191172.0   \n",
       "36462           Piper sarmentosum                    Roxb.  4191172.0   \n",
       "\n",
       "         powoId iucnCategory  WikipediaWordCount  rarityGpt  \\\n",
       "36461  683277-1          NaN               641.0        3.6   \n",
       "36462  683277-1          NaN               641.0        3.6   \n",
       "\n",
       "       numberOfOccurrences  occurrencesCdf powoIdReal      family  genus  \\\n",
       "36461                  5.0        0.008993   683278-1  Piperaceae  Piper   \n",
       "36462                  5.0        0.008993   683276-1  Piperaceae  Piper   \n",
       "\n",
       "       firstPublished  \n",
       "36461          1810.0  \n",
       "36462          1832.0  "
      ]
     },
     "execution_count": 271,
     "metadata": {},
     "output_type": "execute_result"
    }
   ],
   "source": [
    "df_final_final[df_final_final.duplicated(subset=['scientificNameWithoutAuthor'], keep=False)]"
   ]
  },
  {
   "cell_type": "code",
   "execution_count": 272,
   "metadata": {},
   "outputs": [],
   "source": [
    "# remove the duplicates where powoIdReal is 683278-1\n",
    "indexes_to_drop = df_final_final[df_final_final['powoIdReal'] == '683278-1'].index\n",
    "df_final_final.drop(indexes_to_drop, inplace=True)"
   ]
  },
  {
   "cell_type": "code",
   "execution_count": 275,
   "metadata": {},
   "outputs": [],
   "source": [
    "df_final_final.drop(columns=['taxon_name'], inplace=True)"
   ]
  },
  {
   "cell_type": "code",
   "execution_count": 266,
   "metadata": {},
   "outputs": [],
   "source": [
    "df_final_final.rename(columns={'first_published_cleaned': 'firstPublished'}, inplace=True)\n",
    "df_final_final.rename(columns={'occurences_cdf': 'occurrencesCdf'}, inplace=True)\n",
    "df_final_final.rename(columns={'powo_id': 'powoIdReal'}, inplace=True)"
   ]
  },
  {
   "cell_type": "code",
   "execution_count": 239,
   "metadata": {},
   "outputs": [
    {
     "data": {
      "text/plain": [
       "Index(['id', 'commonNames', 'scientificNameWithoutAuthor',\n",
       "       'scientificNameAuthorship', 'gbifId', 'powoId', 'iucnCategory',\n",
       "       'WikipediaWordCount', 'rarityGpt', 'numberOfOccurrences',\n",
       "       'occurrencesCdf', 'powoIdReal', 'family', 'genus', 'firstPublished'],\n",
       "      dtype='object')"
      ]
     },
     "execution_count": 239,
     "metadata": {},
     "output_type": "execute_result"
    }
   ],
   "source": [
    "df_final_final.keys()"
   ]
  },
  {
   "cell_type": "code",
   "execution_count": 277,
   "metadata": {},
   "outputs": [],
   "source": [
    "df_final_final.to_csv('data/species.csv', index=False)"
   ]
  },
  {
   "cell_type": "code",
   "execution_count": 121,
   "metadata": {},
   "outputs": [
    {
     "data": {
      "text/plain": [
       "1"
      ]
     },
     "execution_count": 121,
     "metadata": {},
     "output_type": "execute_result"
    }
   ],
   "source": [
    "sum(df_rarity['powoId'].isna())"
   ]
  },
  {
   "cell_type": "code",
   "execution_count": 124,
   "metadata": {},
   "outputs": [
    {
     "data": {
      "text/plain": [
       "1"
      ]
     },
     "execution_count": 124,
     "metadata": {},
     "output_type": "execute_result"
    }
   ],
   "source": [
    "sum(df['powoId'].isna())"
   ]
  },
  {
   "cell_type": "code",
   "execution_count": 125,
   "metadata": {},
   "outputs": [],
   "source": [
    "pd_species = pd.read_csv('/home/n-grinsztajn/PycharmProjects/nature-go-wiki/data/species.csv')"
   ]
  },
  {
   "cell_type": "code",
   "execution_count": 241,
   "metadata": {},
   "outputs": [
    {
     "data": {
      "text/plain": [
       "1"
      ]
     },
     "execution_count": 241,
     "metadata": {},
     "output_type": "execute_result"
    }
   ],
   "source": [
    "sum(pd_species['powoId'].isna())"
   ]
  },
  {
   "cell_type": "code",
   "execution_count": 127,
   "metadata": {},
   "outputs": [
    {
     "data": {
      "text/plain": [
       "1"
      ]
     },
     "execution_count": 127,
     "metadata": {},
     "output_type": "execute_result"
    }
   ],
   "source": [
    "sum(full_df['powoId'].isna())"
   ]
  },
  {
   "cell_type": "code",
   "execution_count": 133,
   "metadata": {},
   "outputs": [
    {
     "data": {
      "text/plain": [
       "1"
      ]
     },
     "execution_count": 133,
     "metadata": {},
     "output_type": "execute_result"
    }
   ],
   "source": [
    "sum(merged_df['powoId'].isna())"
   ]
  },
  {
   "cell_type": "code",
   "execution_count": 142,
   "metadata": {},
   "outputs": [
    {
     "name": "stdout",
     "output_type": "stream",
     "text": [
      "0\n",
      "0\n"
     ]
    }
   ],
   "source": [
    "print(sum(df_cleaned['powo_id'].isna()))\n",
    "print(sum(df_cleaned['family'].isna()))"
   ]
  },
  {
   "cell_type": "code",
   "execution_count": 180,
   "metadata": {},
   "outputs": [
    {
     "data": {
      "text/plain": [
       "1"
      ]
     },
     "execution_count": 180,
     "metadata": {},
     "output_type": "execute_result"
    }
   ],
   "source": [
    "sum(df_final_final['powoId'].isna())"
   ]
  },
  {
   "cell_type": "code",
   "execution_count": 153,
   "metadata": {},
   "outputs": [
    {
     "data": {
      "text/plain": [
       "1199034    748286-1\n",
       "Name: powo_id, dtype: object"
      ]
     },
     "execution_count": 153,
     "metadata": {},
     "output_type": "execute_result"
    }
   ],
   "source": [
    "df_cleaned[df_cleaned['taxon_name'] == \"Dentella repens\"]['powo_id']"
   ]
  },
  {
   "cell_type": "code",
   "execution_count": 154,
   "metadata": {},
   "outputs": [
    {
     "data": {
      "text/plain": [
       "28485    748287-1\n",
       "Name: powoId, dtype: object"
      ]
     },
     "execution_count": 154,
     "metadata": {},
     "output_type": "execute_result"
    }
   ],
   "source": [
    "pd_species[pd_species['scientificNameWithoutAuthor'] == \"Dentella repens\"]['powoId']"
   ]
  },
  {
   "cell_type": "code",
   "execution_count": 229,
   "metadata": {},
   "outputs": [
    {
     "data": {
      "text/plain": [
       "38"
      ]
     },
     "execution_count": 229,
     "metadata": {},
     "output_type": "execute_result"
    }
   ],
   "source": [
    "pd_species['gbifId'].isna().sum()"
   ]
  },
  {
   "cell_type": "markdown",
   "metadata": {},
   "source": [
    "## Dataset analysis"
   ]
  },
  {
   "cell_type": "code",
   "execution_count": 244,
   "metadata": {},
   "outputs": [
    {
     "data": {
      "text/plain": [
       "36470"
      ]
     },
     "execution_count": 244,
     "metadata": {},
     "output_type": "execute_result"
    }
   ],
   "source": [
    "len(df_final_final)"
   ]
  }
 ],
 "metadata": {
  "kernelspec": {
   "display_name": "wiki2",
   "language": "python",
   "name": "python3"
  },
  "language_info": {
   "codemirror_mode": {
    "name": "ipython",
    "version": 3
   },
   "file_extension": ".py",
   "mimetype": "text/x-python",
   "name": "python",
   "nbconvert_exporter": "python",
   "pygments_lexer": "ipython3",
   "version": "3.10.13"
  },
  "orig_nbformat": 4
 },
 "nbformat": 4,
 "nbformat_minor": 2
}
