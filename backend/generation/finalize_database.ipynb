{
 "cells": [
  {
   "cell_type": "code",
   "execution_count": 246,
   "metadata": {},
   "outputs": [],
   "source": [
    "import pandas as pd\n",
    "\n",
    "df = pd.read_csv('/home/n-grinsztajn/PycharmProjects/nature-go-wiki/data/useful_data/species_with_word_count.csv')"
   ]
  },
  {
   "cell_type": "code",
   "execution_count": 248,
   "metadata": {},
   "outputs": [],
   "source": [
    "df_rarity = pd.read_csv('/home/n-grinsztajn/PycharmProjects/nature-go-wiki/data/useful_data/species_with_rarity2.csv')\n",
    "rarity_columns = ['rarity_batch_0', 'rarity_batch_1', 'rarity_batch_2', 'rarity_batch_3', 'rarity_batch_4']\n",
    "df_rarity['rarity_gpt'] = df_rarity[rarity_columns].mean(axis=1)\n"
   ]
  },
  {
   "cell_type": "code",
   "execution_count": 89,
   "metadata": {},
   "outputs": [
    {
     "data": {
      "text/plain": [
       "array([[<Axes: title={'center': 'rarity_gpt'}>]], dtype=object)"
      ]
     },
     "execution_count": 89,
     "metadata": {},
     "output_type": "execute_result"
    },
    {
     "data": {
      "image/png": "[encoded data removed]",
      "text/plain": [
       "<Figure size 640x480 with 1 Axes>"
      ]
     },
     "metadata": {},
     "output_type": "display_data"
    }
   ],
   "source": [
    "df_rarity.hist(column='rarity_gpt', bins=200)"
   ]
  },
  {
   "cell_type": "code",
   "execution_count": 249,
   "metadata": {},
   "outputs": [],
   "source": [
    "full_df = pd.merge(df, df_rarity[['id', 'rarity_gpt']], on='id', how='inner')\n",
    "full_df.rename(columns={'rarity_gpt': 'rarityGpt'}, inplace=True)"
   ]
  },
  {
   "cell_type": "code",
   "execution_count": 250,
   "metadata": {},
   "outputs": [
    {
     "data": {
      "text/plain": [
       "18433"
      ]
     },
     "execution_count": 250,
     "metadata": {},
     "output_type": "execute_result"
    }
   ],
   "source": [
    "(full_df['WikipediaWordCount'] > 0).sum()\n"
   ]
  },
  {
   "cell_type": "code",
   "execution_count": 253,
   "metadata": {},
   "outputs": [],
   "source": [
    "df_legacy = pd.read_csv('/home/n-grinsztajn/PycharmProjects/nature-go-wiki/data/useful_data/plantnet_species_legacy.csv')\n",
    "df_legacy = df_legacy.drop_duplicates(subset=['species'])\n"
   ]
  },
  {
   "cell_type": "code",
   "execution_count": 254,
   "metadata": {},
   "outputs": [
    {
     "name": "stdout",
     "output_type": "stream",
     "text": [
      "36469\n",
      "36469\n"
     ]
    }
   ],
   "source": [
    "merged_df = pd.merge(full_df, df_legacy[['species', 'numberOfOccurrences']], how='left', left_on='scientificNameWithoutAuthor', right_on='species')\n",
    "print(len(merged_df))\n",
    "# Update numberOfOccurrences in df1\n",
    "merged_df['numberOfOccurrences'] = merged_df['numberOfOccurrences'].fillna(-1)\n",
    "print(len(merged_df))"
   ]
  },
  {
   "cell_type": "code",
   "execution_count": 255,
   "metadata": {},
   "outputs": [
    {
     "data": {
      "text/plain": [
       "14169"
      ]
     },
     "execution_count": 255,
     "metadata": {},
     "output_type": "execute_result"
    }
   ],
   "source": [
    "sum(merged_df['numberOfOccurrences'] > 0)"
   ]
  },
  {
   "cell_type": "code",
   "execution_count": 256,
   "metadata": {},
   "outputs": [],
   "source": [
    "merged_df.drop(columns=['species'], inplace=True)"
   ]
  },
  {
   "cell_type": "code",
   "execution_count": 257,
   "metadata": {},
   "outputs": [
    {
     "data": {
      "text/plain": [
       "{'common': 510, 'uncommon': 1322, 'rare': 4120, 'legendary': 5964}"
      ]
     },
     "execution_count": 257,
     "metadata": {},
     "output_type": "execute_result"
    }
   ],
   "source": [
    "p_rarity = {'legendary': 0.01, 'rare': 0.10, 'uncommon': 0.20, 'common': 0.68}\n",
    "\n",
    "# Sort the p_rarity dictionary by value in descending order\n",
    "sorted_rarity = {k: v for k, v in sorted(p_rarity.items(), key=lambda item: item[1], reverse=True)}\n",
    "\n",
    "merged_df['occurencePositif'] = merged_df['numberOfOccurrences'].replace(-1, 0)\n",
    "\n",
    "merged_df = merged_df.sort_values(by='occurencePositif', ascending=False)\n",
    "merged_df.reset_index(drop=True, inplace=True)\n",
    "\n",
    "# Calculate the cumulative sum of 'numberOfOccurrences'\n",
    "merged_df['cumulative_sum'] = merged_df['occurencePositif'].cumsum()\n",
    "merged_df['occurences_cdf'] = 1 - merged_df['cumulative_sum'] / merged_df['occurencePositif'].sum()\n",
    "\n",
    "# Calculate the total number of occurrences\n",
    "total_occurrences = merged_df['occurencePositif'].sum()\n",
    "\n",
    "# Initialize an empty dictionary to store the results\n",
    "index_rarity = {}\n",
    "\n",
    "# Initialize a variable to keep track of the cumulative percentage\n",
    "cumulative_percent = 0\n",
    "\n",
    "# Loop through each rarity level and find the corresponding index\n",
    "for rarity, percent in sorted_rarity.items():\n",
    "    cumulative_percent += percent\n",
    "    index = merged_df[merged_df['cumulative_sum'] >= cumulative_percent * total_occurrences].index[0]\n",
    "    index_rarity[rarity] = index\n",
    "\n",
    "index_rarity"
   ]
  },
  {
   "cell_type": "code",
   "execution_count": 258,
   "metadata": {},
   "outputs": [],
   "source": [
    "merged_df.drop(columns=['cumulative_sum', 'occurencePositif'], inplace=True)"
   ]
  },
  {
   "cell_type": "code",
   "execution_count": 90,
   "metadata": {},
   "outputs": [],
   "source": [
    "merged_df.to_csv('data/species_final.csv', index=False)"
   ]
  },
  {
   "cell_type": "code",
   "execution_count": null,
   "metadata": {},
   "outputs": [],
   "source": [
    "# get the discovery date + genus + family"
   ]
  },
  {
   "cell_type": "code",
   "execution_count": 259,
   "metadata": {},
   "outputs": [
    {
     "name": "stderr",
     "output_type": "stream",
     "text": [
      "Skipping line 684912: expected 31 fields, saw 35\n",
      "\n",
      "/tmp/ipykernel_125926/3244673053.py:3: DtypeWarning: Columns (26) have mixed types. Specify dtype option on import or set low_memory=False.\n",
      "  df = pd.read_csv(\"/home/n-grinsztajn/PycharmProjects/nature-go-wiki/data/wcvp_names.csv\", delimiter='|', on_bad_lines='warn')\n"
     ]
    },
    {
     "name": "stdout",
     "output_type": "stream",
     "text": [
      "1418847\n",
      "1028579\n"
     ]
    },
    {
     "name": "stderr",
     "output_type": "stream",
     "text": [
      "/tmp/ipykernel_125926/3244673053.py:18: SettingWithCopyWarning: \n",
      "A value is trying to be set on a copy of a slice from a DataFrame.\n",
      "Try using .loc[row_indexer,col_indexer] = value instead\n",
      "\n",
      "See the caveats in the documentation: https://pandas.pydata.org/pandas-docs/stable/user_guide/indexing.html#returning-a-view-versus-a-copy\n",
      "  df_cleaned['first_published_cleaned'] = df_cleaned['first_published_cleaned'].astype(int)\n"
     ]
    },
    {
     "name": "stdout",
     "output_type": "stream",
     "text": [
      "47558\n",
      "0\n"
     ]
    }
   ],
   "source": [
    "import re\n",
    "\n",
    "df = pd.read_csv(\"/home/n-grinsztajn/PycharmProjects/nature-go-wiki/data/wcvp_names.csv\", delimiter='|', on_bad_lines='warn')\n",
    "print(len(df))\n",
    "df = df.loc[df['taxon_rank'] == 'Species']\n",
    "# df = df.loc[df['taxon_status'] == 'Accepted']\n",
    "print(len(df))\n",
    "\n",
    "df['first_published_str'] = df['first_published'].astype(str)\n",
    "\n",
    "# Use regular expressions to extract the first 4-digit number from each entry\n",
    "df['first_published_cleaned'] = df['first_published_str'].apply(lambda x: int(re.search(r'\\d{4}', x).group()) if re.search(r'\\d{4}', x) else None)\n",
    "\n",
    "# Drop rows where cleaned 'first_published' is None\n",
    "df_cleaned = df.dropna(subset=['first_published_cleaned'])\n",
    "\n",
    "# Convert to integers\n",
    "df_cleaned['first_published_cleaned'] = df_cleaned['first_published_cleaned'].astype(int)\n",
    "\n",
    "print(sum(df_cleaned['taxon_name'].duplicated()))\n",
    "\n",
    "df_cleaned_no_duplicates = df_cleaned.loc[df['taxon_status'] == 'Accepted']\n",
    "print(sum(df_cleaned_no_duplicates['taxon_name'].duplicated()))"
   ]
  },
  {
   "cell_type": "code",
   "execution_count": 260,
   "metadata": {},
   "outputs": [
    {
     "data": {
      "text/plain": [
       "taxon_status\n",
       "Synonym              564112\n",
       "Accepted             356364\n",
       "Unplaced              39833\n",
       "Illegitimate          39292\n",
       "Invalid               23087\n",
       "Orthographic           1679\n",
       "Artificial Hybrid      1565\n",
       "Misapplied             1102\n",
       "Local Biotype          1090\n",
       "Name: count, dtype: int64"
      ]
     },
     "execution_count": 260,
     "metadata": {},
     "output_type": "execute_result"
    }
   ],
   "source": [
    "df_cleaned['taxon_status'].value_counts()"
   ]
  },
  {
   "cell_type": "code",
   "execution_count": 96,
   "metadata": {},
   "outputs": [
    {
     "data": {
      "text/plain": [
       "Index(['id', 'commonNames', 'scientificNameWithoutAuthor',\n",
       "       'scientificNameAuthorship', 'gbifId', 'powoId', 'iucnCategory',\n",
       "       'WikipediaWordCount', 'rarityGpt', 'numberOfOccurrences',\n",
       "       'occurences_cdf'],\n",
       "      dtype='object')"
      ]
     },
     "execution_count": 96,
     "metadata": {},
     "output_type": "execute_result"
    }
   ],
   "source": [
    "merged_df.keys()"
   ]
  },
  {
   "cell_type": "code",
   "execution_count": 261,
   "metadata": {},
   "outputs": [],
   "source": [
    "# df_final_final = pd.merge(merged_df, df_cleaned[['taxon_name', 'powo_id', 'family', 'genus', 'first_published_cleaned']], how='left', left_on='scientificNameWithoutAuthor', right_on='taxon_name')\n",
    "df_final_final = pd.merge(merged_df, df_cleaned[['taxon_name', 'powo_id', 'family', 'genus', 'first_published_cleaned']], how='left', left_on='powoId', right_on='powo_id')"
   ]
  },
  {
   "cell_type": "code",
   "execution_count": 262,
   "metadata": {},
   "outputs": [
    {
     "name": "stdout",
     "output_type": "stream",
     "text": [
      "1\n",
      "9\n"
     ]
    }
   ],
   "source": [
    "print(sum(df_final_final['powoId'].isna()))\n",
    "print(sum(df_final_final['powo_id'].isna()))"
   ]
  },
  {
   "cell_type": "code",
   "execution_count": 216,
   "metadata": {},
   "outputs": [
    {
     "data": {
      "text/plain": [
       "Index(['id', 'commonNames', 'scientificNameWithoutAuthor',\n",
       "       'scientificNameAuthorship', 'gbifId', 'powoId', 'iucnCategory',\n",
       "       'WikipediaWordCount', 'rarityGpt', 'numberOfOccurrences',\n",
       "       'occurences_cdf', 'taxon_name', 'powo_id', 'family', 'genus',\n",
       "       'first_published_cleaned'],\n",
       "      dtype='object')"
      ]
     },
     "execution_count": 216,
     "metadata": {},
     "output_type": "execute_result"
    }
   ],
   "source": [
    "df_final_final.keys()"
   ]
  },
  {
   "cell_type": "code",
   "execution_count": 264,
   "metadata": {},
   "outputs": [
    {
     "name": "stdout",
     "output_type": "stream",
     "text": [
      "1\n",
      "4\n"
     ]
    }
   ],
   "source": [
    "na_rows = df_final_final[df_final_final['family'].isna()]\n",
    "updated_na_rows = pd.merge(\n",
    "    na_rows.drop(columns=['taxon_name', 'family', 'genus', 'first_published_cleaned', 'powo_id']),  # Drop conflicting columns\n",
    "    df_cleaned[['taxon_name', 'powo_id', 'family', 'genus', 'first_published_cleaned']],\n",
    "    how='left',\n",
    "    left_on='scientificNameWithoutAuthor',\n",
    "    right_on='taxon_name'\n",
    ")\n",
    "df_final_final = df_final_final.dropna(subset=['family'])\n",
    "df_final_final = pd.concat([df_final_final, updated_na_rows], ignore_index=True)\n",
    "\n",
    "print(sum(df_final_final['powoId'].isna()))\n",
    "print(sum(df_final_final['powo_id'].isna()))\n"
   ]
  },
  {
   "cell_type": "code",
   "execution_count": 273,
   "metadata": {},
   "outputs": [
    {
     "name": "stdout",
     "output_type": "stream",
     "text": [
      "36469\n",
      "36469\n"
     ]
    }
   ],
   "source": [
    "print(len(merged_df))\n",
    "print(len(df_final_final))"
   ]
  },
  {
   "cell_type": "code",
   "execution_count": 271,
   "metadata": {},
   "outputs": [
    {
     "data": {
      "text/html": [
       "<div>\n",
       "<style scoped>\n",
       "    .dataframe tbody tr th:only-of-type {\n",
       "        vertical-align: middle;\n",
       "    }\n",
       "\n",
       "    .dataframe tbody tr th {\n",
       "        vertical-align: top;\n",
       "    }\n",
       "\n",
       "    .dataframe thead th {\n",
       "        text-align: right;\n",
       "    }\n",
       "</style>\n",
       "<table border=\"1\" class=\"dataframe\">\n",
       "  <thead>\n",
       "    <tr style=\"text-align: right;\">\n",
       "      <th></th>\n",
       "      <th>id</th>\n",
       "      <th>commonNames</th>\n",
       "      <th>scientificNameWithoutAuthor</th>\n",
       "      <th>scientificNameAuthorship</th>\n",
       "      <th>gbifId</th>\n",
       "      <th>powoId</th>\n",
       "      <th>iucnCategory</th>\n",
       "      <th>WikipediaWordCount</th>\n",
       "      <th>rarityGpt</th>\n",
       "      <th>numberOfOccurrences</th>\n",
       "      <th>occurrencesCdf</th>\n",
       "      <th>powoIdReal</th>\n",
       "      <th>family</th>\n",
       "      <th>genus</th>\n",
       "      <th>firstPublished</th>\n",
       "    </tr>\n",
       "  </thead>\n",
       "  <tbody>\n",
       "    <tr>\n",
       "      <th>36461</th>\n",
       "      <td>1376705</td>\n",
       "      <td>['Kaduk Malaysia', 'Wild pepper', 'Lá lốt', 'S...</td>\n",
       "      <td>Piper sarmentosum</td>\n",
       "      <td>Roxb.</td>\n",
       "      <td>4191172.0</td>\n",
       "      <td>683277-1</td>\n",
       "      <td>NaN</td>\n",
       "      <td>641.0</td>\n",
       "      <td>3.6</td>\n",
       "      <td>5.0</td>\n",
       "      <td>0.008993</td>\n",
       "      <td>683278-1</td>\n",
       "      <td>Piperaceae</td>\n",
       "      <td>Piper</td>\n",
       "      <td>1810.0</td>\n",
       "    </tr>\n",
       "    <tr>\n",
       "      <th>36462</th>\n",
       "      <td>1376705</td>\n",
       "      <td>['Kaduk Malaysia', 'Wild pepper', 'Lá lốt', 'S...</td>\n",
       "      <td>Piper sarmentosum</td>\n",
       "      <td>Roxb.</td>\n",
       "      <td>4191172.0</td>\n",
       "      <td>683277-1</td>\n",
       "      <td>NaN</td>\n",
       "      <td>641.0</td>\n",
       "      <td>3.6</td>\n",
       "      <td>5.0</td>\n",
       "      <td>0.008993</td>\n",
       "      <td>683276-1</td>\n",
       "      <td>Piperaceae</td>\n",
       "      <td>Piper</td>\n",
       "      <td>1832.0</td>\n",
       "    </tr>\n",
       "  </tbody>\n",
       "</table>\n",
       "</div>"
      ],
      "text/plain": [
       "            id                                        commonNames  \\\n",
       "36461  1376705  ['Kaduk Malaysia', 'Wild pepper', 'Lá lốt', 'S...   \n",
       "36462  1376705  ['Kaduk Malaysia', 'Wild pepper', 'Lá lốt', 'S...   \n",
       "\n",
       "      scientificNameWithoutAuthor scientificNameAuthorship     gbifId  \\\n",
       "36461           Piper sarmentosum                    Roxb.  4191172.0   \n",
       "36462           Piper sarmentosum                    Roxb.  4191172.0   \n",
       "\n",
       "         powoId iucnCategory  WikipediaWordCount  rarityGpt  \\\n",
       "36461  683277-1          NaN               641.0        3.6   \n",
       "36462  683277-1          NaN               641.0        3.6   \n",
       "\n",
       "       numberOfOccurrences  occurrencesCdf powoIdReal      family  genus  \\\n",
       "36461                  5.0        0.008993   683278-1  Piperaceae  Piper   \n",
       "36462                  5.0        0.008993   683276-1  Piperaceae  Piper   \n",
       "\n",
       "       firstPublished  \n",
       "36461          1810.0  \n",
       "36462          1832.0  "
      ]
     },
     "execution_count": 271,
     "metadata": {},
     "output_type": "execute_result"
    }
   ],
   "source": [
    "df_final_final[df_final_final.duplicated(subset=['scientificNameWithoutAuthor'], keep=False)]"
   ]
  },
  {
   "cell_type": "code",
   "execution_count": 272,
   "metadata": {},
   "outputs": [],
   "source": [
    "# remove the duplicates where powoIdReal is 683278-1\n",
    "indexes_to_drop = df_final_final[df_final_final['powoIdReal'] == '683278-1'].index\n",
    "df_final_final.drop(indexes_to_drop, inplace=True)"
   ]
  },
  {
   "cell_type": "code",
   "execution_count": 275,
   "metadata": {},
   "outputs": [],
   "source": [
    "df_final_final.drop(columns=['taxon_name'], inplace=True)"
   ]
  },
  {
   "cell_type": "code",
   "execution_count": 266,
   "metadata": {},
   "outputs": [],
   "source": [
    "df_final_final.rename(columns={'first_published_cleaned': 'firstPublished'}, inplace=True)\n",
    "df_final_final.rename(columns={'occurences_cdf': 'occurrencesCdf'}, inplace=True)\n",
    "df_final_final.rename(columns={'powo_id': 'powoIdReal'}, inplace=True)"
   ]
  },
  {
   "cell_type": "code",
   "execution_count": 239,
   "metadata": {},
   "outputs": [
    {
     "data": {
      "text/plain": [
       "Index(['id', 'commonNames', 'scientificNameWithoutAuthor',\n",
       "       'scientificNameAuthorship', 'gbifId', 'powoId', 'iucnCategory',\n",
       "       'WikipediaWordCount', 'rarityGpt', 'numberOfOccurrences',\n",
       "       'occurrencesCdf', 'powoIdReal', 'family', 'genus', 'firstPublished'],\n",
       "      dtype='object')"
      ]
     },
     "execution_count": 239,
     "metadata": {},
     "output_type": "execute_result"
    }
   ],
   "source": [
    "df_final_final.keys()"
   ]
  },
  {
   "cell_type": "code",
   "execution_count": 277,
   "metadata": {},
   "outputs": [],
   "source": [
    "df_final_final.to_csv('data/species.csv', index=False)"
   ]
  },
  {
   "cell_type": "code",
   "execution_count": 121,
   "metadata": {},
   "outputs": [
    {
     "data": {
      "text/plain": [
       "1"
      ]
     },
     "execution_count": 121,
     "metadata": {},
     "output_type": "execute_result"
    }
   ],
   "source": [
    "sum(df_rarity['powoId'].isna())"
   ]
  },
  {
   "cell_type": "code",
   "execution_count": 124,
   "metadata": {},
   "outputs": [
    {
     "data": {
      "text/plain": [
       "1"
      ]
     },
     "execution_count": 124,
     "metadata": {},
     "output_type": "execute_result"
    }
   ],
   "source": [
    "sum(df['powoId'].isna())"
   ]
  },
  {
   "cell_type": "code",
   "execution_count": 125,
   "metadata": {},
   "outputs": [],
   "source": [
    "pd_species = pd.read_csv('/home/n-grinsztajn/PycharmProjects/nature-go-wiki/data/species.csv')"
   ]
  },
  {
   "cell_type": "code",
   "execution_count": 241,
   "metadata": {},
   "outputs": [
    {
     "data": {
      "text/plain": [
       "1"
      ]
     },
     "execution_count": 241,
     "metadata": {},
     "output_type": "execute_result"
    }
   ],
   "source": [
    "sum(pd_species['powoId'].isna())"
   ]
  },
  {
   "cell_type": "code",
   "execution_count": 127,
   "metadata": {},
   "outputs": [
    {
     "data": {
      "text/plain": [
       "1"
      ]
     },
     "execution_count": 127,
     "metadata": {},
     "output_type": "execute_result"
    }
   ],
   "source": [
    "sum(full_df['powoId'].isna())"
   ]
  },
  {
   "cell_type": "code",
   "execution_count": 133,
   "metadata": {},
   "outputs": [
    {
     "data": {
      "text/plain": [
       "1"
      ]
     },
     "execution_count": 133,
     "metadata": {},
     "output_type": "execute_result"
    }
   ],
   "source": [
    "sum(merged_df['powoId'].isna())"
   ]
  },
  {
   "cell_type": "code",
   "execution_count": 142,
   "metadata": {},
   "outputs": [
    {
     "name": "stdout",
     "output_type": "stream",
     "text": [
      "0\n",
      "0\n"
     ]
    }
   ],
   "source": [
    "print(sum(df_cleaned['powo_id'].isna()))\n",
    "print(sum(df_cleaned['family'].isna()))"
   ]
  },
  {
   "cell_type": "code",
   "execution_count": 180,
   "metadata": {},
   "outputs": [
    {
     "data": {
      "text/plain": [
       "1"
      ]
     },
     "execution_count": 180,
     "metadata": {},
     "output_type": "execute_result"
    }
   ],
   "source": [
    "sum(df_final_final['powoId'].isna())"
   ]
  },
  {
   "cell_type": "code",
   "execution_count": 153,
   "metadata": {},
   "outputs": [
    {
     "data": {
      "text/plain": [
       "1199034    748286-1\n",
       "Name: powo_id, dtype: object"
      ]
     },
     "execution_count": 153,
     "metadata": {},
     "output_type": "execute_result"
    }
   ],
   "source": [
    "df_cleaned[df_cleaned['taxon_name'] == \"Dentella repens\"]['powo_id']"
   ]
  },
  {
   "cell_type": "code",
   "execution_count": 154,
   "metadata": {},
   "outputs": [
    {
     "data": {
      "text/plain": [
       "28485    748287-1\n",
       "Name: powoId, dtype: object"
      ]
     },
     "execution_count": 154,
     "metadata": {},
     "output_type": "execute_result"
    }
   ],
   "source": [
    "pd_species[pd_species['scientificNameWithoutAuthor'] == \"Dentella repens\"]['powoId']"
   ]
  },
  {
   "cell_type": "code",
   "execution_count": 229,
   "metadata": {},
   "outputs": [
    {
     "data": {
      "text/plain": [
       "38"
      ]
     },
     "execution_count": 229,
     "metadata": {},
     "output_type": "execute_result"
    }
   ],
   "source": [
    "pd_species['gbifId'].isna().sum()"
   ]
  },
  {
   "cell_type": "markdown",
   "metadata": {},
   "source": [
    "## Dataset analysis"
   ]
  },
  {
   "cell_type": "code",
   "execution_count": 2,
   "metadata": {},
   "outputs": [
    {
     "data": {
      "text/plain": [
       "5925578.0"
      ]
     },
     "execution_count": 2,
     "metadata": {},
     "output_type": "execute_result"
    }
   ],
   "source": [
    "import pandas as pd\n",
    "import numpy as np\n",
    "\n",
    "\n",
    "df = pd.read_csv('data/species.csv')\n",
    "\n",
    "df['WikipediaWordCount'].sum()"
   ]
  },
  {
   "cell_type": "code",
   "execution_count": 3,
   "metadata": {},
   "outputs": [
    {
     "data": {
      "text/plain": [
       "11.851156000000001"
      ]
     },
     "execution_count": 3,
     "metadata": {},
     "output_type": "execute_result"
    }
   ],
   "source": [
    "# Whay's the cost if all that goes into the GPT-3 model?\n",
    "\n",
    "df['WikipediaWordCount'].sum() / 1000 * 0.002\n",
    "\n"
   ]
  },
  {
   "cell_type": "code",
   "execution_count": 7,
   "metadata": {},
   "outputs": [
    {
     "data": {
      "image/png": "[encoded data removed]",
      "text/plain": [
       "<Figure size 1000x500 with 1 Axes>"
      ]
     },
     "metadata": {},
     "output_type": "display_data"
    }
   ],
   "source": [
    "# plot ranked WikipediaWordCount\n",
    "import matplotlib.pyplot as plt\n",
    "import numpy as np\n",
    "\n",
    "df_sorted = df.sort_values(by='WikipediaWordCount', ascending=False)\n",
    "df_sorted.reset_index(drop=True, inplace=True)\n",
    "df_sorted = df_sorted[:10000]\n",
    "\n",
    "plt.figure(figsize=(10, 5))\n",
    "plt.bar(df_sorted.index, df_sorted['WikipediaWordCount'])\n",
    "plt.xlabel('Rank')\n",
    "plt.xticks(df_sorted.index, df_sorted.index + 1)  # Adding 1 to start the ranking from 1 instead of 0\n",
    "plt.ylabel('Wikipedia Word Count')\n",
    "plt.title('Wikipedia Word Count Ranked from Max to Min')\n",
    "plt.show()\n"
   ]
  },
  {
   "cell_type": "code",
   "execution_count": 283,
   "metadata": {},
   "outputs": [
    {
     "data": {
      "text/html": [
       "<div>\n",
       "<style scoped>\n",
       "    .dataframe tbody tr th:only-of-type {\n",
       "        vertical-align: middle;\n",
       "    }\n",
       "\n",
       "    .dataframe tbody tr th {\n",
       "        vertical-align: top;\n",
       "    }\n",
       "\n",
       "    .dataframe thead th {\n",
       "        text-align: right;\n",
       "    }\n",
       "</style>\n",
       "<table border=\"1\" class=\"dataframe\">\n",
       "  <thead>\n",
       "    <tr style=\"text-align: right;\">\n",
       "      <th></th>\n",
       "      <th>id</th>\n",
       "      <th>commonNames</th>\n",
       "      <th>scientificNameWithoutAuthor</th>\n",
       "      <th>scientificNameAuthorship</th>\n",
       "      <th>gbifId</th>\n",
       "      <th>powoId</th>\n",
       "      <th>iucnCategory</th>\n",
       "      <th>WikipediaWordCount</th>\n",
       "      <th>rarityGpt</th>\n",
       "      <th>numberOfOccurrences</th>\n",
       "      <th>occurrencesCdf</th>\n",
       "      <th>powoIdReal</th>\n",
       "      <th>family</th>\n",
       "      <th>genus</th>\n",
       "      <th>firstPublished</th>\n",
       "    </tr>\n",
       "  </thead>\n",
       "  <tbody>\n",
       "    <tr>\n",
       "      <th>26277</th>\n",
       "      <td>1388987</td>\n",
       "      <td>['Florida torreya', 'Gopherwood', 'Stinking-ce...</td>\n",
       "      <td>Torreya taxifolia</td>\n",
       "      <td>Arn.</td>\n",
       "      <td>5284481.0</td>\n",
       "      <td>264000-1</td>\n",
       "      <td>CR</td>\n",
       "      <td>13877.0</td>\n",
       "      <td>7.0</td>\n",
       "      <td>-1.0</td>\n",
       "      <td>0.000000</td>\n",
       "      <td>264000-1</td>\n",
       "      <td>Taxaceae</td>\n",
       "      <td>Torreya</td>\n",
       "      <td>1838.0</td>\n",
       "    </tr>\n",
       "    <tr>\n",
       "      <th>1658</th>\n",
       "      <td>1385873</td>\n",
       "      <td>['Coconut palm', 'Coconut', 'नारियल', 'Copra',...</td>\n",
       "      <td>Cocos nucifera</td>\n",
       "      <td>L.</td>\n",
       "      <td>2735117.0</td>\n",
       "      <td>666160-1</td>\n",
       "      <td>NaN</td>\n",
       "      <td>10854.0</td>\n",
       "      <td>1.6</td>\n",
       "      <td>124.0</td>\n",
       "      <td>0.088139</td>\n",
       "      <td>666160-1</td>\n",
       "      <td>Arecaceae</td>\n",
       "      <td>Cocos</td>\n",
       "      <td>1753.0</td>\n",
       "    </tr>\n",
       "    <tr>\n",
       "      <th>1069</th>\n",
       "      <td>1363500</td>\n",
       "      <td>['Corn', 'Sweet Corn', 'Maize', 'Indian corn',...</td>\n",
       "      <td>Zea mays</td>\n",
       "      <td>L.</td>\n",
       "      <td>5290052.0</td>\n",
       "      <td>426810-1</td>\n",
       "      <td>LC</td>\n",
       "      <td>10005.0</td>\n",
       "      <td>1.4</td>\n",
       "      <td>276.0</td>\n",
       "      <td>0.155632</td>\n",
       "      <td>426810-1</td>\n",
       "      <td>Poaceae</td>\n",
       "      <td>Zea</td>\n",
       "      <td>1753.0</td>\n",
       "    </tr>\n",
       "    <tr>\n",
       "      <th>1453</th>\n",
       "      <td>1362626</td>\n",
       "      <td>[\"Elephant's-ear\", 'Taro', 'بابا آدم', 'Elepha...</td>\n",
       "      <td>Colocasia esculenta</td>\n",
       "      <td>(L.) Schott</td>\n",
       "      <td>5330776.0</td>\n",
       "      <td>1170772-2</td>\n",
       "      <td>LC</td>\n",
       "      <td>9170.0</td>\n",
       "      <td>2.2</td>\n",
       "      <td>160.0</td>\n",
       "      <td>0.105871</td>\n",
       "      <td>1170772-2</td>\n",
       "      <td>Araceae</td>\n",
       "      <td>Colocasia</td>\n",
       "      <td>1832.0</td>\n",
       "    </tr>\n",
       "    <tr>\n",
       "      <th>2616</th>\n",
       "      <td>1366904</td>\n",
       "      <td>['Soybean', 'Soya', 'Soya-bean', 'Edamame', 'R...</td>\n",
       "      <td>Glycine max</td>\n",
       "      <td>(L.) Merr.</td>\n",
       "      <td>5359660.0</td>\n",
       "      <td>60450240-2</td>\n",
       "      <td>NaN</td>\n",
       "      <td>8254.0</td>\n",
       "      <td>4.4</td>\n",
       "      <td>46.0</td>\n",
       "      <td>0.043647</td>\n",
       "      <td>60450240-2</td>\n",
       "      <td>Fabaceae</td>\n",
       "      <td>Glycine</td>\n",
       "      <td>1917.0</td>\n",
       "    </tr>\n",
       "    <tr>\n",
       "      <th>34826</th>\n",
       "      <td>1720972</td>\n",
       "      <td>['Small Japanese Silver grass']</td>\n",
       "      <td>Miscanthus × longiberbis</td>\n",
       "      <td>(Hack.) Nakai</td>\n",
       "      <td>4149689.0</td>\n",
       "      <td>408749-1</td>\n",
       "      <td>NaN</td>\n",
       "      <td>7562.0</td>\n",
       "      <td>5.8</td>\n",
       "      <td>-1.0</td>\n",
       "      <td>0.000000</td>\n",
       "      <td>408749-1</td>\n",
       "      <td>Poaceae</td>\n",
       "      <td>Miscanthus</td>\n",
       "      <td>1917.0</td>\n",
       "    </tr>\n",
       "    <tr>\n",
       "      <th>3405</th>\n",
       "      <td>1356171</td>\n",
       "      <td>['Potato', 'Irish potato', 'Aéstomemésêhestôts...</td>\n",
       "      <td>Solanum tuberosum</td>\n",
       "      <td>L.</td>\n",
       "      <td>2930262.0</td>\n",
       "      <td>821337-1</td>\n",
       "      <td>NaN</td>\n",
       "      <td>7506.0</td>\n",
       "      <td>2.0</td>\n",
       "      <td>23.0</td>\n",
       "      <td>0.027971</td>\n",
       "      <td>821337-1</td>\n",
       "      <td>Solanaceae</td>\n",
       "      <td>Solanum</td>\n",
       "      <td>1753.0</td>\n",
       "    </tr>\n",
       "    <tr>\n",
       "      <th>228</th>\n",
       "      <td>1359676</td>\n",
       "      <td>['Olive', 'زیتون', 'Oliveleaf', 'Small-fruit o...</td>\n",
       "      <td>Olea europaea</td>\n",
       "      <td>L.</td>\n",
       "      <td>5415040.0</td>\n",
       "      <td>610675-1</td>\n",
       "      <td>NaN</td>\n",
       "      <td>6854.0</td>\n",
       "      <td>2.8</td>\n",
       "      <td>1742.0</td>\n",
       "      <td>0.525610</td>\n",
       "      <td>610675-1</td>\n",
       "      <td>Oleaceae</td>\n",
       "      <td>Olea</td>\n",
       "      <td>1753.0</td>\n",
       "    </tr>\n",
       "    <tr>\n",
       "      <th>9726</th>\n",
       "      <td>1389265</td>\n",
       "      <td>['Calico Aster', 'Calico Or One-Sided Or White...</td>\n",
       "      <td>Symphyotrichum lateriflorum</td>\n",
       "      <td>(L.) Á.Löve &amp; D.Löve</td>\n",
       "      <td>7832723.0</td>\n",
       "      <td>247115-2</td>\n",
       "      <td>NaN</td>\n",
       "      <td>6821.0</td>\n",
       "      <td>3.4</td>\n",
       "      <td>2.0</td>\n",
       "      <td>0.002934</td>\n",
       "      <td>247115-2</td>\n",
       "      <td>Asteraceae</td>\n",
       "      <td>Symphyotrichum</td>\n",
       "      <td>1982.0</td>\n",
       "    </tr>\n",
       "    <tr>\n",
       "      <th>1945</th>\n",
       "      <td>1396325</td>\n",
       "      <td>['Garden tomato', 'Tomato', 'Cherry Tomatoes',...</td>\n",
       "      <td>Solanum lycopersicum</td>\n",
       "      <td>L.</td>\n",
       "      <td>2930137.0</td>\n",
       "      <td>316947-2</td>\n",
       "      <td>NaN</td>\n",
       "      <td>6718.0</td>\n",
       "      <td>1.4</td>\n",
       "      <td>87.0</td>\n",
       "      <td>0.069839</td>\n",
       "      <td>316947-2</td>\n",
       "      <td>Solanaceae</td>\n",
       "      <td>Solanum</td>\n",
       "      <td>1753.0</td>\n",
       "    </tr>\n",
       "  </tbody>\n",
       "</table>\n",
       "</div>"
      ],
      "text/plain": [
       "            id                                        commonNames  \\\n",
       "26277  1388987  ['Florida torreya', 'Gopherwood', 'Stinking-ce...   \n",
       "1658   1385873  ['Coconut palm', 'Coconut', 'नारियल', 'Copra',...   \n",
       "1069   1363500  ['Corn', 'Sweet Corn', 'Maize', 'Indian corn',...   \n",
       "1453   1362626  [\"Elephant's-ear\", 'Taro', 'بابا آدم', 'Elepha...   \n",
       "2616   1366904  ['Soybean', 'Soya', 'Soya-bean', 'Edamame', 'R...   \n",
       "34826  1720972                    ['Small Japanese Silver grass']   \n",
       "3405   1356171  ['Potato', 'Irish potato', 'Aéstomemésêhestôts...   \n",
       "228    1359676  ['Olive', 'زیتون', 'Oliveleaf', 'Small-fruit o...   \n",
       "9726   1389265  ['Calico Aster', 'Calico Or One-Sided Or White...   \n",
       "1945   1396325  ['Garden tomato', 'Tomato', 'Cherry Tomatoes',...   \n",
       "\n",
       "       scientificNameWithoutAuthor scientificNameAuthorship     gbifId  \\\n",
       "26277            Torreya taxifolia                     Arn.  5284481.0   \n",
       "1658                Cocos nucifera                       L.  2735117.0   \n",
       "1069                      Zea mays                       L.  5290052.0   \n",
       "1453           Colocasia esculenta              (L.) Schott  5330776.0   \n",
       "2616                   Glycine max               (L.) Merr.  5359660.0   \n",
       "34826     Miscanthus × longiberbis            (Hack.) Nakai  4149689.0   \n",
       "3405             Solanum tuberosum                       L.  2930262.0   \n",
       "228                  Olea europaea                       L.  5415040.0   \n",
       "9726   Symphyotrichum lateriflorum     (L.) Á.Löve & D.Löve  7832723.0   \n",
       "1945          Solanum lycopersicum                       L.  2930137.0   \n",
       "\n",
       "           powoId iucnCategory  WikipediaWordCount  rarityGpt  \\\n",
       "26277    264000-1           CR             13877.0        7.0   \n",
       "1658     666160-1          NaN             10854.0        1.6   \n",
       "1069     426810-1           LC             10005.0        1.4   \n",
       "1453    1170772-2           LC              9170.0        2.2   \n",
       "2616   60450240-2          NaN              8254.0        4.4   \n",
       "34826    408749-1          NaN              7562.0        5.8   \n",
       "3405     821337-1          NaN              7506.0        2.0   \n",
       "228      610675-1          NaN              6854.0        2.8   \n",
       "9726     247115-2          NaN              6821.0        3.4   \n",
       "1945     316947-2          NaN              6718.0        1.4   \n",
       "\n",
       "       numberOfOccurrences  occurrencesCdf  powoIdReal      family  \\\n",
       "26277                 -1.0        0.000000    264000-1    Taxaceae   \n",
       "1658                 124.0        0.088139    666160-1   Arecaceae   \n",
       "1069                 276.0        0.155632    426810-1     Poaceae   \n",
       "1453                 160.0        0.105871   1170772-2     Araceae   \n",
       "2616                  46.0        0.043647  60450240-2    Fabaceae   \n",
       "34826                 -1.0        0.000000    408749-1     Poaceae   \n",
       "3405                  23.0        0.027971    821337-1  Solanaceae   \n",
       "228                 1742.0        0.525610    610675-1    Oleaceae   \n",
       "9726                   2.0        0.002934    247115-2  Asteraceae   \n",
       "1945                  87.0        0.069839    316947-2  Solanaceae   \n",
       "\n",
       "                genus  firstPublished  \n",
       "26277         Torreya          1838.0  \n",
       "1658            Cocos          1753.0  \n",
       "1069              Zea          1753.0  \n",
       "1453        Colocasia          1832.0  \n",
       "2616          Glycine          1917.0  \n",
       "34826      Miscanthus          1917.0  \n",
       "3405          Solanum          1753.0  \n",
       "228              Olea          1753.0  \n",
       "9726   Symphyotrichum          1982.0  \n",
       "1945          Solanum          1753.0  "
      ]
     },
     "execution_count": 283,
     "metadata": {},
     "output_type": "execute_result"
    }
   ],
   "source": [
    "# Which species have the highest WikipediaWordCount?\n",
    "df_final_final.sort_values(by='WikipediaWordCount', ascending=False).head(10)"
   ]
  },
  {
   "cell_type": "code",
   "execution_count": 4,
   "metadata": {},
   "outputs": [
    {
     "data": {
      "text/plain": [
       "<Axes: >"
      ]
     },
     "execution_count": 4,
     "metadata": {},
     "output_type": "execute_result"
    },
    {
     "data": {
      "image/png": "[encoded data removed]",
      "text/plain": [
       "<Figure size 640x480 with 1 Axes>"
      ]
     },
     "metadata": {},
     "output_type": "display_data"
    }
   ],
   "source": [
    "df.rarityGpt.hist(bins=200)"
   ]
  },
  {
   "cell_type": "code",
   "execution_count": 7,
   "metadata": {},
   "outputs": [
    {
     "data": {
      "text/plain": [
       "{'common': 510, 'uncommon': 1322, 'rare': 4120, 'legendary': 5964}"
      ]
     },
     "execution_count": 7,
     "metadata": {},
     "output_type": "execute_result"
    }
   ],
   "source": [
    "p_rarity = {'legendary': 0.01, 'rare': 0.10, 'uncommon': 0.20, 'common': 0.68}\n",
    "\n",
    "sorted_rarity = {k: v for k, v in sorted(p_rarity.items(), key=lambda item: item[1], reverse=True)}\n",
    "\n",
    "sorted_df = df.sort_values(by='occurrencesCdf', ascending=False)\n",
    "sorted_df.reset_index(drop=True, inplace=True)\n",
    "\n",
    "# Initialize an empty dictionary to store the results\n",
    "index_rarity = {}\n",
    "\n",
    "# Initialize a variable to keep track of the cumulative percentage\n",
    "cumulative_percent = 1\n",
    "\n",
    "# Loop through each rarity level and find the corresponding index\n",
    "for rarity, percent in sorted_rarity.items():\n",
    "    cumulative_percent -= percent\n",
    "    index = df[df['occurrencesCdf'] <= cumulative_percent].index[0]\n",
    "    index_rarity[rarity] = index\n",
    "\n",
    "index_rarity"
   ]
  },
  {
   "cell_type": "code",
   "execution_count": 11,
   "metadata": {},
   "outputs": [
    {
     "name": "stdout",
     "output_type": "stream",
     "text": [
      "510     2.4\n",
      "1322    3.0\n",
      "4120    3.6\n",
      "5964    3.8\n",
      "Name: rarityGpt, dtype: float64\n"
     ]
    }
   ],
   "source": [
    "sorted_df = df.sort_values(by='rarityGpt', ascending=True)\n",
    "sorted_df.reset_index(drop=True, inplace=True)\n",
    "\n",
    "print(sorted_df['rarityGpt'][[510, 1322, 4120, 5964]])"
   ]
  },
  {
   "cell_type": "code",
   "execution_count": 14,
   "metadata": {},
   "outputs": [
    {
     "data": {
      "image/png": "[encoded data removed]",
      "text/plain": [
       "<Figure size 1000x500 with 1 Axes>"
      ]
     },
     "metadata": {},
     "output_type": "display_data"
    }
   ],
   "source": [
    "# plot ranked WikipediaWordCount\n",
    "import matplotlib.pyplot as plt\n",
    "import numpy as np\n",
    "\n",
    "df_sorted = df.sort_values(by='rarityGpt', ascending=True)\n",
    "df_sorted.reset_index(drop=True, inplace=True)\n",
    "df_sorted = df_sorted[:20000]\n",
    "\n",
    "plt.figure(figsize=(10, 5))\n",
    "plt.bar(df_sorted.index, df_sorted['rarityGpt'])\n",
    "plt.xlabel('Rank')\n",
    "plt.xticks(df_sorted.index, df_sorted.index + 1)  # Adding 1 to start the ranking from 1 instead of 0\n",
    "plt.ylabel('rarityGpt')\n",
    "plt.title('rarityGpt Ranked from Max to Min')\n",
    "plt.show()"
   ]
  },
  {
   "cell_type": "code",
   "execution_count": null,
   "metadata": {},
   "outputs": [],
   "source": []
  }
 ],
 "metadata": {
  "kernelspec": {
   "display_name": "wiki2",
   "language": "python",
   "name": "python3"
  },
  "language_info": {
   "codemirror_mode": {
    "name": "ipython",
    "version": 3
   },
   "file_extension": ".py",
   "mimetype": "text/x-python",
   "name": "python",
   "nbconvert_exporter": "python",
   "pygments_lexer": "ipython3",
   "version": "3.10.13"
  },
  "orig_nbformat": 4
 },
 "nbformat": 4,
 "nbformat_minor": 2
}
