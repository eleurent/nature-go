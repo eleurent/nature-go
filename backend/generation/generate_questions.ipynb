{
 "cells": [
  {
   "cell_type": "code",
   "execution_count": 1,
   "metadata": {},
   "outputs": [],
   "source": [
    "import dataclasses\n",
    "import requests\n",
    "import logging\n",
    "import base64\n",
    "import pandas as pd\n",
    "import openai\n",
    "import os\n",
    "from dotenv import load_dotenv\n",
    "\n",
    "import nature_go_client\n",
    "from question_generation import generate_questions\n",
    "\n",
    "logger = logging.getLogger(__name__)\n",
    "\n",
    "BASE_URL = 'http://nature-go.edouardleurent.com'\n",
    "LOGIN_URL = BASE_URL + '/api/auth/login/'\n",
    "SPECIES_LIST_URL = BASE_URL + '/api/species/all/'\n",
    "SPECIES_DETAIL_URL = BASE_URL + '/api/species/{species_id}/'\n",
    "QUESTION_CREATE_URL = BASE_URL + '/api/university/quiz/questions/'\n",
    "\n",
    "# Your id here\n",
    "NG_USERNAME = 'nathangrinsztajn'\n",
    "NG_PASSWORD = 'vesper'\n",
    "\n",
    "load_dotenv()\n",
    "openai.api_key = os.getenv(\"OPENAI_API_KEY\")"
   ]
  },
  {
   "cell_type": "code",
   "execution_count": 2,
   "metadata": {},
   "outputs": [],
   "source": [
    "client = nature_go_client.NatureGoClient(username=NG_USERNAME, password=NG_PASSWORD)\n",
    "client.login()"
   ]
  },
  {
   "cell_type": "markdown",
   "metadata": {},
   "source": [
    "## Retrieve species with missing questions through Nature go API"
   ]
  },
  {
   "cell_type": "code",
   "execution_count": 3,
   "metadata": {},
   "outputs": [
    {
     "name": "stdout",
     "output_type": "stream",
     "text": [
      "Found 1 species without illustrations out of 2 total species\n"
     ]
    },
    {
     "data": {
      "text/html": [
       "<div>\n",
       "<style scoped>\n",
       "    .dataframe tbody tr th:only-of-type {\n",
       "        vertical-align: middle;\n",
       "    }\n",
       "\n",
       "    .dataframe tbody tr th {\n",
       "        vertical-align: top;\n",
       "    }\n",
       "\n",
       "    .dataframe thead th {\n",
       "        text-align: right;\n",
       "    }\n",
       "</style>\n",
       "<table border=\"1\" class=\"dataframe\">\n",
       "  <thead>\n",
       "    <tr style=\"text-align: right;\">\n",
       "      <th></th>\n",
       "      <th>id</th>\n",
       "      <th>commonNames</th>\n",
       "      <th>scientificName</th>\n",
       "      <th>scientificNameWithoutAuthor</th>\n",
       "      <th>genus</th>\n",
       "      <th>family</th>\n",
       "      <th>descriptions</th>\n",
       "      <th>illustration</th>\n",
       "      <th>illustration_transparent</th>\n",
       "      <th>wikipedia_image_url</th>\n",
       "      <th>illustration_url</th>\n",
       "      <th>display_name</th>\n",
       "    </tr>\n",
       "  </thead>\n",
       "  <tbody>\n",
       "    <tr>\n",
       "      <th>0</th>\n",
       "      <td>2</td>\n",
       "      <td>[Yellow Mountain Saxifrage, Evergreen Saxifrag...</td>\n",
       "      <td>Saxifraga aizoides L.</td>\n",
       "      <td>Saxifraga aizoides</td>\n",
       "      <td>Saxifraga</td>\n",
       "      <td>Saxifragaceae</td>\n",
       "      <td>[]</td>\n",
       "      <td>http://nature-go.edouardleurent.com/media/spec...</td>\n",
       "      <td>None</td>\n",
       "      <td></td>\n",
       "      <td>http://nature-go.edouardleurent.com/media/spec...</td>\n",
       "      <td>Yellow Mountain Saxifrage</td>\n",
       "    </tr>\n",
       "  </tbody>\n",
       "</table>\n",
       "</div>"
      ],
      "text/plain": [
       "   id                                        commonNames  \\\n",
       "0   2  [Yellow Mountain Saxifrage, Evergreen Saxifrag...   \n",
       "\n",
       "          scientificName scientificNameWithoutAuthor      genus  \\\n",
       "0  Saxifraga aizoides L.          Saxifraga aizoides  Saxifraga   \n",
       "\n",
       "          family descriptions  \\\n",
       "0  Saxifragaceae           []   \n",
       "\n",
       "                                        illustration illustration_transparent  \\\n",
       "0  http://nature-go.edouardleurent.com/media/spec...                     None   \n",
       "\n",
       "  wikipedia_image_url                                   illustration_url  \\\n",
       "0                      http://nature-go.edouardleurent.com/media/spec...   \n",
       "\n",
       "                display_name  \n",
       "0  Yellow Mountain Saxifrage  "
      ]
     },
     "execution_count": 3,
     "metadata": {},
     "output_type": "execute_result"
    }
   ],
   "source": [
    "species_list = client.get_all_species()\n",
    "questions_list = client.get_all_questions()\n",
    "\n",
    "id_with_questions = set([q['species'] for q in questions_list])\n",
    "species_without_questions = [s for s in species_list if not s['id'] in id_with_questions]\n",
    "\n",
    "print(f'Found {len(species_without_questions)} species without illustrations out of {len(species_list)} total species')\n",
    "pd.DataFrame(species_without_questions)"
   ]
  },
  {
   "cell_type": "markdown",
   "metadata": {},
   "source": [
    "## Run generation with openai API"
   ]
  },
  {
   "cell_type": "code",
   "execution_count": 4,
   "metadata": {},
   "outputs": [],
   "source": [
    "species_name, species_id = species_without_questions[0]['scientificName'], species_without_questions[0]['id']\n",
    "questions = generate_questions(species_name)"
   ]
  },
  {
   "cell_type": "code",
   "execution_count": 5,
   "metadata": {},
   "outputs": [
    {
     "data": {
      "text/plain": [
       "[{'question': 'How does Saxifraga aizoides spread and grow?',\n",
       "  'choices': ['Through tall stems',\n",
       "   'By forming large trees',\n",
       "   'Via short rhizomes, forming mats of small colonies',\n",
       "   'By producing long vines'],\n",
       "  'correct_choice': 2},\n",
       " {'question': 'What color are the flowers of Saxifraga aizoides?',\n",
       "  'choices': ['Red', 'Blue', 'Yellow-green', 'Purple'],\n",
       "  'correct_choice': 2},\n",
       " {'question': 'Where is Saxifraga aizoides found?',\n",
       "  'choices': ['Only in North America',\n",
       "   'Only in Europe',\n",
       "   'In both North America and Europe',\n",
       "   'Only in New York state'],\n",
       "  'correct_choice': 2},\n",
       " {'question': 'What is the conservation status of Saxifraga aizoides in New York state?',\n",
       "  'choices': ['Endangered', 'Threatened', 'Extinct', 'Least Concern'],\n",
       "  'correct_choice': 1}]"
      ]
     },
     "execution_count": 5,
     "metadata": {},
     "output_type": "execute_result"
    }
   ],
   "source": [
    "questions"
   ]
  },
  {
   "cell_type": "markdown",
   "metadata": {},
   "source": [
    "## Upload result to Nature Go API"
   ]
  },
  {
   "cell_type": "code",
   "execution_count": 6,
   "metadata": {},
   "outputs": [
    {
     "ename": "ValueError",
     "evalue": "http://nature-go.edouardleurent.com/api/university/quiz/questions/ failed with status  201 and response b'{\"id\":8,\"species\":2,\"question\":\"What is the conservation status of Saxifraga aizoides in New York state?\",\"choices\":[\"Endangered\",\"Threatened\",\"Extinct\",\"Least Concern\"],\"correct_choice\":1}'",
     "output_type": "error",
     "traceback": [
      "\u001b[0;31m---------------------------------------------------------------------------\u001b[0m",
      "\u001b[0;31mValueError\u001b[0m                                Traceback (most recent call last)",
      "Cell \u001b[0;32mIn[6], line 1\u001b[0m\n\u001b[0;32m----> 1\u001b[0m client\u001b[39m.\u001b[39;49mpost_species_questions(species_id, questions)\n",
      "File \u001b[0;32m~/PycharmProjects/nature-go/backend/generation/nature_go_client.py:81\u001b[0m, in \u001b[0;36mNatureGoClient.post_species_questions\u001b[0;34m(self, species_id, questions)\u001b[0m\n\u001b[1;32m     79\u001b[0m         logger\u001b[39m.\u001b[39minfo(\u001b[39mf\u001b[39m\u001b[39m'\u001b[39m\u001b[39mPosted questions for species \u001b[39m\u001b[39m{\u001b[39;00mspecies_id\u001b[39m}\u001b[39;00m\u001b[39m'\u001b[39m)\n\u001b[1;32m     80\u001b[0m \u001b[39melse\u001b[39;00m:\n\u001b[0;32m---> 81\u001b[0m     \u001b[39mraise\u001b[39;00m \u001b[39mValueError\u001b[39;00m(\u001b[39mf\u001b[39m\u001b[39m'\u001b[39m\u001b[39m{\u001b[39;00mQUESTION_CREATE_URL\u001b[39m}\u001b[39;00m\u001b[39m failed with status  \u001b[39m\u001b[39m{\u001b[39;00mresponse\u001b[39m.\u001b[39mstatus_code\u001b[39m}\u001b[39;00m\u001b[39m and response \u001b[39m\u001b[39m{\u001b[39;00mresponse\u001b[39m.\u001b[39mcontent\u001b[39m}\u001b[39;00m\u001b[39m'\u001b[39m)\n",
      "\u001b[0;31mValueError\u001b[0m: http://nature-go.edouardleurent.com/api/university/quiz/questions/ failed with status  201 and response b'{\"id\":8,\"species\":2,\"question\":\"What is the conservation status of Saxifraga aizoides in New York state?\",\"choices\":[\"Endangered\",\"Threatened\",\"Extinct\",\"Least Concern\"],\"correct_choice\":1}'"
     ]
    }
   ],
   "source": [
    "client.post_species_questions(species_id, questions)"
   ]
  },
  {
   "cell_type": "code",
   "execution_count": null,
   "metadata": {},
   "outputs": [],
   "source": [
    "# 201 is actually success for post"
   ]
  },
  {
   "cell_type": "markdown",
   "metadata": {},
   "source": []
  }
 ],
 "metadata": {
  "kernelspec": {
   "display_name": "wikipedia",
   "language": "python",
   "name": "python3"
  },
  "language_info": {
   "codemirror_mode": {
    "name": "ipython",
    "version": 3
   },
   "file_extension": ".py",
   "mimetype": "text/x-python",
   "name": "python",
   "nbconvert_exporter": "python",
   "pygments_lexer": "ipython3",
   "version": "3.10.12"
  },
  "orig_nbformat": 4
 },
 "nbformat": 4,
 "nbformat_minor": 2
}
