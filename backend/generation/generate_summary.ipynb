{
 "cells": [
  {
   "cell_type": "code",
   "execution_count": 1,
   "metadata": {},
   "outputs": [],
   "source": [
    "import dataclasses\n",
    "import requests\n",
    "import logging\n",
    "import base64\n",
    "import pandas as pd\n",
    "import openai\n",
    "import os\n",
    "from dotenv import load_dotenv\n",
    "\n",
    "import nature_go_client\n",
    "from summary_generation import generate_summaries\n",
    "\n",
    "logger = logging.getLogger(__name__)\n",
    "\n",
    "BASE_URL = 'http://nature-go.edouardleurent.com'\n",
    "LOGIN_URL = BASE_URL + '/api/auth/login/'\n",
    "SPECIES_LIST_URL = BASE_URL + '/api/species/all/'\n",
    "SPECIES_DETAIL_URL = BASE_URL + '/api/species/{species_id}/'\n",
    "QUESTION_CREATE_URL = BASE_URL + '/api/university/quiz/questions/'\n",
    "\n",
    "# Your id here\n",
    "NG_USERNAME = 'nathangrinsztajn'\n",
    "NG_PASSWORD = 'vesper'\n",
    "\n",
    "load_dotenv()\n",
    "openai.api_key = os.getenv(\"OPENAI_API_KEY\")"
   ]
  },
  {
   "cell_type": "code",
   "execution_count": 2,
   "metadata": {},
   "outputs": [],
   "source": [
    "client = nature_go_client.NatureGoClient(username=NG_USERNAME, password=NG_PASSWORD)\n",
    "client.login()"
   ]
  },
  {
   "cell_type": "code",
   "execution_count": 3,
   "metadata": {},
   "outputs": [],
   "source": [
    "species_list = client.get_all_species(limit=10)\n",
    "\n",
    "species_without_summary = [e for e in species_list if e['descriptions'] == []]"
   ]
  },
  {
   "cell_type": "code",
   "execution_count": 4,
   "metadata": {},
   "outputs": [],
   "source": [
    "species_name, species_id = species_without_summary[0]['scientificName'], species_without_summary[0]['id']\n",
    "summaries = generate_summaries(species_name)"
   ]
  },
  {
   "cell_type": "code",
   "execution_count": 6,
   "metadata": {},
   "outputs": [],
   "source": [
    "client.post_species_descriptions(species_id, summaries)"
   ]
  },
  {
   "cell_type": "code",
   "execution_count": 8,
   "metadata": {},
   "outputs": [
    {
     "name": "stdout",
     "output_type": "stream",
     "text": [
      "{'long_summary': 'Today I had the pleasure of observing Prunus spinosa, also known as blackthorn or sloe. This large deciduous shrub or small tree has blackish bark and dense, spiny branches. Its oval leaves have a serrated margin and its flowers are creamy-white in color. The fruit, called a \"sloe,\" is a small drupe that ripens in autumn and has a very astringent flavor. I also learned that the wood of the blackthorn is used to make walking sticks, including the famous Irish shillelagh.', 'medium_summary': 'My observations of Prunus spinosa, or blackthorn, revealed a large shrub with spiny branches and creamy-white flowers. The fruit, known as a sloe, ripens in autumn and has a strong astringent taste. Additionally, I discovered that the wood of the blackthorn is used to make walking sticks.', 'short_summary': 'Today I studied Prunus spinosa, a spiny shrub with creamy-white flowers and astringent sloe fruit. The wood is used for making walking sticks.'}\n"
     ]
    }
   ],
   "source": [
    "print(summaries)"
   ]
  }
 ],
 "metadata": {
  "kernelspec": {
   "display_name": "wikipedia",
   "language": "python",
   "name": "python3"
  },
  "language_info": {
   "codemirror_mode": {
    "name": "ipython",
    "version": 3
   },
   "file_extension": ".py",
   "mimetype": "text/x-python",
   "name": "python",
   "nbconvert_exporter": "python",
   "pygments_lexer": "ipython3",
   "version": "3.10.12"
  },
  "orig_nbformat": 4
 },
 "nbformat": 4,
 "nbformat_minor": 2
}
