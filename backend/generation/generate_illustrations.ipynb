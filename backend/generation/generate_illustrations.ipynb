{
 "cells": [
  {
   "cell_type": "code",
   "execution_count": null,
   "id": "5b99b4bf-3911-4aa4-930b-93b0d264f5b3",
   "metadata": {},
   "outputs": [],
   "source": [
    "import requests\n",
    "from PIL import Image\n",
    "import io\n",
    "import base64\n",
    "from IPython.display import display\n",
    "import pandas as pd\n",
    "from pathlib import Path\n",
    "import wikipedia\n",
    "import urllib.request\n",
    "import tqdm\n",
    "import nature_go_client"
   ]
  },
  {
   "cell_type": "code",
   "execution_count": null,
   "id": "440fbc0e-2553-41da-b1c5-c2a4e4465ea0",
   "metadata": {},
   "outputs": [],
   "source": [
    "# Nature Go parameters\n",
    "NG_USERNAME = ''\n",
    "NG_PASSWORD = ''\n",
    "\n",
    "# Stable Diffusion parameters\n",
    "SD_HOST = 'http://127.0.0.1:7860'\n",
    "STEPS = 20\n",
    "WIDTH = 1024\n",
    "HEIGHT = 1024\n",
    "SAMPLER = 'DPM++ 2M Karras'\n",
    "PROMPT = \"illustration of a {common_name} ({scientific_name}), herbarium, 19th century, transactions of the Botanical Society of London\"\n"
   ]
  },
  {
   "cell_type": "markdown",
   "id": "da97edbd",
   "metadata": {},
   "source": [
    "## Retrieve species with missing images through Nature go API"
   ]
  },
  {
   "cell_type": "code",
   "execution_count": null,
   "id": "8c3dd3fa",
   "metadata": {},
   "outputs": [],
   "source": [
    "client = nature_go_client.NatureGoClient(username=NG_USERNAME, password=NG_PASSWORD)\n",
    "client.login()"
   ]
  },
  {
   "cell_type": "code",
   "execution_count": null,
   "id": "66bf9952-5ed5-4c1b-9ca1-b02d6daa79b1",
   "metadata": {},
   "outputs": [],
   "source": [
    "species_list = client.get_all_species()\n",
    "species_without_illustrations = [s for s in species_list if not s['illustration']]\n",
    "print(f'Found {len(species_without_illustrations)} species without illustrations out of {len(species_list)} total species')\n",
    "pd.DataFrame(species_without_illustrations)"
   ]
  },
  {
   "cell_type": "markdown",
   "id": "c9ecd764",
   "metadata": {},
   "source": [
    "## Run generation with Stable Diffusion API"
   ]
  },
  {
   "cell_type": "code",
   "execution_count": null,
   "id": "f5a551e2",
   "metadata": {},
   "outputs": [],
   "source": [
    "def check_connexion_to_sd_api():\n",
    "    response = requests.get(url=f'{SD_HOST}/sdapi/v1/options/')\n",
    "    assert response.status_code == 200\n",
    "    return response.json()\n",
    "\n",
    "options = check_connexion_to_sd_api()"
   ]
  },
  {
   "cell_type": "code",
   "execution_count": null,
   "id": "b33f60e5-db9f-47d0-af5b-de905f079919",
   "metadata": {},
   "outputs": [],
   "source": [
    "def generate_illustration(common_name: str, scientific_name: str, save_to_path: str | None = None):\n",
    "    payload = {\n",
    "        'prompt': PROMPT.format(common_name=common_name, scientific_name=scientific_name),\n",
    "        'steps': STEPS,\n",
    "        'width': WIDTH,\n",
    "        'height': HEIGHT,\n",
    "        'sampler_index': SAMPLER\n",
    "    }\n",
    "    response = requests.post(url=f'http://127.0.0.1:7860/sdapi/v1/txt2img', json=payload)\n",
    "    r = response.json()\n",
    "    images = [Image.open(io.BytesIO(base64.b64decode(image.split(\",\", 1)[0]))) for image in r['images']]\n",
    "    assert len(images) == 1\n",
    "    image = images[0]\n",
    "    if save_to_path:\n",
    "        out_path = Path(OUT_DIR) / save_to_path.format(scientific_name=scientific_name)\n",
    "        out_path.parent.mkdir(parents=True, exist_ok=True)\n",
    "        image.save(out_path)\n",
    "    return image, r['parameters'], r['info']\n",
    "\n",
    "species = species_without_illustrations[0]\n",
    "image, params, info = generate_illustration(', '.join(species['commonNames']), species['scientificNameWithoutAuthor'])"
   ]
  },
  {
   "cell_type": "code",
   "execution_count": null,
   "id": "5db01380",
   "metadata": {},
   "outputs": [],
   "source": [
    "display(image)"
   ]
  },
  {
   "cell_type": "code",
   "execution_count": null,
   "id": "ed1bbe5a",
   "metadata": {},
   "outputs": [],
   "source": [
    "def fetch_wikipedia_image(scientific_name):\n",
    "    page = wikipedia.page(scientific_name)\n",
    "    img_url =  page.images[0]\n",
    "    with urllib.request.urlopen(img_url) as url:\n",
    "        img = Image.open(io.BytesIO(url.read()))\n",
    "        return img\n",
    "\n",
    "display(fetch_wikipedia_image(species['scientificName']))"
   ]
  },
  {
   "cell_type": "markdown",
   "id": "fff2b84b",
   "metadata": {},
   "source": [
    "## Upload result to Nature Go API"
   ]
  },
  {
   "cell_type": "code",
   "execution_count": null,
   "id": "71d6135f",
   "metadata": {},
   "outputs": [],
   "source": [
    "client.update_species_illustration(species_id=species['id'], image=image, illustration_name='illustration')"
   ]
  },
  {
   "cell_type": "markdown",
   "id": "7ce66088",
   "metadata": {},
   "source": [
    "## Background removal with Stable Diffusion API"
   ]
  },
  {
   "cell_type": "code",
   "execution_count": null,
   "id": "a9208e13",
   "metadata": {},
   "outputs": [],
   "source": [
    "\n",
    "# def pil_to_base64(pil_image):\n",
    "#     with io.BytesIO() as stream:\n",
    "#         pil_image.save(stream, \"PNG\", pnginfo=None)\n",
    "#         base64_str = str(base64.b64encode(stream.getvalue()), \"utf-8\")\n",
    "#         return \"data:image/png;base64,\" + base64_str\n",
    "\n",
    "\n",
    "# payload_extra = {\n",
    "#     \"image\": [pil_to_base64(image)], \n",
    "#     \"resize_mode\": 0,\n",
    "#     \"show_extras_results\": False,\n",
    "#     \"gfpgan_visibility\": 0,\n",
    "#     \"codeformer_visibility\": 0,\n",
    "#     \"codeformer_weight\": 0,\n",
    "#     \"upscaling_resize\": 4,\n",
    "#     \"upscaling_resize_w\": 512,\n",
    "#     \"upscaling_resize_h\": 512,\n",
    "#     \"upscaling_crop\": False,\n",
    "#     \"upscaler_1\": \"Nearest\",\n",
    "#     \"upscaler_2\": \"None\",\n",
    "#     \"extras_upscaler_2_visibility\": 0,\n",
    "#     \"upscale_first\": False,\n",
    "#     \"remove_background\": \"u2netp\",\n",
    "#     \"save_images\": True\n",
    "# }\n",
    "# response = requests.post(url=f'{HOST}/sdapi/v1/extra-single-image/', json=payload_extra)\n",
    "# r = response.json()"
   ]
  }
 ],
 "metadata": {
  "kernelspec": {
   "display_name": "Python 3 (ipykernel)",
   "language": "python",
   "name": "python3"
  },
  "language_info": {
   "codemirror_mode": {
    "name": "ipython",
    "version": 3
   },
   "file_extension": ".py",
   "mimetype": "text/x-python",
   "name": "python",
   "nbconvert_exporter": "python",
   "pygments_lexer": "ipython3",
   "version": "3.10.6"
  }
 },
 "nbformat": 4,
 "nbformat_minor": 5
}
