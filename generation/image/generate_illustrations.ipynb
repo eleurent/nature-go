{
 "cells": [
  {
   "cell_type": "code",
   "execution_count": 3,
   "id": "5b99b4bf-3911-4aa4-930b-93b0d264f5b3",
   "metadata": {},
   "outputs": [],
   "source": [
    "import requests\n",
    "from PIL import Image\n",
    "import io\n",
    "import base64\n",
    "from IPython.display import display\n",
    "import pandas as pd\n",
    "from pathlib import Path\n",
    "import wikipedia\n",
    "import urllib.request\n",
    "import tqdm\n",
    "import nature_go_client\n",
    "import matplotlib.pyplot as plt\n",
    "import sys\n",
    "import rembg"
   ]
  },
  {
   "cell_type": "code",
   "execution_count": 2,
   "id": "440fbc0e-2553-41da-b1c5-c2a4e4465ea0",
   "metadata": {},
   "outputs": [],
   "source": [
    "# Nature Go parameters\n",
    "NG_USERNAME = input()\n",
    "NG_PASSWORD = input()\n",
    "\n",
    "# Stable Diffusion parameters\n",
    "SD_HOST = 'http://nature-go.edouardleurent.com'\n",
    "PROMPT = \"{commonNames} {scientificNameWithoutAuthor}, herbarium illustration, 19th century, transactions of the Botanical Society of London\"\n"
   ]
  },
  {
   "cell_type": "markdown",
   "id": "da97edbd",
   "metadata": {},
   "source": [
    "## Retrieve species with missing images through Nature go API"
   ]
  },
  {
   "cell_type": "code",
   "execution_count": 37,
   "id": "8c3dd3fa",
   "metadata": {},
   "outputs": [],
   "source": [
    "client = nature_go_client.NatureGoClient(username=NG_USERNAME, password=NG_PASSWORD)\n",
    "client.login()"
   ]
  },
  {
   "cell_type": "code",
   "execution_count": 24,
   "id": "66bf9952-5ed5-4c1b-9ca1-b02d6daa79b1",
   "metadata": {},
   "outputs": [
    {
     "data": {
      "text/html": [
       "<div>\n",
       "<style scoped>\n",
       "    .dataframe tbody tr th:only-of-type {\n",
       "        vertical-align: middle;\n",
       "    }\n",
       "\n",
       "    .dataframe tbody tr th {\n",
       "        vertical-align: top;\n",
       "    }\n",
       "\n",
       "    .dataframe thead th {\n",
       "        text-align: right;\n",
       "    }\n",
       "</style>\n",
       "<table border=\"1\" class=\"dataframe\">\n",
       "  <thead>\n",
       "    <tr style=\"text-align: right;\">\n",
       "      <th></th>\n",
       "      <th>id</th>\n",
       "      <th>scientificNameWithoutAuthor</th>\n",
       "      <th>commonNames</th>\n",
       "      <th>genus</th>\n",
       "      <th>family</th>\n",
       "      <th>gbif_id</th>\n",
       "      <th>powo_id</th>\n",
       "      <th>wikipedia_word_count</th>\n",
       "      <th>number_of_occurrences</th>\n",
       "      <th>occurences_cdf</th>\n",
       "      <th>rarity_gpt</th>\n",
       "      <th>descriptions</th>\n",
       "      <th>illustration</th>\n",
       "      <th>illustration_transparent</th>\n",
       "      <th>reference_image_url</th>\n",
       "      <th>illustration_url</th>\n",
       "      <th>display_name</th>\n",
       "      <th>num_observations_total</th>\n",
       "      <th>num_questions_total</th>\n",
       "    </tr>\n",
       "  </thead>\n",
       "  <tbody>\n",
       "    <tr>\n",
       "      <th>0</th>\n",
       "      <td>2</td>\n",
       "      <td>Alliaria petiolata</td>\n",
       "      <td>[Garlic Mustard, Jack-by-the-hedge, Hedge-Garl...</td>\n",
       "      <td>Alliaria</td>\n",
       "      <td>Brassicaceae</td>\n",
       "      <td>5376075.0</td>\n",
       "      <td>1176324-2</td>\n",
       "      <td>1167</td>\n",
       "      <td>8788</td>\n",
       "      <td>0.988123</td>\n",
       "      <td>2.0</td>\n",
       "      <td>[]</td>\n",
       "      <td>None</td>\n",
       "      <td>None</td>\n",
       "      <td></td>\n",
       "      <td>http://nature-go.edouardleurent.com/static/img...</td>\n",
       "      <td>Garlic Mustard</td>\n",
       "      <td>0</td>\n",
       "      <td>0</td>\n",
       "    </tr>\n",
       "    <tr>\n",
       "      <th>1</th>\n",
       "      <td>3</td>\n",
       "      <td>Crataegus monogyna</td>\n",
       "      <td>[Hawthorn, Common Hawthorn, Red hawthorn, Engl...</td>\n",
       "      <td>Crataegus</td>\n",
       "      <td>Rosaceae</td>\n",
       "      <td>9220780.0</td>\n",
       "      <td>723820-1</td>\n",
       "      <td>1326</td>\n",
       "      <td>8362</td>\n",
       "      <td>0.982995</td>\n",
       "      <td>4.0</td>\n",
       "      <td>[]</td>\n",
       "      <td>None</td>\n",
       "      <td>None</td>\n",
       "      <td></td>\n",
       "      <td>http://nature-go.edouardleurent.com/static/img...</td>\n",
       "      <td>Hawthorn</td>\n",
       "      <td>0</td>\n",
       "      <td>0</td>\n",
       "    </tr>\n",
       "    <tr>\n",
       "      <th>2</th>\n",
       "      <td>4</td>\n",
       "      <td>Cornus sanguinea</td>\n",
       "      <td>[Common Dogwood, Dogwood, Pegwood, Red dogwood...</td>\n",
       "      <td>Cornus</td>\n",
       "      <td>Cornaceae</td>\n",
       "      <td>3082234.0</td>\n",
       "      <td>271661-1</td>\n",
       "      <td>462</td>\n",
       "      <td>8178</td>\n",
       "      <td>0.977980</td>\n",
       "      <td>3.4</td>\n",
       "      <td>[]</td>\n",
       "      <td>None</td>\n",
       "      <td>None</td>\n",
       "      <td></td>\n",
       "      <td>http://nature-go.edouardleurent.com/static/img...</td>\n",
       "      <td>Common Dogwood</td>\n",
       "      <td>0</td>\n",
       "      <td>0</td>\n",
       "    </tr>\n",
       "    <tr>\n",
       "      <th>3</th>\n",
       "      <td>5</td>\n",
       "      <td>Sambucus nigra</td>\n",
       "      <td>[Common Elder, Black elderberry, Elderberry, C...</td>\n",
       "      <td>Sambucus</td>\n",
       "      <td>Viburnaceae</td>\n",
       "      <td>2888728.0</td>\n",
       "      <td>30122169-2</td>\n",
       "      <td>1091</td>\n",
       "      <td>7923</td>\n",
       "      <td>0.973122</td>\n",
       "      <td>2.0</td>\n",
       "      <td>[]</td>\n",
       "      <td>None</td>\n",
       "      <td>None</td>\n",
       "      <td></td>\n",
       "      <td>http://nature-go.edouardleurent.com/static/img...</td>\n",
       "      <td>Common Elder</td>\n",
       "      <td>0</td>\n",
       "      <td>0</td>\n",
       "    </tr>\n",
       "    <tr>\n",
       "      <th>4</th>\n",
       "      <td>6</td>\n",
       "      <td>Achillea millefolium</td>\n",
       "      <td>[Common yarrow, Yarrow, Milfoil, Blood-wort, N...</td>\n",
       "      <td>Achillea</td>\n",
       "      <td>Asteraceae</td>\n",
       "      <td>3120060.0</td>\n",
       "      <td>2294-2</td>\n",
       "      <td>2344</td>\n",
       "      <td>7917</td>\n",
       "      <td>0.968267</td>\n",
       "      <td>1.4</td>\n",
       "      <td>[]</td>\n",
       "      <td>None</td>\n",
       "      <td>None</td>\n",
       "      <td></td>\n",
       "      <td>http://nature-go.edouardleurent.com/static/img...</td>\n",
       "      <td>Common yarrow</td>\n",
       "      <td>0</td>\n",
       "      <td>0</td>\n",
       "    </tr>\n",
       "  </tbody>\n",
       "</table>\n",
       "</div>"
      ],
      "text/plain": [
       "   id scientificNameWithoutAuthor  \\\n",
       "0   2          Alliaria petiolata   \n",
       "1   3          Crataegus monogyna   \n",
       "2   4            Cornus sanguinea   \n",
       "3   5              Sambucus nigra   \n",
       "4   6        Achillea millefolium   \n",
       "\n",
       "                                         commonNames      genus        family  \\\n",
       "0  [Garlic Mustard, Jack-by-the-hedge, Hedge-Garl...   Alliaria  Brassicaceae   \n",
       "1  [Hawthorn, Common Hawthorn, Red hawthorn, Engl...  Crataegus      Rosaceae   \n",
       "2  [Common Dogwood, Dogwood, Pegwood, Red dogwood...     Cornus     Cornaceae   \n",
       "3  [Common Elder, Black elderberry, Elderberry, C...   Sambucus   Viburnaceae   \n",
       "4  [Common yarrow, Yarrow, Milfoil, Blood-wort, N...   Achillea    Asteraceae   \n",
       "\n",
       "     gbif_id     powo_id  wikipedia_word_count  number_of_occurrences  \\\n",
       "0  5376075.0   1176324-2                  1167                   8788   \n",
       "1  9220780.0    723820-1                  1326                   8362   \n",
       "2  3082234.0    271661-1                   462                   8178   \n",
       "3  2888728.0  30122169-2                  1091                   7923   \n",
       "4  3120060.0      2294-2                  2344                   7917   \n",
       "\n",
       "   occurences_cdf  rarity_gpt descriptions illustration  \\\n",
       "0        0.988123         2.0           []         None   \n",
       "1        0.982995         4.0           []         None   \n",
       "2        0.977980         3.4           []         None   \n",
       "3        0.973122         2.0           []         None   \n",
       "4        0.968267         1.4           []         None   \n",
       "\n",
       "  illustration_transparent reference_image_url  \\\n",
       "0                     None                       \n",
       "1                     None                       \n",
       "2                     None                       \n",
       "3                     None                       \n",
       "4                     None                       \n",
       "\n",
       "                                    illustration_url    display_name  \\\n",
       "0  http://nature-go.edouardleurent.com/static/img...  Garlic Mustard   \n",
       "1  http://nature-go.edouardleurent.com/static/img...        Hawthorn   \n",
       "2  http://nature-go.edouardleurent.com/static/img...  Common Dogwood   \n",
       "3  http://nature-go.edouardleurent.com/static/img...    Common Elder   \n",
       "4  http://nature-go.edouardleurent.com/static/img...   Common yarrow   \n",
       "\n",
       "   num_observations_total  num_questions_total  \n",
       "0                       0                    0  \n",
       "1                       0                    0  \n",
       "2                       0                    0  \n",
       "3                       0                    0  \n",
       "4                       0                    0  "
      ]
     },
     "execution_count": 24,
     "metadata": {},
     "output_type": "execute_result"
    }
   ],
   "source": [
    "species_list = client.get_labeled_species(illustration=False, limit=5)\n",
    "print(f'Found {len(species_list)} species')\n",
    "species_list = pd.DataFrame(species_list)\n",
    "species_list"
   ]
  },
  {
   "cell_type": "markdown",
   "id": "24f7c6ee",
   "metadata": {},
   "source": [
    "## Select species"
   ]
  },
  {
   "cell_type": "code",
   "execution_count": 25,
   "id": "7a2c1554",
   "metadata": {},
   "outputs": [
    {
     "data": {
      "text/plain": [
       "id                                                                             2\n",
       "scientificNameWithoutAuthor                                   Alliaria petiolata\n",
       "commonNames                    [Garlic Mustard, Jack-by-the-hedge, Hedge-Garl...\n",
       "genus                                                                   Alliaria\n",
       "family                                                              Brassicaceae\n",
       "gbif_id                                                                5376075.0\n",
       "powo_id                                                                1176324-2\n",
       "wikipedia_word_count                                                        1167\n",
       "number_of_occurrences                                                       8788\n",
       "occurences_cdf                                                          0.988123\n",
       "rarity_gpt                                                                   2.0\n",
       "descriptions                                                                  []\n",
       "illustration                                                                None\n",
       "illustration_transparent                                                    None\n",
       "reference_image_url                                                             \n",
       "illustration_url               http://nature-go.edouardleurent.com/static/img...\n",
       "display_name                                                      Garlic Mustard\n",
       "num_observations_total                                                         0\n",
       "num_questions_total                                                            0\n",
       "Name: 0, dtype: object"
      ]
     },
     "execution_count": 25,
     "metadata": {},
     "output_type": "execute_result"
    }
   ],
   "source": [
    "species = species_list.iloc[0]\n",
    "species"
   ]
  },
  {
   "cell_type": "markdown",
   "id": "27b5890e",
   "metadata": {},
   "source": [
    "## Get a reference image"
   ]
  },
  {
   "cell_type": "code",
   "execution_count": null,
   "id": "ad256854",
   "metadata": {},
   "outputs": [],
   "source": [
    "def download_image(url):\n",
    "    with urllib.request.urlopen(url) as url:\n",
    "        img = Image.open(io.BytesIO(url.read()))\n",
    "        return img\n",
    "\n",
    "def fetch_wikipedia_images(scientific_name):\n",
    "    page = wikipedia.page(scientific_name)\n",
    "    return page.images[:2]\n",
    "    \n",
    "    \n",
    "def display_images(*images):\n",
    "    _, axes = plt.subplots(1, len(images), figsize=(5*len(images), 5), squeeze=False)\n",
    "    for i, image in enumerate(images):\n",
    "        axes.flat[i].imshow(image)\n",
    "        axes.flat[i].axis('off')\n",
    "\n",
    "\n",
    "reference_images_url = fetch_wikipedia_images(species.scientificNameWithoutAuthor)\n",
    "reference_images = [download_image(img) for img in reference_images_url]\n",
    "display_images(*reference_images)"
   ]
  },
  {
   "cell_type": "code",
   "execution_count": null,
   "id": "4bc89ff5",
   "metadata": {},
   "outputs": [],
   "source": [
    "import requests\n",
    "from bs4 import BeautifulSoup\n",
    "\n",
    "def google_image_search(query):\n",
    "  url = \"https://www.google.com/search?q={}&source=lnms&tbm=isch\".format(query)\n",
    "  response = requests.get(url)\n",
    "  soup = BeautifulSoup(response.content, \"html.parser\")\n",
    "  image_elements = soup.find_all(\"img\", class_=\"DS1iW\")\n",
    "  return [i['src'] for i in image_elements][:5]\n",
    "\n",
    "# reference_images_url = google_image_search(f'{species.scientificNameWithoutAuthor} + flower')\n",
    "# reference_images = list(map(download_image, reference_images_url))\n",
    "# display_images(*reference_images)\n"
   ]
  },
  {
   "cell_type": "markdown",
   "id": "c9ecd764",
   "metadata": {},
   "source": [
    "## Run generation with ComfyUI"
   ]
  },
  {
   "cell_type": "code",
   "execution_count": 29,
   "id": "f5a551e2",
   "metadata": {},
   "outputs": [],
   "source": [
    "# Import workflows\n",
    "sys.argv = ['']\n",
    "from illustration_workflows import txt2img_workflow\n",
    "from illustration_workflows import controlnet_workflow\n",
    "comfyui_path = txt2img_workflow.find_path(\"ComfyUI\")\n",
    "rembg_session = rembg.new_session(model_name=\"isnet-general-use\")\n",
    "\n",
    "\n",
    "def run_txt2img_worflow(positive_prompt, negative_prompt):\n",
    "    import random\n",
    "    random.seed(len(positive_prompt))\n",
    "    result = txt2img_workflow.main(positive_prompt=positive_prompt, negative_prompt=negative_prompt)\n",
    "    illustration = Image.open(Path(comfyui_path) / 'output' / result['illustration']['ui']['images'][0]['filename'])\n",
    "    illustration_transparent = rembg.remove(illustration, session=rembg_session)\n",
    "    return illustration, illustration_transparent\n"
   ]
  },
  {
   "cell_type": "code",
   "execution_count": null,
   "id": "a0be108b",
   "metadata": {},
   "outputs": [],
   "source": [
    "prompt = PROMPT.format(commonNames=', '.join(species.commonNames[:3]), scientificNameWithoutAuthor=species.scientificNameWithoutAuthor)\n",
    "print(prompt)\n",
    "illustration, illustration_transparent = run_txt2img_worflow(positive_prompt=prompt, negative_prompt='')\n",
    "display_images(illustration, illustration_transparent)"
   ]
  },
  {
   "cell_type": "code",
   "execution_count": null,
   "id": "a82b0b93",
   "metadata": {},
   "outputs": [],
   "source": [
    "reference_image = reference_images[0]\n",
    "reference_image_name = f\"reference_{species.scientificNameWithoutAuthor}.png\"\n",
    "reference_image.save(Path(comfyui_path) / \"input\" / reference_image_name)\n",
    "\n",
    "def run_controlnet_worflow(positive_prompt, negative_prompt, reference_image_name):\n",
    "    import random\n",
    "    random.seed(len(positive_prompt))\n",
    "    result = controlnet_workflow.main(positive_prompt=positive_prompt, negative_prompt=negative_prompt, control_image=reference_image_name)\n",
    "    illustration = Image.open(Path(comfyui_path) / 'output' / result['illustration']['ui']['images'][0]['filename'])\n",
    "    mask = Image.open(Path(comfyui_path) / 'output' / result['controlnet_mask']['ui']['images'][0]['filename'])\n",
    "    illustration_transparent = rembg.remove(illustration, session=rembg_session)\n",
    "    return illustration, illustration_transparent, mask\n",
    "\n",
    "reference_illustration, reference_illustration_transparent, mask = run_controlnet_worflow(positive_prompt=prompt, negative_prompt='black and white', reference_image_name=reference_image_name)\n",
    "display_images(reference_image, mask, reference_illustration, reference_illustration_transparent)"
   ]
  },
  {
   "cell_type": "code",
   "execution_count": 32,
   "id": "2c3c1360-4639-4e63-ae02-a697b09dc686",
   "metadata": {},
   "outputs": [],
   "source": [
    "print(reference_image.size)\n",
    "print(reference_illustration.size)"
   ]
  },
  {
   "cell_type": "markdown",
   "id": "fff2b84b",
   "metadata": {},
   "source": [
    "## Upload result to Nature Go API"
   ]
  },
  {
   "cell_type": "code",
   "execution_count": null,
   "id": "71d6135f",
   "metadata": {},
   "outputs": [
    {
     "name": "stdout",
     "output_type": "stream",
     "text": [
      " y\n"
     ]
    }
   ],
   "source": [
    "confirm_send = input()\n",
    "if confirm_send == 'y':\n",
    "    client.update_species_image(species_id=species.id, image=illustration, image_name='illustration')\n",
    "    client.update_species_image(species_id=species.id, image=illustration_transparent, image_name='illustration_transparent')\n",
    "    client.update_species_image(species_id=species.id, image=reference_illustration, image_name='reference_illustration')\n",
    "    client.update_species_image(species_id=species.id, image=reference_illustration_transparent, image_name='reference_illustration_transparent')\n",
    "    client.update_species_field(species_id=species.id, key='reference_image_url', value=reference_images_url[0])"
   ]
  }
 ],
 "metadata": {
  "kernelspec": {
   "display_name": "Python 3 (ipykernel)",
   "language": "python",
   "name": "python3"
  },
  "language_info": {
   "codemirror_mode": {
    "name": "ipython",
    "version": 3
   },
   "file_extension": ".py",
   "mimetype": "text/x-python",
   "name": "python",
   "nbconvert_exporter": "python",
   "pygments_lexer": "ipython3",
   "version": "3.10.6"
  }
 },
 "nbformat": 4,
 "nbformat_minor": 5
}
