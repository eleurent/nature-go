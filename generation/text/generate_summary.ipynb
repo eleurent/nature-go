{
 "cells": [
  {
   "cell_type": "code",
   "execution_count": 8,
   "metadata": {},
   "outputs": [],
   "source": [
    "import sys\n",
    "import dataclasses\n",
    "import requests\n",
    "import logging\n",
    "import base64\n",
    "import pandas as pd\n",
    "import openai\n",
    "import os\n",
    "from dotenv import load_dotenv\n",
    "from tqdm import tqdm\n",
    "\n",
    "sys.path.append('..')\n",
    "import nature_go_client\n",
    "from summary_generation import generate_summaries\n",
    "\n",
    "logger = logging.getLogger(__name__)\n",
    "\n",
    "load_dotenv()\n",
    "\n",
    "# Your id here\n",
    "NG_USERNAME = os.getenv(\"NG_USERNAME\")\n",
    "NG_PASSWORD = os.getenv(\"NG_PASSWORD\")\n",
    "openai.api_key = os.getenv(\"OPENAI_API_KEY\")"
   ]
  },
  {
   "cell_type": "code",
   "execution_count": 3,
   "metadata": {},
   "outputs": [],
   "source": [
    "client = nature_go_client.NatureGoClient(username=NG_USERNAME, password=NG_PASSWORD)\n",
    "client.login()"
   ]
  },
  {
   "cell_type": "code",
   "execution_count": 13,
   "metadata": {},
   "outputs": [
    {
     "data": {
      "text/html": [
       "<div>\n",
       "<style scoped>\n",
       "    .dataframe tbody tr th:only-of-type {\n",
       "        vertical-align: middle;\n",
       "    }\n",
       "\n",
       "    .dataframe tbody tr th {\n",
       "        vertical-align: top;\n",
       "    }\n",
       "\n",
       "    .dataframe thead th {\n",
       "        text-align: right;\n",
       "    }\n",
       "</style>\n",
       "<table border=\"1\" class=\"dataframe\">\n",
       "  <thead>\n",
       "    <tr style=\"text-align: right;\">\n",
       "      <th></th>\n",
       "      <th>id</th>\n",
       "      <th>scientificNameWithoutAuthor</th>\n",
       "      <th>commonNames</th>\n",
       "      <th>genus</th>\n",
       "      <th>family</th>\n",
       "      <th>gbif_id</th>\n",
       "      <th>powo_id</th>\n",
       "      <th>wikipedia_word_count</th>\n",
       "      <th>number_of_occurrences</th>\n",
       "      <th>occurences_cdf</th>\n",
       "      <th>...</th>\n",
       "      <th>descriptions</th>\n",
       "      <th>illustration</th>\n",
       "      <th>illustration_transparent</th>\n",
       "      <th>illustration_reference</th>\n",
       "      <th>illustration_reference_transparent</th>\n",
       "      <th>reference_image_url</th>\n",
       "      <th>illustration_url</th>\n",
       "      <th>display_name</th>\n",
       "      <th>num_observations_total</th>\n",
       "      <th>num_questions_total</th>\n",
       "    </tr>\n",
       "  </thead>\n",
       "  <tbody>\n",
       "    <tr>\n",
       "      <th>0</th>\n",
       "      <td>281</td>\n",
       "      <td>Astrantia major</td>\n",
       "      <td>[Astrantia, Greater masterwort, Great Masterwort]</td>\n",
       "      <td>Astrantia</td>\n",
       "      <td>Apiaceae</td>\n",
       "      <td>3034915.0</td>\n",
       "      <td>838340-1</td>\n",
       "      <td>603.0</td>\n",
       "      <td>1457.0</td>\n",
       "      <td>0.475231</td>\n",
       "      <td>...</td>\n",
       "      <td>[]</td>\n",
       "      <td>http://nature-go.edouardleurent.com/media/spec...</td>\n",
       "      <td>http://nature-go.edouardleurent.com/media/spec...</td>\n",
       "      <td>None</td>\n",
       "      <td>None</td>\n",
       "      <td></td>\n",
       "      <td>http://nature-go.edouardleurent.com/media/spec...</td>\n",
       "      <td>Astrantia</td>\n",
       "      <td>1</td>\n",
       "      <td>0</td>\n",
       "    </tr>\n",
       "    <tr>\n",
       "      <th>1</th>\n",
       "      <td>404</td>\n",
       "      <td>Rosa spinosissima</td>\n",
       "      <td>[Burnet rose, Scotch rose, Scotchbriar]</td>\n",
       "      <td>Rosa</td>\n",
       "      <td>Rosaceae</td>\n",
       "      <td>3002333.0</td>\n",
       "      <td>324822-2</td>\n",
       "      <td>274.0</td>\n",
       "      <td>1067.0</td>\n",
       "      <td>0.380851</td>\n",
       "      <td>...</td>\n",
       "      <td>[]</td>\n",
       "      <td>http://nature-go.edouardleurent.com/media/spec...</td>\n",
       "      <td>http://nature-go.edouardleurent.com/media/spec...</td>\n",
       "      <td>None</td>\n",
       "      <td>None</td>\n",
       "      <td></td>\n",
       "      <td>http://nature-go.edouardleurent.com/media/spec...</td>\n",
       "      <td>Burnet rose</td>\n",
       "      <td>1</td>\n",
       "      <td>0</td>\n",
       "    </tr>\n",
       "    <tr>\n",
       "      <th>2</th>\n",
       "      <td>893</td>\n",
       "      <td>Crambe maritima</td>\n",
       "      <td>[Sea kale, Sea Cabbage, Kale]</td>\n",
       "      <td>Crambe</td>\n",
       "      <td>Brassicaceae</td>\n",
       "      <td>5373533.0</td>\n",
       "      <td>281657-1</td>\n",
       "      <td>1117.0</td>\n",
       "      <td>372.0</td>\n",
       "      <td>0.190132</td>\n",
       "      <td>...</td>\n",
       "      <td>[]</td>\n",
       "      <td>http://nature-go.edouardleurent.com/media/spec...</td>\n",
       "      <td>http://nature-go.edouardleurent.com/media/spec...</td>\n",
       "      <td>None</td>\n",
       "      <td>None</td>\n",
       "      <td></td>\n",
       "      <td>http://nature-go.edouardleurent.com/media/spec...</td>\n",
       "      <td>Sea kale</td>\n",
       "      <td>1</td>\n",
       "      <td>0</td>\n",
       "    </tr>\n",
       "    <tr>\n",
       "      <th>3</th>\n",
       "      <td>1131</td>\n",
       "      <td>Hedera colchica</td>\n",
       "      <td>[Persian Ivy, Colchis ivy, Caucasian Ivy]</td>\n",
       "      <td>Hedera</td>\n",
       "      <td>Araliaceae</td>\n",
       "      <td>3036033.0</td>\n",
       "      <td>90679-1</td>\n",
       "      <td>419.0</td>\n",
       "      <td>255.0</td>\n",
       "      <td>0.145775</td>\n",
       "      <td>...</td>\n",
       "      <td>[]</td>\n",
       "      <td>http://nature-go.edouardleurent.com/media/spec...</td>\n",
       "      <td>http://nature-go.edouardleurent.com/media/spec...</td>\n",
       "      <td>None</td>\n",
       "      <td>None</td>\n",
       "      <td></td>\n",
       "      <td>http://nature-go.edouardleurent.com/media/spec...</td>\n",
       "      <td>Persian Ivy</td>\n",
       "      <td>1</td>\n",
       "      <td>0</td>\n",
       "    </tr>\n",
       "    <tr>\n",
       "      <th>4</th>\n",
       "      <td>2271</td>\n",
       "      <td>Ocimum basilicum</td>\n",
       "      <td>[Sweet basil, Basil, Thai Basil]</td>\n",
       "      <td>Ocimum</td>\n",
       "      <td>Lamiaceae</td>\n",
       "      <td>2927096.0</td>\n",
       "      <td>452874-1</td>\n",
       "      <td>2043.0</td>\n",
       "      <td>63.0</td>\n",
       "      <td>0.055122</td>\n",
       "      <td>...</td>\n",
       "      <td>[]</td>\n",
       "      <td>http://nature-go.edouardleurent.com/media/spec...</td>\n",
       "      <td>http://nature-go.edouardleurent.com/media/spec...</td>\n",
       "      <td>None</td>\n",
       "      <td>None</td>\n",
       "      <td></td>\n",
       "      <td>http://nature-go.edouardleurent.com/media/spec...</td>\n",
       "      <td>Sweet basil</td>\n",
       "      <td>1</td>\n",
       "      <td>0</td>\n",
       "    </tr>\n",
       "    <tr>\n",
       "      <th>5</th>\n",
       "      <td>4127</td>\n",
       "      <td>Paeonia lactiflora</td>\n",
       "      <td>[Common garden peony, Peony, Chinese peony]</td>\n",
       "      <td>Paeonia</td>\n",
       "      <td>Paeoniaceae</td>\n",
       "      <td>3083486.0</td>\n",
       "      <td>711802-1</td>\n",
       "      <td>490.0</td>\n",
       "      <td>14.0</td>\n",
       "      <td>0.019946</td>\n",
       "      <td>...</td>\n",
       "      <td>[]</td>\n",
       "      <td>None</td>\n",
       "      <td>None</td>\n",
       "      <td>None</td>\n",
       "      <td>None</td>\n",
       "      <td></td>\n",
       "      <td>http://nature-go.edouardleurent.com/static/img...</td>\n",
       "      <td>Common garden peony</td>\n",
       "      <td>1</td>\n",
       "      <td>0</td>\n",
       "    </tr>\n",
       "    <tr>\n",
       "      <th>6</th>\n",
       "      <td>36470</td>\n",
       "      <td>Stellaria holostea</td>\n",
       "      <td>[Greater stichwort, Greater Stitchwort, Easter...</td>\n",
       "      <td>Stellaria</td>\n",
       "      <td>Caryophyllaceae</td>\n",
       "      <td></td>\n",
       "      <td></td>\n",
       "      <td>NaN</td>\n",
       "      <td>NaN</td>\n",
       "      <td>NaN</td>\n",
       "      <td>...</td>\n",
       "      <td>[]</td>\n",
       "      <td>None</td>\n",
       "      <td>None</td>\n",
       "      <td>None</td>\n",
       "      <td>None</td>\n",
       "      <td></td>\n",
       "      <td>http://nature-go.edouardleurent.com/static/img...</td>\n",
       "      <td>Greater stichwort</td>\n",
       "      <td>1</td>\n",
       "      <td>0</td>\n",
       "    </tr>\n",
       "  </tbody>\n",
       "</table>\n",
       "<p>7 rows × 21 columns</p>\n",
       "</div>"
      ],
      "text/plain": [
       "      id scientificNameWithoutAuthor  \\\n",
       "0    281             Astrantia major   \n",
       "1    404           Rosa spinosissima   \n",
       "2    893             Crambe maritima   \n",
       "3   1131             Hedera colchica   \n",
       "4   2271            Ocimum basilicum   \n",
       "5   4127          Paeonia lactiflora   \n",
       "6  36470          Stellaria holostea   \n",
       "\n",
       "                                         commonNames      genus  \\\n",
       "0  [Astrantia, Greater masterwort, Great Masterwort]  Astrantia   \n",
       "1            [Burnet rose, Scotch rose, Scotchbriar]       Rosa   \n",
       "2                      [Sea kale, Sea Cabbage, Kale]     Crambe   \n",
       "3          [Persian Ivy, Colchis ivy, Caucasian Ivy]     Hedera   \n",
       "4                   [Sweet basil, Basil, Thai Basil]     Ocimum   \n",
       "5        [Common garden peony, Peony, Chinese peony]    Paeonia   \n",
       "6  [Greater stichwort, Greater Stitchwort, Easter...  Stellaria   \n",
       "\n",
       "            family    gbif_id   powo_id  wikipedia_word_count  \\\n",
       "0         Apiaceae  3034915.0  838340-1                 603.0   \n",
       "1         Rosaceae  3002333.0  324822-2                 274.0   \n",
       "2     Brassicaceae  5373533.0  281657-1                1117.0   \n",
       "3       Araliaceae  3036033.0   90679-1                 419.0   \n",
       "4        Lamiaceae  2927096.0  452874-1                2043.0   \n",
       "5      Paeoniaceae  3083486.0  711802-1                 490.0   \n",
       "6  Caryophyllaceae                                        NaN   \n",
       "\n",
       "   number_of_occurrences  occurences_cdf  ...  descriptions  \\\n",
       "0                 1457.0        0.475231  ...            []   \n",
       "1                 1067.0        0.380851  ...            []   \n",
       "2                  372.0        0.190132  ...            []   \n",
       "3                  255.0        0.145775  ...            []   \n",
       "4                   63.0        0.055122  ...            []   \n",
       "5                   14.0        0.019946  ...            []   \n",
       "6                    NaN             NaN  ...            []   \n",
       "\n",
       "                                        illustration  \\\n",
       "0  http://nature-go.edouardleurent.com/media/spec...   \n",
       "1  http://nature-go.edouardleurent.com/media/spec...   \n",
       "2  http://nature-go.edouardleurent.com/media/spec...   \n",
       "3  http://nature-go.edouardleurent.com/media/spec...   \n",
       "4  http://nature-go.edouardleurent.com/media/spec...   \n",
       "5                                               None   \n",
       "6                                               None   \n",
       "\n",
       "                            illustration_transparent illustration_reference  \\\n",
       "0  http://nature-go.edouardleurent.com/media/spec...                   None   \n",
       "1  http://nature-go.edouardleurent.com/media/spec...                   None   \n",
       "2  http://nature-go.edouardleurent.com/media/spec...                   None   \n",
       "3  http://nature-go.edouardleurent.com/media/spec...                   None   \n",
       "4  http://nature-go.edouardleurent.com/media/spec...                   None   \n",
       "5                                               None                   None   \n",
       "6                                               None                   None   \n",
       "\n",
       "  illustration_reference_transparent reference_image_url  \\\n",
       "0                               None                       \n",
       "1                               None                       \n",
       "2                               None                       \n",
       "3                               None                       \n",
       "4                               None                       \n",
       "5                               None                       \n",
       "6                               None                       \n",
       "\n",
       "                                    illustration_url         display_name  \\\n",
       "0  http://nature-go.edouardleurent.com/media/spec...            Astrantia   \n",
       "1  http://nature-go.edouardleurent.com/media/spec...          Burnet rose   \n",
       "2  http://nature-go.edouardleurent.com/media/spec...             Sea kale   \n",
       "3  http://nature-go.edouardleurent.com/media/spec...          Persian Ivy   \n",
       "4  http://nature-go.edouardleurent.com/media/spec...          Sweet basil   \n",
       "5  http://nature-go.edouardleurent.com/static/img...  Common garden peony   \n",
       "6  http://nature-go.edouardleurent.com/static/img...    Greater stichwort   \n",
       "\n",
       "  num_observations_total  num_questions_total  \n",
       "0                      1                    0  \n",
       "1                      1                    0  \n",
       "2                      1                    0  \n",
       "3                      1                    0  \n",
       "4                      1                    0  \n",
       "5                      1                    0  \n",
       "6                      1                    0  \n",
       "\n",
       "[7 rows x 21 columns]"
      ]
     },
     "execution_count": 13,
     "metadata": {},
     "output_type": "execute_result"
    }
   ],
   "source": [
    "species_list = pd.DataFrame(client.get_labeled_species(limit=10, descriptions=False))\n",
    "species_list = species_list[species_list['num_observations_total'] > 0]\n",
    "species_list"
   ]
  },
  {
   "cell_type": "code",
   "execution_count": 15,
   "metadata": {},
   "outputs": [
    {
     "name": "stderr",
     "output_type": "stream",
     "text": [
      "1it [00:19, 20.00s/it]"
     ]
    },
    {
     "name": "stdout",
     "output_type": "stream",
     "text": [
      "Astrantia major\n"
     ]
    },
    {
     "name": "stderr",
     "output_type": "stream",
     "text": [
      "2it [00:42, 21.64s/it]"
     ]
    },
    {
     "name": "stdout",
     "output_type": "stream",
     "text": [
      "Rosa spinosissima\n"
     ]
    },
    {
     "name": "stderr",
     "output_type": "stream",
     "text": [
      "3it [01:03, 21.12s/it]"
     ]
    },
    {
     "name": "stdout",
     "output_type": "stream",
     "text": [
      "Crambe maritima\n"
     ]
    },
    {
     "name": "stderr",
     "output_type": "stream",
     "text": [
      "4it [01:42, 28.34s/it]"
     ]
    },
    {
     "name": "stdout",
     "output_type": "stream",
     "text": [
      "Hedera colchica\n"
     ]
    },
    {
     "name": "stderr",
     "output_type": "stream",
     "text": [
      "5it [02:02, 25.17s/it]"
     ]
    },
    {
     "name": "stdout",
     "output_type": "stream",
     "text": [
      "Ocimum basilicum\n"
     ]
    },
    {
     "name": "stderr",
     "output_type": "stream",
     "text": [
      "6it [02:25, 24.54s/it]"
     ]
    },
    {
     "name": "stdout",
     "output_type": "stream",
     "text": [
      "Paeonia lactiflora\n"
     ]
    },
    {
     "name": "stderr",
     "output_type": "stream",
     "text": [
      "7it [02:40, 22.89s/it]"
     ]
    },
    {
     "name": "stdout",
     "output_type": "stream",
     "text": [
      "Stellaria holostea\n"
     ]
    },
    {
     "name": "stderr",
     "output_type": "stream",
     "text": [
      "\n"
     ]
    }
   ],
   "source": [
    "for _, species in tqdm(species_list.iterrows()):\n",
    "    species_name, species_id = species['scientificNameWithoutAuthor'], species['id']\n",
    "    summaries = generate_summaries(species_name)\n",
    "    client.post_species_descriptions(species_id, summaries)\n",
    "    print(species_name)"
   ]
  },
  {
   "cell_type": "markdown",
   "metadata": {},
   "source": [
    "## New generation "
   ]
  },
  {
   "cell_type": "code",
   "execution_count": 10,
   "metadata": {},
   "outputs": [
    {
     "name": "stdout",
     "output_type": "stream",
     "text": [
      "730210 total words\n",
      "1.46042 total wiki cost\n"
     ]
    }
   ],
   "source": [
    "import pandas as pd\n",
    "\n",
    "df = pd.DataFrame(client.get_labeled_species(limit=1000, descriptions=False))\n",
    "\n",
    "print(df['wikipedia_word_count'].sum(), \"total words\")\n",
    "print(df['wikipedia_word_count'].sum() / 1000 * 0.002, \"total wiki cost\")"
   ]
  },
  {
   "cell_type": "code",
   "execution_count": null,
   "metadata": {},
   "outputs": [],
   "source": []
  }
 ],
 "metadata": {
  "kernelspec": {
   "display_name": "wikipedia",
   "language": "python",
   "name": "python3"
  },
  "language_info": {
   "codemirror_mode": {
    "name": "ipython",
    "version": 3
   },
   "file_extension": ".py",
   "mimetype": "text/x-python",
   "name": "python",
   "nbconvert_exporter": "python",
   "pygments_lexer": "ipython3",
   "version": "3.11.5"
  },
  "orig_nbformat": 4
 },
 "nbformat": 4,
 "nbformat_minor": 2
}
