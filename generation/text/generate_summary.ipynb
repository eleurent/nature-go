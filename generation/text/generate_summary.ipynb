{
 "cells": [
  {
   "cell_type": "code",
   "execution_count": 1,
   "metadata": {},
   "outputs": [],
   "source": [
    "import dataclasses\n",
    "import requests\n",
    "import logging\n",
    "import base64\n",
    "import pandas as pd\n",
    "import openai\n",
    "import os\n",
    "from dotenv import load_dotenv\n",
    "from tqdm import tqdm\n",
    "\n",
    "import sys\n",
    "sys.path.append('../')\n",
    "import nature_go_client\n",
    "\n",
    "from summary_generation import generate_summaries_three_paragraphs, generate_summaries_variable_length\n",
    "\n",
    "logger = logging.getLogger(__name__)\n",
    "\n",
    "BASE_URL = 'http://nature-go.edouardleurent.com'\n",
    "LOGIN_URL = BASE_URL + '/api/auth/login/'\n",
    "SPECIES_LIST_URL = BASE_URL + '/api/species/all/'\n",
    "SPECIES_DETAIL_URL = BASE_URL + '/api/species/{species_id}/'\n",
    "QUESTION_CREATE_URL = BASE_URL + '/api/university/quiz/questions/'\n",
    "\n",
    "load_dotenv()\n",
    "\n",
    "# Your id here\n",
    "NG_USERNAME = os.getenv(\"NG_USERNAME\")\n",
    "NG_PASSWORD = os.getenv(\"NG_PASSWORD\")\n",
    "\n",
    "openai.api_key = os.getenv(\"OPENAI_API_KEY\")"
   ]
  },
  {
   "cell_type": "code",
   "execution_count": 2,
   "metadata": {},
   "outputs": [],
   "source": [
    "client = nature_go_client.NatureGoClient(username=NG_USERNAME, password=NG_PASSWORD)\n",
    "client.login()"
   ]
  },
  {
   "cell_type": "code",
   "execution_count": 18,
   "metadata": {},
   "outputs": [],
   "source": [
    "species_list = client.get_all_species(limit=100)\n",
    "\n",
    "species_without_summary = [e for e in species_list if e['descriptions'] == []]"
   ]
  },
  {
   "cell_type": "code",
   "execution_count": 19,
   "metadata": {},
   "outputs": [
    {
     "name": "stderr",
     "output_type": "stream",
     "text": [
      " 28%|██▊       | 25/90 [06:28<17:30, 16.17s/it]"
     ]
    },
    {
     "name": "stdout",
     "output_type": "stream",
     "text": [
      "API error occurred: This model's maximum context length is 4097 tokens. However, your messages resulted in 6249 tokens. Please reduce the length of the messages. . Retrying in 1 second...\n",
      "API error occurred: This model's maximum context length is 4097 tokens. However, your messages resulted in 6249 tokens. Please reduce the length of the messages. . Retrying in 1 second...\n",
      "API error occurred: This model's maximum context length is 4097 tokens. However, you requested 4346 tokens (3546 in the messages, 800 in the completion). Please reduce the length of the messages or completion. . Retrying in 1 second...\n",
      "API error occurred: This model's maximum context length is 4097 tokens. However, you requested 4346 tokens (3546 in the messages, 800 in the completion). Please reduce the length of the messages or completion. . Retrying in 1 second...\n",
      "API error occurred: This model's maximum context length is 4097 tokens. However, you requested 4374 tokens (3574 in the messages, 800 in the completion). Please reduce the length of the messages or completion. . Retrying in 1 second...\n",
      "API error occurred: This model's maximum context length is 4097 tokens. However, you requested 4311 tokens (3511 in the messages, 800 in the completion). Please reduce the length of the messages or completion. . Retrying in 1 second...\n",
      "API error occurred: This model's maximum context length is 4097 tokens. However, you requested 4311 tokens (3511 in the messages, 800 in the completion). Please reduce the length of the messages or completion. . Retrying in 1 second...\n",
      "API error occurred: This model's maximum context length is 4097 tokens. However, you requested 4393 tokens (3593 in the messages, 800 in the completion). Please reduce the length of the messages or completion. . Retrying in 1 second...\n",
      "API error occurred: This model's maximum context length is 4097 tokens. However, you requested 4311 tokens (3511 in the messages, 800 in the completion). Please reduce the length of the messages or completion. . Retrying in 1 second...\n",
      "API error occurred: This model's maximum context length is 4097 tokens. However, you requested 4374 tokens (3574 in the messages, 800 in the completion). Please reduce the length of the messages or completion. . Retrying in 1 second...\n",
      "API error occurred: This model's maximum context length is 4097 tokens. However, you requested 4346 tokens (3546 in the messages, 800 in the completion). Please reduce the length of the messages or completion. . Retrying in 1 second...\n",
      "API error occurred: This model's maximum context length is 4097 tokens. However, you requested 4374 tokens (3574 in the messages, 800 in the completion). Please reduce the length of the messages or completion. . Retrying in 1 second...\n",
      "API error occurred: This model's maximum context length is 4097 tokens. However, you requested 4346 tokens (3546 in the messages, 800 in the completion). Please reduce the length of the messages or completion. . Retrying in 1 second...\n",
      "API error occurred: This model's maximum context length is 4097 tokens. However, you requested 4346 tokens (3546 in the messages, 800 in the completion). Please reduce the length of the messages or completion. . Retrying in 1 second...\n",
      "API error occurred: This model's maximum context length is 4097 tokens. However, you requested 4346 tokens (3546 in the messages, 800 in the completion). Please reduce the length of the messages or completion. . Retrying in 1 second...\n",
      "API error occurred: This model's maximum context length is 4097 tokens. However, you requested 4393 tokens (3593 in the messages, 800 in the completion). Please reduce the length of the messages or completion. . Retrying in 1 second...\n",
      "API error occurred: This model's maximum context length is 4097 tokens. However, you requested 4393 tokens (3593 in the messages, 800 in the completion). Please reduce the length of the messages or completion. . Retrying in 1 second...\n",
      "API error occurred: This model's maximum context length is 4097 tokens. However, you requested 4311 tokens (3511 in the messages, 800 in the completion). Please reduce the length of the messages or completion. . Retrying in 1 second...\n",
      "API error occurred: This model's maximum context length is 4097 tokens. However, you requested 4311 tokens (3511 in the messages, 800 in the completion). Please reduce the length of the messages or completion. . Retrying in 1 second...\n",
      "API error occurred: This model's maximum context length is 4097 tokens. However, you requested 4346 tokens (3546 in the messages, 800 in the completion). Please reduce the length of the messages or completion. . Retrying in 1 second...\n"
     ]
    },
    {
     "name": "stderr",
     "output_type": "stream",
     "text": [
      " 32%|███▏      | 29/90 [07:52<18:41, 18.38s/it]"
     ]
    },
    {
     "name": "stdout",
     "output_type": "stream",
     "text": [
      "API error occurred: This model's maximum context length is 4097 tokens. However, your messages resulted in 4335 tokens. Please reduce the length of the messages. . Retrying in 1 second...\n",
      "API error occurred: This model's maximum context length is 4097 tokens. However, your messages resulted in 4335 tokens. Please reduce the length of the messages. . Retrying in 1 second...\n"
     ]
    },
    {
     "name": "stderr",
     "output_type": "stream",
     "text": [
      " 37%|███▋      | 33/90 [08:53<14:54, 15.70s/it]"
     ]
    },
    {
     "name": "stdout",
     "output_type": "stream",
     "text": [
      "API error occurred: This model's maximum context length is 4097 tokens. However, your messages resulted in 4309 tokens. Please reduce the length of the messages. . Retrying in 1 second...\n",
      "API error occurred: This model's maximum context length is 4097 tokens. However, your messages resulted in 4312 tokens. Please reduce the length of the messages. . Retrying in 1 second...\n"
     ]
    },
    {
     "name": "stderr",
     "output_type": "stream",
     "text": [
      " 38%|███▊      | 34/90 [09:10<14:58, 16.05s/it]"
     ]
    },
    {
     "name": "stdout",
     "output_type": "stream",
     "text": [
      "API error occurred: This model's maximum context length is 4097 tokens. However, your messages resulted in 5175 tokens. Please reduce the length of the messages. . Retrying in 1 second...\n",
      "API error occurred: This model's maximum context length is 4097 tokens. However, your messages resulted in 5170 tokens. Please reduce the length of the messages. . Retrying in 1 second...\n",
      "API error occurred: This model's maximum context length is 4097 tokens. However, you requested 4340 tokens (3540 in the messages, 800 in the completion). Please reduce the length of the messages or completion. . Retrying in 1 second...\n",
      "API error occurred: This model's maximum context length is 4097 tokens. However, you requested 4318 tokens (3518 in the messages, 800 in the completion). Please reduce the length of the messages or completion. . Retrying in 1 second...\n",
      "API error occurred: This model's maximum context length is 4097 tokens. However, you requested 4381 tokens (3581 in the messages, 800 in the completion). Please reduce the length of the messages or completion. . Retrying in 1 second...\n",
      "API error occurred: This model's maximum context length is 4097 tokens. However, you requested 4381 tokens (3581 in the messages, 800 in the completion). Please reduce the length of the messages or completion. . Retrying in 1 second...\n",
      "API error occurred: This model's maximum context length is 4097 tokens. However, you requested 4397 tokens (3597 in the messages, 800 in the completion). Please reduce the length of the messages or completion. . Retrying in 1 second...\n"
     ]
    },
    {
     "name": "stderr",
     "output_type": "stream",
     "text": [
      " 58%|█████▊    | 52/90 [14:10<11:03, 17.46s/it]"
     ]
    },
    {
     "name": "stdout",
     "output_type": "stream",
     "text": [
      "API error occurred: This model's maximum context length is 4097 tokens. However, your messages resulted in 4384 tokens. Please reduce the length of the messages. . Retrying in 1 second...\n",
      "API error occurred: This model's maximum context length is 4097 tokens. However, your messages resulted in 4389 tokens. Please reduce the length of the messages. . Retrying in 1 second...\n",
      "API error occurred: This model's maximum context length is 4097 tokens. However, you requested 4354 tokens (3554 in the messages, 800 in the completion). Please reduce the length of the messages or completion. . Retrying in 1 second...\n"
     ]
    },
    {
     "name": "stderr",
     "output_type": "stream",
     "text": [
      " 78%|███████▊  | 70/90 [18:56<06:03, 18.18s/it]"
     ]
    },
    {
     "name": "stdout",
     "output_type": "stream",
     "text": [
      "API error occurred: This model's maximum context length is 4097 tokens. However, your messages resulted in 4098 tokens. Please reduce the length of the messages. . Retrying in 1 second...\n",
      "API error occurred: This model's maximum context length is 4097 tokens. However, your messages resulted in 4098 tokens. Please reduce the length of the messages. . Retrying in 1 second...\n",
      "API error occurred: This model's maximum context length is 4097 tokens. However, you requested 4398 tokens (3598 in the messages, 800 in the completion). Please reduce the length of the messages or completion. . Retrying in 1 second...\n",
      "API error occurred: This model's maximum context length is 4097 tokens. However, you requested 4376 tokens (3576 in the messages, 800 in the completion). Please reduce the length of the messages or completion. . Retrying in 1 second...\n",
      "API error occurred: This model's maximum context length is 4097 tokens. However, you requested 4337 tokens (3537 in the messages, 800 in the completion). Please reduce the length of the messages or completion. . Retrying in 1 second...\n",
      "API error occurred: This model's maximum context length is 4097 tokens. However, you requested 4376 tokens (3576 in the messages, 800 in the completion). Please reduce the length of the messages or completion. . Retrying in 1 second...\n",
      "API error occurred: This model's maximum context length is 4097 tokens. However, you requested 4301 tokens (3501 in the messages, 800 in the completion). Please reduce the length of the messages or completion. . Retrying in 1 second...\n"
     ]
    },
    {
     "name": "stderr",
     "output_type": "stream",
     "text": [
      " 82%|████████▏ | 74/90 [20:01<04:15, 15.98s/it]"
     ]
    },
    {
     "name": "stdout",
     "output_type": "stream",
     "text": [
      "API error occurred: This model's maximum context length is 4097 tokens. However, you requested 4174 tokens (3374 in the messages, 800 in the completion). Please reduce the length of the messages or completion. . Retrying in 1 second...\n"
     ]
    },
    {
     "name": "stderr",
     "output_type": "stream",
     "text": [
      " 88%|████████▊ | 79/90 [21:17<02:46, 15.13s/it]"
     ]
    },
    {
     "name": "stdout",
     "output_type": "stream",
     "text": [
      "API error occurred: This model's maximum context length is 4097 tokens. However, your messages resulted in 4098 tokens. Please reduce the length of the messages. . Retrying in 1 second...\n",
      "API error occurred: This model's maximum context length is 4097 tokens. However, your messages resulted in 4103 tokens. Please reduce the length of the messages. . Retrying in 1 second...\n"
     ]
    },
    {
     "name": "stderr",
     "output_type": "stream",
     "text": [
      " 96%|█████████▌| 86/90 [23:05<00:57, 14.49s/it]"
     ]
    },
    {
     "name": "stdout",
     "output_type": "stream",
     "text": [
      "API error occurred: This model's maximum context length is 4097 tokens. However, you requested 4724 tokens (3924 in the messages, 800 in the completion). Please reduce the length of the messages or completion. . Retrying in 1 second...\n",
      "API error occurred: This model's maximum context length is 4097 tokens. However, you requested 4619 tokens (3819 in the messages, 800 in the completion). Please reduce the length of the messages or completion. . Retrying in 1 second...\n",
      "API error occurred: This model's maximum context length is 4097 tokens. However, you requested 4396 tokens (3596 in the messages, 800 in the completion). Please reduce the length of the messages or completion. . Retrying in 1 second...\n",
      "API error occurred: This model's maximum context length is 4097 tokens. However, you requested 4380 tokens (3580 in the messages, 800 in the completion). Please reduce the length of the messages or completion. . Retrying in 1 second...\n"
     ]
    },
    {
     "name": "stderr",
     "output_type": "stream",
     "text": [
      "100%|██████████| 90/90 [24:11<00:00, 16.12s/it]\n"
     ]
    }
   ],
   "source": [
    "for species in tqdm(species_without_summary):\n",
    "    species_name, species_id = species['scientificNameWithoutAuthor'], species['id']\n",
    "    summaries = generate_summaries(species_name)\n",
    "    client.post_species_descriptions(species_id, summaries)"
   ]
  },
  {
   "cell_type": "markdown",
   "metadata": {},
   "source": [
    "## New generation "
   ]
  },
  {
   "cell_type": "code",
   "execution_count": 3,
   "metadata": {},
   "outputs": [
    {
     "name": "stdout",
     "output_type": "stream",
     "text": [
      "1649616.0 total words\n",
      "3.299232 total wiki cost\n"
     ]
    }
   ],
   "source": [
    "import pandas as pd\n",
    "\n",
    "df = pd.DataFrame(client.get_labeled_species(limit=5000, descriptions=False, ordering='rarity_gpt'))\n",
    "\n",
    "print(df['wikipedia_word_count'].sum(), \"total words\")\n",
    "print(df['wikipedia_word_count'].sum() / 1000 * 0.002, \"total wiki cost\")"
   ]
  },
  {
   "cell_type": "code",
   "execution_count": null,
   "metadata": {},
   "outputs": [],
   "source": [
    "for species in tqdm(species_without_summary):\n",
    "    species_name, species_id = species['scientificNameWithoutAuthor'], species['id']\n",
    "    summaries = generate_summaries(species_name)"
   ]
  },
  {
   "cell_type": "code",
   "execution_count": 24,
   "metadata": {},
   "outputs": [
    {
     "data": {
      "text/plain": [
       "Index(['id', 'scientificNameWithoutAuthor', 'commonNames', 'genus', 'family',\n",
       "       'gbif_id', 'powo_id', 'wikipedia_word_count', 'number_of_occurrences',\n",
       "       'occurences_cdf', 'rarity_gpt', 'descriptions', 'illustration',\n",
       "       'illustration_transparent', 'illustration_reference',\n",
       "       'illustration_reference_transparent', 'reference_image_url',\n",
       "       'illustration_url', 'display_name', 'num_observations_total',\n",
       "       'num_questions_total'],\n",
       "      dtype='object')"
      ]
     },
     "execution_count": 24,
     "metadata": {},
     "output_type": "execute_result"
    }
   ],
   "source": [
    "df.keys()"
   ]
  },
  {
   "cell_type": "code",
   "execution_count": 36,
   "metadata": {},
   "outputs": [
    {
     "name": "stdout",
     "output_type": "stream",
     "text": [
      "Cosmos peucedanifolius 24628 1.4 -1.0\n",
      "Agapanthus campanulatus 30351 1.4 -1.0\n",
      "Lamium flexuosum 2734 1.6 -1.0\n",
      "Lamium garganicum 4428 1.6 -1.0\n",
      "Lamium moschatum 7805 1.6 -1.0\n",
      "Anthurium spathiphyllum 19772 1.6 -1.0\n",
      "Casuarina teres 29495 1.6 -1.0\n",
      "Lamium confertum 30937 1.6 -1.0\n",
      "Stenotaphrum dimidiatum 8981 1.8 -1.0\n",
      "Peperomia syringifolia 24012 1.8 -1.0\n",
      "Peperomia tricolor 24048 1.8 -1.0\n",
      "Mentha × rotundifolia 30639 1.8 -1.0\n",
      "Mentha × dumetorum 30642 1.8 -1.0\n"
     ]
    }
   ],
   "source": [
    "for idx, species in df.head(200).iterrows():\n",
    "    if species['wikipedia_word_count'] == -1 and species['rarity_gpt'] >= 1:\n",
    "        print(species['scientificNameWithoutAuthor'], species['id'], species['rarity_gpt'], species['wikipedia_word_count'])"
   ]
  },
  {
   "cell_type": "code",
   "execution_count": 6,
   "metadata": {},
   "outputs": [],
   "source": [
    "summaries = generate_summaries_variable_length(\"Ocimum basilicum\")"
   ]
  },
  {
   "cell_type": "code",
   "execution_count": 5,
   "metadata": {},
   "outputs": [
    {
     "data": {
      "text/plain": [
       "{'long_summary': \"[DATE], I made a fascinating discovery in my botanical expedition through the treacherous wilderness. I stumbled upon a remarkable herb known as Ocimum basilicum, or basil for short. This culinary herb belongs to the mint family and is widely used in cuisines around the world. I found that basil comes in various varieties, including sweet basil, Thai basil, and lemon basil. It has a rich green color and beautiful ovate leaves of different sizes and shapes. The plant can reach impressive heights and produces small white flowers. I also learned that basil is native to tropical regions and is commonly grown as an annual plant in temperate climates. This herb has such a distinct scent due to its volatile aromatic compounds, and it is a delight to the senses. I can't wait to learn more about this fascinating plant.\",\n",
       " 'medium_summary': \"What a thrilling day! I stumbled upon a captivating herb called basil during my dangerous expedition. This culinary herb is part of the mint family and is used in cuisines worldwide. I discovered that basil comes in different varieties, including sweet basil and Thai basil. Its leaves are a vibrant green and come in various sizes and shapes. Basil is native to tropical regions and is typically grown as an annual plant in temperate climates. The aroma of basil is truly unique and delightful. I can't wait to explore more about this intriguing herb.\",\n",
       " 'short_summary': \"[DATE], I found a captivating herb called basil. It belongs to the mint family and is used in cuisines worldwide. Basil comes in different varieties and has a distinct aroma. I'm excited to learn more!\"}"
      ]
     },
     "execution_count": 5,
     "metadata": {},
     "output_type": "execute_result"
    }
   ],
   "source": [
    "summaries"
   ]
  },
  {
   "cell_type": "code",
   "execution_count": 27,
   "metadata": {},
   "outputs": [
    {
     "data": {
      "text/plain": [
       "{'long_summary': '[DATE], I had the pleasure of observing the fascinating Ocimum basilicum, commonly known as basil. This culinary herb, belonging to the Lamiaceae family, is a tender plant that is widely used in cuisines all over the world. It is native to tropical regions, stretching from Central Africa to Southeast Asia. Basil comes in various varieties, including sweet basil, Thai basil, and lemon basil. The leaves of this herb are richly green and ovate, with sizes ranging from 3 to 11 cm long. Basil plants produce small white flowers that develop into round achenes. The essential oil extracted from basil contains aromatic compounds like linalool and methyl chavicol, giving it a distinct scent. Basil is cultivated in many countries, thriving in hot and dry conditions. It can be grown both outdoors and indoors, and its leaves are commonly used fresh in recipes. The seeds of basil are also used in Asian drinks and desserts. Basil has cultural and religious significance in various traditions, and it is even believed to have medicinal properties. Overall, basil is a captivating herb with a wide range of uses and a delightful aroma.',\n",
       " 'medium_summary': '[DATE], I observed the fascinating Ocimum basilicum, also known as basil. This culinary herb is native to tropical regions and is widely used in cuisines worldwide. Basil comes in various varieties, such as sweet basil and Thai basil. The leaves of this herb are rich green and ovate, with sizes ranging from 3 to 11 cm long. Basil plants produce small white flowers that develop into round achenes. The essential oil extracted from basil contains aromatic compounds like linalool and methyl chavicol, giving it a distinct scent. Basil is cultivated in many countries and can be grown both outdoors and indoors. Its leaves are commonly used fresh in recipes, and its seeds are used in Asian drinks and desserts. Basil holds cultural and religious significance in different traditions and is even believed to have medicinal properties. Overall, basil is a captivating herb with a wide range of uses and a delightful aroma.',\n",
       " 'short_summary': '[DATE], I observed the captivating Ocimum basilicum, also known as basil. This culinary herb is widely used in cuisines worldwide and comes in various varieties. Its leaves are rich green and ovate, and it produces small white flowers that develop into round achenes. Basil is cultivated in many countries and can be grown both outdoors and indoors. Its leaves are commonly used fresh in recipes, and its seeds are used in Asian drinks and desserts. Basil holds cultural and religious significance and is believed to have medicinal properties.'}"
      ]
     },
     "execution_count": 27,
     "metadata": {},
     "output_type": "execute_result"
    }
   ],
   "source": [
    "def replace_today(summary):\n",
    "    words = summary.split(\" \", 1)\n",
    "    if words[0] == \"Today,\":\n",
    "        return \"[DATE], \" + words[1]\n",
    "    else:\n",
    "        return summary\n",
    "    \n",
    "updated_summaries = {key: replace_today(value) for key, value in summaries.items()}\n",
    "updated_summaries"
   ]
  },
  {
   "cell_type": "code",
   "execution_count": 4,
   "metadata": {},
   "outputs": [
    {
     "name": "stdout",
     "output_type": "stream",
     "text": [
      "First paragraph:During my botanical expedition, I had the pleasure of encountering the marvelous Ocimum basilicum, commonly known as basil. This culinary herb belongs to the Lamiaceae family and is native to tropical regions from Central Africa to Southeast Asia. Basil is a tender plant with rich green leaves that come in various sizes and shapes, depending on the cultivar. It can reach heights of up to 150 cm and produces small white flowers. One interesting fact about basil is that it is often referred to as the \"royal herb\" due to its association with the production of royal perfumes. In French, it is even called \"l'herbe royale.\"\n",
      "\n",
      "Second paragraph:\n",
      "The distinctive scents of different basil varieties are due to the varying volatile aromatic compounds they contain. For example, European basil has high concentrations of linalool and methyl chavicol, giving it a unique fragrance. Sweet basil, on the other hand, has a clove scent derived from eugenol. Basil is widely cultivated around the world and is used in various cuisines. It is a key ingredient in pesto sauce and is commonly used in soups, ice cream, and chocolate truffles. In Indonesia, it is known as \"kemangi\" and is served raw with meat or fish.\n",
      "\n",
      "Third paragraph:\n",
      "Basil is a sensitive plant that thrives in hot, dry conditions. It can be grown as an annual or a short-lived perennial, depending on the climate. Basil plants require regular watering and do best in well-drained soil with direct exposure to the sun. They can be grown outdoors or indoors, as long as they receive sufficient sunlight. Basil is susceptible to several diseases, including Fusarium wilt and gray mold. To prevent these diseases, it is recommended to pinch off any flower stems before they fully mature. Basil can also be propagated from cuttings or grown from seeds, which can be saved for planting in the following year.\n"
     ]
    }
   ],
   "source": [
    "summaries = generate_summaries_three_paragraphs(\"Ocimum basilicum\")"
   ]
  },
  {
   "cell_type": "code",
   "execution_count": 5,
   "metadata": {},
   "outputs": [
    {
     "data": {
      "text/plain": [
       "{'first_paragraph': 'During my botanical expedition, I had the pleasure of encountering the marvelous Ocimum basilicum, commonly known as basil. This culinary herb belongs to the Lamiaceae family and is native to tropical regions from Central Africa to Southeast Asia. Basil is a tender plant with rich green leaves that come in various sizes and shapes, depending on the cultivar. It can reach heights of up to 150 cm and produces small white flowers. One interesting fact about basil is that it is often referred to as the \"royal herb\" due to its association with the production of royal perfumes. In French, it is even called \"l\\'herbe royale.\"',\n",
       " 'second_paragraph': 'The distinctive scents of different basil varieties are due to the varying volatile aromatic compounds they contain. For example, European basil has high concentrations of linalool and methyl chavicol, giving it a unique fragrance. Sweet basil, on the other hand, has a clove scent derived from eugenol. Basil is widely cultivated around the world and is used in various cuisines. It is a key ingredient in pesto sauce and is commonly used in soups, ice cream, and chocolate truffles. In Indonesia, it is known as \"kemangi\" and is served raw with meat or fish.',\n",
       " 'third_paragraph': 'Basil is a sensitive plant that thrives in hot, dry conditions. It can be grown as an annual or a short-lived perennial, depending on the climate. Basil plants require regular watering and do best in well-drained soil with direct exposure to the sun. They can be grown outdoors or indoors, as long as they receive sufficient sunlight. Basil is susceptible to several diseases, including Fusarium wilt and gray mold. To prevent these diseases, it is recommended to pinch off any flower stems before they fully mature. Basil can also be propagated from cuttings or grown from seeds, which can be saved for planting in the following year.'}"
      ]
     },
     "execution_count": 5,
     "metadata": {},
     "output_type": "execute_result"
    }
   ],
   "source": [
    "summaries"
   ]
  },
  {
   "cell_type": "code",
   "execution_count": 6,
   "metadata": {},
   "outputs": [
    {
     "name": "stdout",
     "output_type": "stream",
     "text": [
      "First paragraph:Today, dear diary, I had the pleasure of observing the fascinating Tradescantia zebrina, also known as the silver inch plant or wandering Jew. This creeping plant is a true delight to behold, with its zebra-patterned leaves that display a stunning combination of purple, green, and silver. It's no wonder this plant is so popular in cultivation, as it grows rapidly and its foliage is truly attractive. I must say, the name \"wandering Jew\" is quite controversial, and some even prefer to call it the \"wandering dude\" instead. \n",
      "\n",
      "Second paragraph:\n",
      "As I continued my observations, I noticed that the leaves of Tradescantia zebrina have a unique structure. They are bluish green in color and usually feature two longitudinal stripes that are silvery on the surface and purple on the underside. However, when exposed to intense sunlight for long periods of time, the variegation fades and the leaves turn a beautiful shade of purple throughout. The leaf sheaths are thin and translucent, and the plant itself often forms dense mats or colonies. \n",
      "\n",
      "Third paragraph:\n",
      "In terms of its habitat, Tradescantia zebrina can be found in Mexico, Central America, and Colombia, as well as on various Caribbean islands. It has also naturalized in parts of Asia, Africa, Australia, South America, and various oceanic islands. This versatile plant is able to grow in wetlands, rainforests, and even on river banks. It is commonly used as a houseplant and groundcover, but caution must be exercised as it can become invasive if not properly maintained. It is not frost-resistant and is best kept indoors during the winter months in colder climates.\n"
     ]
    }
   ],
   "source": [
    "summaries = generate_summaries_three_paragraphs(\"Tradescantia zebrina\")"
   ]
  },
  {
   "cell_type": "code",
   "execution_count": 7,
   "metadata": {},
   "outputs": [
    {
     "data": {
      "text/plain": [
       "{'first_paragraph': '[DATE], dear diary, I had the pleasure of observing the fascinating Tradescantia zebrina, also known as the silver inch plant or wandering Jew. This creeping plant is a true delight to behold, with its zebra-patterned leaves that display a stunning combination of purple, green, and silver. It\\'s no wonder this plant is so popular in cultivation, as it grows rapidly and its foliage is truly attractive. I must say, the name \"wandering Jew\" is quite controversial, and some even prefer to call it the \"wandering dude\" instead.',\n",
       " 'second_paragraph': 'As I continued my observations, I noticed that the leaves of Tradescantia zebrina have a unique structure. They are bluish green in color and usually feature two longitudinal stripes that are silvery on the surface and purple on the underside. However, when exposed to intense sunlight for long periods of time, the variegation fades and the leaves turn a beautiful shade of purple throughout. The leaf sheaths are thin and translucent, and the plant itself often forms dense mats or colonies.',\n",
       " 'third_paragraph': 'In terms of its habitat, Tradescantia zebrina can be found in Mexico, Central America, and Colombia, as well as on various Caribbean islands. It has also naturalized in parts of Asia, Africa, Australia, South America, and various oceanic islands. This versatile plant is able to grow in wetlands, rainforests, and even on river banks. It is commonly used as a houseplant and groundcover, but caution must be exercised as it can become invasive if not properly maintained. It is not frost-resistant and is best kept indoors during the winter months in colder climates.'}"
      ]
     },
     "execution_count": 7,
     "metadata": {},
     "output_type": "execute_result"
    }
   ],
   "source": [
    "summaries"
   ]
  },
  {
   "cell_type": "code",
   "execution_count": 4,
   "metadata": {},
   "outputs": [
    {
     "name": "stdout",
     "output_type": "stream",
     "text": [
      "First paragraph:My dear diary,\n",
      "\n",
      "Today, I stumbled upon a most intriguing plant during my botanical expedition in the vast wilderness. It goes by the name of Cosmos peucedanifolius, and what a spectacle it is to behold! Its slender stems reach for the sky, adorned with delicate fern-like leaves that seem to dance in the gentle breeze. The vibrant pink and white flowers that grace this plant are truly a sight to behold, attracting a plethora of butterflies and bees with their sweet nectar.\n",
      "\n",
      "Ah, but the wonders of Cosmos peucedanifolius do not end there! As I carefully examined the flowers, I discovered a most fascinating fact. Each individual flower possesses both male and female reproductive parts, a trait known as perfect flowers. This clever adaptation ensures that the plant can self-pollinate, allowing it to thrive even in the most remote and isolated locations. Truly, nature has bestowed upon Cosmos peucedanifolius a remarkable survival strategy.\n",
      "\n",
      "But wait, dear diary, there is more to this botanical marvel! Upon closer inspection, I noticed that the leaves of Cosmos peucedanifolius are not only beautiful, but also possess medicinal properties. The local inhabitants have long used these leaves to treat various ailments, from stomach pains to skin inflammations. It seems that nature has provided us with yet another gift, a plant that not only delights the eye but also offers healing properties. How fortunate we are to witness such wonders on our botanical expeditions!\n",
      "\n",
      "Yours faithfully,\n",
      "[Botanist's Name]\n"
     ]
    }
   ],
   "source": [
    "summaries = generate_summaries_three_paragraphs(\"Cosmos peucedanifolius\")"
   ]
  },
  {
   "cell_type": "code",
   "execution_count": 42,
   "metadata": {},
   "outputs": [],
   "source": [
    "# Function to classify rarity based on conditions\n",
    "def classify_rarity(row):\n",
    "    rgpt, ocdf = row['rarity_gpt'], row['occurences_cdf']\n",
    "\n",
    "    if ocdf > 0:\n",
    "            if rgpt <= 2.8:\n",
    "                return 'Very Common'\n",
    "    \n",
    "            if 2.8 < rgpt <= 3.4 or 0.3097 <= ocdf:\n",
    "                return 'Common'\n",
    "    \n",
    "            if 3.4 < rgpt <= 3.6 or 0.3097 > ocdf >= 0.11:\n",
    "                return 'Uncommon'\n",
    "    \n",
    "            if 3.6 < rgpt <= 4.2 or 0.11 > ocdf >= 0.01:\n",
    "                return 'Rare'\n",
    "    \n",
    "\n",
    "    if rgpt <= 2.8:\n",
    "        return 'Very Common'\n",
    "    \n",
    "    if 2.8 < rgpt <= 3.4:\n",
    "        return 'Common'\n",
    "    \n",
    "    if 3.4 < rgpt <= 3.8:\n",
    "        return 'Uncommon'\n",
    "    \n",
    "    if 3.8 < rgpt <= 4.6:\n",
    "        return 'Rare'\n",
    "    \n",
    "    if 4.6 < rgpt:\n",
    "        return 'Legendary'\n",
    "    \n",
    "# Apply function to DataFrame and store result in a new column\n",
    "df['Rarity'] = df.apply(classify_rarity, axis=1)"
   ]
  },
  {
   "cell_type": "code",
   "execution_count": 48,
   "metadata": {},
   "outputs": [
    {
     "data": {
      "text/plain": [
       "Rarity\n",
       "Common         1964\n",
       "Uncommon       1471\n",
       "Very Common    1264\n",
       "Rare            288\n",
       "Name: count, dtype: int64"
      ]
     },
     "execution_count": 48,
     "metadata": {},
     "output_type": "execute_result"
    }
   ],
   "source": [
    "df['Rarity'].value_counts()"
   ]
  }
 ],
 "metadata": {
  "kernelspec": {
   "display_name": "wikipedia",
   "language": "python",
   "name": "python3"
  },
  "language_info": {
   "codemirror_mode": {
    "name": "ipython",
    "version": 3
   },
   "file_extension": ".py",
   "mimetype": "text/x-python",
   "name": "python",
   "nbconvert_exporter": "python",
   "pygments_lexer": "ipython3",
   "version": "3.10.13"
  },
  "orig_nbformat": 4
 },
 "nbformat": 4,
 "nbformat_minor": 2
}
