{
 "cells": [
  {
   "cell_type": "code",
   "execution_count": 3,
   "metadata": {},
   "outputs": [],
   "source": [
    "import dataclasses\n",
    "import requests\n",
    "import logging\n",
    "import base64\n",
    "import pandas as pd\n",
    "import openai\n",
    "import os\n",
    "from dotenv import load_dotenv\n",
    "from tqdm import tqdm\n",
    "\n",
    "import nature_go_client\n",
    "from summary_generation import generate_summaries\n",
    "\n",
    "logger = logging.getLogger(__name__)\n",
    "\n",
    "BASE_URL = 'http://nature-go.edouardleurent.com'\n",
    "LOGIN_URL = BASE_URL + '/api/auth/login/'\n",
    "SPECIES_LIST_URL = BASE_URL + '/api/species/all/'\n",
    "SPECIES_DETAIL_URL = BASE_URL + '/api/species/{species_id}/'\n",
    "QUESTION_CREATE_URL = BASE_URL + '/api/university/quiz/questions/'\n",
    "\n",
    "load_dotenv()\n",
    "\n",
    "# Your id here\n",
    "NG_USERNAME = os.getenv(\"NG_USERNAME\")\n",
    "NG_PASSWORD = os.getenv(\"NG_PASSWORD\")\n",
    "\n",
    "openai.api_key = os.getenv(\"OPENAI_API_KEY\")"
   ]
  },
  {
   "cell_type": "code",
   "execution_count": 4,
   "metadata": {},
   "outputs": [],
   "source": [
    "client = nature_go_client.NatureGoClient(username=NG_USERNAME, password=NG_PASSWORD)\n",
    "client.login()"
   ]
  },
  {
   "cell_type": "code",
   "execution_count": 18,
   "metadata": {},
   "outputs": [],
   "source": [
    "species_list = client.get_all_species(limit=100)\n",
    "\n",
    "species_without_summary = [e for e in species_list if e['descriptions'] == []]"
   ]
  },
  {
   "cell_type": "code",
   "execution_count": 19,
   "metadata": {},
   "outputs": [
    {
     "name": "stderr",
     "output_type": "stream",
     "text": [
      " 28%|██▊       | 25/90 [06:28<17:30, 16.17s/it]"
     ]
    },
    {
     "name": "stdout",
     "output_type": "stream",
     "text": [
      "API error occurred: This model's maximum context length is 4097 tokens. However, your messages resulted in 6249 tokens. Please reduce the length of the messages. . Retrying in 1 second...\n",
      "API error occurred: This model's maximum context length is 4097 tokens. However, your messages resulted in 6249 tokens. Please reduce the length of the messages. . Retrying in 1 second...\n",
      "API error occurred: This model's maximum context length is 4097 tokens. However, you requested 4346 tokens (3546 in the messages, 800 in the completion). Please reduce the length of the messages or completion. . Retrying in 1 second...\n",
      "API error occurred: This model's maximum context length is 4097 tokens. However, you requested 4346 tokens (3546 in the messages, 800 in the completion). Please reduce the length of the messages or completion. . Retrying in 1 second...\n",
      "API error occurred: This model's maximum context length is 4097 tokens. However, you requested 4374 tokens (3574 in the messages, 800 in the completion). Please reduce the length of the messages or completion. . Retrying in 1 second...\n",
      "API error occurred: This model's maximum context length is 4097 tokens. However, you requested 4311 tokens (3511 in the messages, 800 in the completion). Please reduce the length of the messages or completion. . Retrying in 1 second...\n",
      "API error occurred: This model's maximum context length is 4097 tokens. However, you requested 4311 tokens (3511 in the messages, 800 in the completion). Please reduce the length of the messages or completion. . Retrying in 1 second...\n",
      "API error occurred: This model's maximum context length is 4097 tokens. However, you requested 4393 tokens (3593 in the messages, 800 in the completion). Please reduce the length of the messages or completion. . Retrying in 1 second...\n",
      "API error occurred: This model's maximum context length is 4097 tokens. However, you requested 4311 tokens (3511 in the messages, 800 in the completion). Please reduce the length of the messages or completion. . Retrying in 1 second...\n",
      "API error occurred: This model's maximum context length is 4097 tokens. However, you requested 4374 tokens (3574 in the messages, 800 in the completion). Please reduce the length of the messages or completion. . Retrying in 1 second...\n",
      "API error occurred: This model's maximum context length is 4097 tokens. However, you requested 4346 tokens (3546 in the messages, 800 in the completion). Please reduce the length of the messages or completion. . Retrying in 1 second...\n",
      "API error occurred: This model's maximum context length is 4097 tokens. However, you requested 4374 tokens (3574 in the messages, 800 in the completion). Please reduce the length of the messages or completion. . Retrying in 1 second...\n",
      "API error occurred: This model's maximum context length is 4097 tokens. However, you requested 4346 tokens (3546 in the messages, 800 in the completion). Please reduce the length of the messages or completion. . Retrying in 1 second...\n",
      "API error occurred: This model's maximum context length is 4097 tokens. However, you requested 4346 tokens (3546 in the messages, 800 in the completion). Please reduce the length of the messages or completion. . Retrying in 1 second...\n",
      "API error occurred: This model's maximum context length is 4097 tokens. However, you requested 4346 tokens (3546 in the messages, 800 in the completion). Please reduce the length of the messages or completion. . Retrying in 1 second...\n",
      "API error occurred: This model's maximum context length is 4097 tokens. However, you requested 4393 tokens (3593 in the messages, 800 in the completion). Please reduce the length of the messages or completion. . Retrying in 1 second...\n",
      "API error occurred: This model's maximum context length is 4097 tokens. However, you requested 4393 tokens (3593 in the messages, 800 in the completion). Please reduce the length of the messages or completion. . Retrying in 1 second...\n",
      "API error occurred: This model's maximum context length is 4097 tokens. However, you requested 4311 tokens (3511 in the messages, 800 in the completion). Please reduce the length of the messages or completion. . Retrying in 1 second...\n",
      "API error occurred: This model's maximum context length is 4097 tokens. However, you requested 4311 tokens (3511 in the messages, 800 in the completion). Please reduce the length of the messages or completion. . Retrying in 1 second...\n",
      "API error occurred: This model's maximum context length is 4097 tokens. However, you requested 4346 tokens (3546 in the messages, 800 in the completion). Please reduce the length of the messages or completion. . Retrying in 1 second...\n"
     ]
    },
    {
     "name": "stderr",
     "output_type": "stream",
     "text": [
      " 32%|███▏      | 29/90 [07:52<18:41, 18.38s/it]"
     ]
    },
    {
     "name": "stdout",
     "output_type": "stream",
     "text": [
      "API error occurred: This model's maximum context length is 4097 tokens. However, your messages resulted in 4335 tokens. Please reduce the length of the messages. . Retrying in 1 second...\n",
      "API error occurred: This model's maximum context length is 4097 tokens. However, your messages resulted in 4335 tokens. Please reduce the length of the messages. . Retrying in 1 second...\n"
     ]
    },
    {
     "name": "stderr",
     "output_type": "stream",
     "text": [
      " 37%|███▋      | 33/90 [08:53<14:54, 15.70s/it]"
     ]
    },
    {
     "name": "stdout",
     "output_type": "stream",
     "text": [
      "API error occurred: This model's maximum context length is 4097 tokens. However, your messages resulted in 4309 tokens. Please reduce the length of the messages. . Retrying in 1 second...\n",
      "API error occurred: This model's maximum context length is 4097 tokens. However, your messages resulted in 4312 tokens. Please reduce the length of the messages. . Retrying in 1 second...\n"
     ]
    },
    {
     "name": "stderr",
     "output_type": "stream",
     "text": [
      " 38%|███▊      | 34/90 [09:10<14:58, 16.05s/it]"
     ]
    },
    {
     "name": "stdout",
     "output_type": "stream",
     "text": [
      "API error occurred: This model's maximum context length is 4097 tokens. However, your messages resulted in 5175 tokens. Please reduce the length of the messages. . Retrying in 1 second...\n",
      "API error occurred: This model's maximum context length is 4097 tokens. However, your messages resulted in 5170 tokens. Please reduce the length of the messages. . Retrying in 1 second...\n",
      "API error occurred: This model's maximum context length is 4097 tokens. However, you requested 4340 tokens (3540 in the messages, 800 in the completion). Please reduce the length of the messages or completion. . Retrying in 1 second...\n",
      "API error occurred: This model's maximum context length is 4097 tokens. However, you requested 4318 tokens (3518 in the messages, 800 in the completion). Please reduce the length of the messages or completion. . Retrying in 1 second...\n",
      "API error occurred: This model's maximum context length is 4097 tokens. However, you requested 4381 tokens (3581 in the messages, 800 in the completion). Please reduce the length of the messages or completion. . Retrying in 1 second...\n",
      "API error occurred: This model's maximum context length is 4097 tokens. However, you requested 4381 tokens (3581 in the messages, 800 in the completion). Please reduce the length of the messages or completion. . Retrying in 1 second...\n",
      "API error occurred: This model's maximum context length is 4097 tokens. However, you requested 4397 tokens (3597 in the messages, 800 in the completion). Please reduce the length of the messages or completion. . Retrying in 1 second...\n"
     ]
    },
    {
     "name": "stderr",
     "output_type": "stream",
     "text": [
      " 58%|█████▊    | 52/90 [14:10<11:03, 17.46s/it]"
     ]
    },
    {
     "name": "stdout",
     "output_type": "stream",
     "text": [
      "API error occurred: This model's maximum context length is 4097 tokens. However, your messages resulted in 4384 tokens. Please reduce the length of the messages. . Retrying in 1 second...\n",
      "API error occurred: This model's maximum context length is 4097 tokens. However, your messages resulted in 4389 tokens. Please reduce the length of the messages. . Retrying in 1 second...\n",
      "API error occurred: This model's maximum context length is 4097 tokens. However, you requested 4354 tokens (3554 in the messages, 800 in the completion). Please reduce the length of the messages or completion. . Retrying in 1 second...\n"
     ]
    },
    {
     "name": "stderr",
     "output_type": "stream",
     "text": [
      " 78%|███████▊  | 70/90 [18:56<06:03, 18.18s/it]"
     ]
    },
    {
     "name": "stdout",
     "output_type": "stream",
     "text": [
      "API error occurred: This model's maximum context length is 4097 tokens. However, your messages resulted in 4098 tokens. Please reduce the length of the messages. . Retrying in 1 second...\n",
      "API error occurred: This model's maximum context length is 4097 tokens. However, your messages resulted in 4098 tokens. Please reduce the length of the messages. . Retrying in 1 second...\n",
      "API error occurred: This model's maximum context length is 4097 tokens. However, you requested 4398 tokens (3598 in the messages, 800 in the completion). Please reduce the length of the messages or completion. . Retrying in 1 second...\n",
      "API error occurred: This model's maximum context length is 4097 tokens. However, you requested 4376 tokens (3576 in the messages, 800 in the completion). Please reduce the length of the messages or completion. . Retrying in 1 second...\n",
      "API error occurred: This model's maximum context length is 4097 tokens. However, you requested 4337 tokens (3537 in the messages, 800 in the completion). Please reduce the length of the messages or completion. . Retrying in 1 second...\n",
      "API error occurred: This model's maximum context length is 4097 tokens. However, you requested 4376 tokens (3576 in the messages, 800 in the completion). Please reduce the length of the messages or completion. . Retrying in 1 second...\n",
      "API error occurred: This model's maximum context length is 4097 tokens. However, you requested 4301 tokens (3501 in the messages, 800 in the completion). Please reduce the length of the messages or completion. . Retrying in 1 second...\n"
     ]
    },
    {
     "name": "stderr",
     "output_type": "stream",
     "text": [
      " 82%|████████▏ | 74/90 [20:01<04:15, 15.98s/it]"
     ]
    },
    {
     "name": "stdout",
     "output_type": "stream",
     "text": [
      "API error occurred: This model's maximum context length is 4097 tokens. However, you requested 4174 tokens (3374 in the messages, 800 in the completion). Please reduce the length of the messages or completion. . Retrying in 1 second...\n"
     ]
    },
    {
     "name": "stderr",
     "output_type": "stream",
     "text": [
      " 88%|████████▊ | 79/90 [21:17<02:46, 15.13s/it]"
     ]
    },
    {
     "name": "stdout",
     "output_type": "stream",
     "text": [
      "API error occurred: This model's maximum context length is 4097 tokens. However, your messages resulted in 4098 tokens. Please reduce the length of the messages. . Retrying in 1 second...\n",
      "API error occurred: This model's maximum context length is 4097 tokens. However, your messages resulted in 4103 tokens. Please reduce the length of the messages. . Retrying in 1 second...\n"
     ]
    },
    {
     "name": "stderr",
     "output_type": "stream",
     "text": [
      " 96%|█████████▌| 86/90 [23:05<00:57, 14.49s/it]"
     ]
    },
    {
     "name": "stdout",
     "output_type": "stream",
     "text": [
      "API error occurred: This model's maximum context length is 4097 tokens. However, you requested 4724 tokens (3924 in the messages, 800 in the completion). Please reduce the length of the messages or completion. . Retrying in 1 second...\n",
      "API error occurred: This model's maximum context length is 4097 tokens. However, you requested 4619 tokens (3819 in the messages, 800 in the completion). Please reduce the length of the messages or completion. . Retrying in 1 second...\n",
      "API error occurred: This model's maximum context length is 4097 tokens. However, you requested 4396 tokens (3596 in the messages, 800 in the completion). Please reduce the length of the messages or completion. . Retrying in 1 second...\n",
      "API error occurred: This model's maximum context length is 4097 tokens. However, you requested 4380 tokens (3580 in the messages, 800 in the completion). Please reduce the length of the messages or completion. . Retrying in 1 second...\n"
     ]
    },
    {
     "name": "stderr",
     "output_type": "stream",
     "text": [
      "100%|██████████| 90/90 [24:11<00:00, 16.12s/it]\n"
     ]
    }
   ],
   "source": [
    "for species in tqdm(species_without_summary):\n",
    "    species_name, species_id = species['scientificNameWithoutAuthor'], species['id']\n",
    "    summaries = generate_summaries(species_name)\n",
    "    client.post_species_descriptions(species_id, summaries)"
   ]
  },
  {
   "cell_type": "markdown",
   "metadata": {},
   "source": [
    "## New generation "
   ]
  },
  {
   "cell_type": "code",
   "execution_count": 5,
   "metadata": {},
   "outputs": [
    {
     "name": "stdout",
     "output_type": "stream",
     "text": [
      "730178 total words\n",
      "1.460356 total wiki cost\n"
     ]
    }
   ],
   "source": [
    "import pandas as pd\n",
    "\n",
    "df = pd.DataFrame(client.get_labeled_species(limit=1000, descriptions=False))\n",
    "\n",
    "print(df['wikipedia_word_count'].sum(), \"total words\")\n",
    "print(df['wikipedia_word_count'].sum() / 1000 * 0.002, \"total wiki cost\")"
   ]
  },
  {
   "cell_type": "code",
   "execution_count": null,
   "metadata": {},
   "outputs": [],
   "source": [
    "for species in tqdm(species_without_summary):\n",
    "    species_name, species_id = species['scientificNameWithoutAuthor'], species['id']\n",
    "    summaries = generate_summaries(species_name)"
   ]
  },
  {
   "cell_type": "code",
   "execution_count": 20,
   "metadata": {},
   "outputs": [
    {
     "name": "stdout",
     "output_type": "stream",
     "text": [
      "Ocimum basilicum 2271\n",
      "Prunus spinosa 1\n",
      "Alliaria petiolata 2\n",
      "Crataegus monogyna 3\n",
      "Cornus sanguinea 4\n"
     ]
    }
   ],
   "source": [
    "for idx, species in df.head(5).iterrows():\n",
    "    print(species['scientificNameWithoutAuthor'], species['id'])"
   ]
  },
  {
   "cell_type": "code",
   "execution_count": 4,
   "metadata": {},
   "outputs": [],
   "source": [
    "summaries = generate_summaries(\"Ocimum basilicum\")"
   ]
  },
  {
   "cell_type": "code",
   "execution_count": 5,
   "metadata": {},
   "outputs": [
    {
     "data": {
      "text/plain": [
       "{'long_summary': \"[DATE], I made a fascinating discovery in my botanical expedition through the treacherous wilderness. I stumbled upon a remarkable herb known as Ocimum basilicum, or basil for short. This culinary herb belongs to the mint family and is widely used in cuisines around the world. I found that basil comes in various varieties, including sweet basil, Thai basil, and lemon basil. It has a rich green color and beautiful ovate leaves of different sizes and shapes. The plant can reach impressive heights and produces small white flowers. I also learned that basil is native to tropical regions and is commonly grown as an annual plant in temperate climates. This herb has such a distinct scent due to its volatile aromatic compounds, and it is a delight to the senses. I can't wait to learn more about this fascinating plant.\",\n",
       " 'medium_summary': \"What a thrilling day! I stumbled upon a captivating herb called basil during my dangerous expedition. This culinary herb is part of the mint family and is used in cuisines worldwide. I discovered that basil comes in different varieties, including sweet basil and Thai basil. Its leaves are a vibrant green and come in various sizes and shapes. Basil is native to tropical regions and is typically grown as an annual plant in temperate climates. The aroma of basil is truly unique and delightful. I can't wait to explore more about this intriguing herb.\",\n",
       " 'short_summary': \"[DATE], I found a captivating herb called basil. It belongs to the mint family and is used in cuisines worldwide. Basil comes in different varieties and has a distinct aroma. I'm excited to learn more!\"}"
      ]
     },
     "execution_count": 5,
     "metadata": {},
     "output_type": "execute_result"
    }
   ],
   "source": [
    "summaries"
   ]
  },
  {
   "cell_type": "code",
   "execution_count": 27,
   "metadata": {},
   "outputs": [
    {
     "data": {
      "text/plain": [
       "{'long_summary': '[DATE], I had the pleasure of observing the fascinating Ocimum basilicum, commonly known as basil. This culinary herb, belonging to the Lamiaceae family, is a tender plant that is widely used in cuisines all over the world. It is native to tropical regions, stretching from Central Africa to Southeast Asia. Basil comes in various varieties, including sweet basil, Thai basil, and lemon basil. The leaves of this herb are richly green and ovate, with sizes ranging from 3 to 11 cm long. Basil plants produce small white flowers that develop into round achenes. The essential oil extracted from basil contains aromatic compounds like linalool and methyl chavicol, giving it a distinct scent. Basil is cultivated in many countries, thriving in hot and dry conditions. It can be grown both outdoors and indoors, and its leaves are commonly used fresh in recipes. The seeds of basil are also used in Asian drinks and desserts. Basil has cultural and religious significance in various traditions, and it is even believed to have medicinal properties. Overall, basil is a captivating herb with a wide range of uses and a delightful aroma.',\n",
       " 'medium_summary': '[DATE], I observed the fascinating Ocimum basilicum, also known as basil. This culinary herb is native to tropical regions and is widely used in cuisines worldwide. Basil comes in various varieties, such as sweet basil and Thai basil. The leaves of this herb are rich green and ovate, with sizes ranging from 3 to 11 cm long. Basil plants produce small white flowers that develop into round achenes. The essential oil extracted from basil contains aromatic compounds like linalool and methyl chavicol, giving it a distinct scent. Basil is cultivated in many countries and can be grown both outdoors and indoors. Its leaves are commonly used fresh in recipes, and its seeds are used in Asian drinks and desserts. Basil holds cultural and religious significance in different traditions and is even believed to have medicinal properties. Overall, basil is a captivating herb with a wide range of uses and a delightful aroma.',\n",
       " 'short_summary': '[DATE], I observed the captivating Ocimum basilicum, also known as basil. This culinary herb is widely used in cuisines worldwide and comes in various varieties. Its leaves are rich green and ovate, and it produces small white flowers that develop into round achenes. Basil is cultivated in many countries and can be grown both outdoors and indoors. Its leaves are commonly used fresh in recipes, and its seeds are used in Asian drinks and desserts. Basil holds cultural and religious significance and is believed to have medicinal properties.'}"
      ]
     },
     "execution_count": 27,
     "metadata": {},
     "output_type": "execute_result"
    }
   ],
   "source": [
    "def replace_today(summary):\n",
    "    words = summary.split(\" \", 1)\n",
    "    if words[0] == \"Today,\":\n",
    "        return \"[DATE], \" + words[1]\n",
    "    else:\n",
    "        return summary\n",
    "    \n",
    "updated_summaries = {key: replace_today(value) for key, value in summaries.items()}\n",
    "updated_summaries"
   ]
  },
  {
   "cell_type": "code",
   "execution_count": 1,
   "metadata": {},
   "outputs": [
    {
     "ename": "NameError",
     "evalue": "name 'df' is not defined",
     "output_type": "error",
     "traceback": [
      "\u001b[0;31m---------------------------------------------------------------------------\u001b[0m",
      "\u001b[0;31mNameError\u001b[0m                                 Traceback (most recent call last)",
      "\u001b[1;32m/home/n-grinsztajn/PycharmProjects/nature-go/backend/generation/generate_summary.ipynb Cell 13\u001b[0m line \u001b[0;36m1\n\u001b[0;32m----> <a href='vscode-notebook-cell:/home/n-grinsztajn/PycharmProjects/nature-go/backend/generation/generate_summary.ipynb#X15sZmlsZQ%3D%3D?line=0'>1</a>\u001b[0m (df[\u001b[39m'\u001b[39m\u001b[39mwikipedia_word_count\u001b[39m\u001b[39m'\u001b[39m] \u001b[39m==\u001b[39m \u001b[39m-\u001b[39m\u001b[39m1\u001b[39m)\u001b[39m.\u001b[39msum()\n",
      "\u001b[0;31mNameError\u001b[0m: name 'df' is not defined"
     ]
    }
   ],
   "source": [
    "(df['wikipedia_word_count'] == -1).sum()"
   ]
  },
  {
   "cell_type": "code",
   "execution_count": 5,
   "metadata": {},
   "outputs": [
    {
     "data": {
      "image/png": "[encoded data removed]",
      "text/plain": [
       "<Figure size 640x480 with 1 Axes>"
      ]
     },
     "metadata": {},
     "output_type": "display_data"
    }
   ],
   "source": [
    "import matplotlib.pyplot as plt\n",
    "\n",
    "# Plotting the histogram\n",
    "plt.hist(df['rarity_gpt'], bins=10, edgecolor='black')\n",
    "plt.xlabel('Rarity GPT')\n",
    "plt.ylabel('Frequency')\n",
    "plt.title('Histogram of Rarity GPT')\n",
    "plt.show()"
   ]
  },
  {
   "cell_type": "code",
   "execution_count": null,
   "metadata": {},
   "outputs": [],
   "source": []
  }
 ],
 "metadata": {
  "kernelspec": {
   "display_name": "wikipedia",
   "language": "python",
   "name": "python3"
  },
  "language_info": {
   "codemirror_mode": {
    "name": "ipython",
    "version": 3
   },
   "file_extension": ".py",
   "mimetype": "text/x-python",
   "name": "python",
   "nbconvert_exporter": "python",
   "pygments_lexer": "ipython3",
   "version": "3.10.13"
  },
  "orig_nbformat": 4
 },
 "nbformat": 4,
 "nbformat_minor": 2
}
