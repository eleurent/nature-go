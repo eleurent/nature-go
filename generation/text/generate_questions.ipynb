{
 "cells": [
  {
   "cell_type": "code",
   "execution_count": 1,
   "metadata": {},
   "outputs": [],
   "source": [
    "import sys\n",
    "import logging\n",
    "import pandas as pd\n",
    "import openai\n",
    "import os\n",
    "from dotenv import load_dotenv\n",
    "\n",
    "sys.path.append('..')\n",
    "import nature_go_client\n",
    "from question_generation import generate_questions\n",
    "\n",
    "logger = logging.getLogger(__name__)\n",
    "\n",
    "\n",
    "load_dotenv()\n",
    "NG_USERNAME = os.getenv(\"NG_USERNAME\")\n",
    "NG_PASSWORD = os.getenv(\"NG_PASSWORD\")\n",
    "openai.api_key = os.getenv(\"OPENAI_API_KEY\")"
   ]
  },
  {
   "cell_type": "code",
   "execution_count": 2,
   "metadata": {},
   "outputs": [],
   "source": [
    "client = nature_go_client.NatureGoClient(username=NG_USERNAME, password=NG_PASSWORD)\n",
    "client.login()"
   ]
  },
  {
   "cell_type": "markdown",
   "metadata": {},
   "source": [
    "## Retrieve species with missing questions through Nature go API"
   ]
  },
  {
   "cell_type": "code",
   "execution_count": 11,
   "metadata": {},
   "outputs": [
    {
     "data": {
      "text/html": [
       "<div>\n",
       "<style scoped>\n",
       "    .dataframe tbody tr th:only-of-type {\n",
       "        vertical-align: middle;\n",
       "    }\n",
       "\n",
       "    .dataframe tbody tr th {\n",
       "        vertical-align: top;\n",
       "    }\n",
       "\n",
       "    .dataframe thead th {\n",
       "        text-align: right;\n",
       "    }\n",
       "</style>\n",
       "<table border=\"1\" class=\"dataframe\">\n",
       "  <thead>\n",
       "    <tr style=\"text-align: right;\">\n",
       "      <th></th>\n",
       "      <th>id</th>\n",
       "      <th>scientificNameWithoutAuthor</th>\n",
       "      <th>commonNames</th>\n",
       "      <th>genus</th>\n",
       "      <th>family</th>\n",
       "      <th>gbif_id</th>\n",
       "      <th>powo_id</th>\n",
       "      <th>wikipedia_word_count</th>\n",
       "      <th>number_of_occurrences</th>\n",
       "      <th>occurences_cdf</th>\n",
       "      <th>...</th>\n",
       "      <th>descriptions</th>\n",
       "      <th>illustration</th>\n",
       "      <th>illustration_transparent</th>\n",
       "      <th>illustration_reference</th>\n",
       "      <th>illustration_reference_transparent</th>\n",
       "      <th>reference_image_url</th>\n",
       "      <th>illustration_url</th>\n",
       "      <th>display_name</th>\n",
       "      <th>num_observations_total</th>\n",
       "      <th>num_questions_total</th>\n",
       "    </tr>\n",
       "  </thead>\n",
       "  <tbody>\n",
       "    <tr>\n",
       "      <th>0</th>\n",
       "      <td>1131</td>\n",
       "      <td>Hedera colchica</td>\n",
       "      <td>[Persian Ivy, Colchis ivy, Caucasian Ivy]</td>\n",
       "      <td>Hedera</td>\n",
       "      <td>Araliaceae</td>\n",
       "      <td>3036033.0</td>\n",
       "      <td>90679-1</td>\n",
       "      <td>419.0</td>\n",
       "      <td>255.0</td>\n",
       "      <td>0.145775</td>\n",
       "      <td>...</td>\n",
       "      <td>[Today, I discovered a fascinating plant calle...</td>\n",
       "      <td>http://nature-go.edouardleurent.com/media/spec...</td>\n",
       "      <td>http://nature-go.edouardleurent.com/media/spec...</td>\n",
       "      <td>None</td>\n",
       "      <td>None</td>\n",
       "      <td></td>\n",
       "      <td>http://nature-go.edouardleurent.com/media/spec...</td>\n",
       "      <td>Persian Ivy</td>\n",
       "      <td>1</td>\n",
       "      <td>0</td>\n",
       "    </tr>\n",
       "    <tr>\n",
       "      <th>1</th>\n",
       "      <td>2271</td>\n",
       "      <td>Ocimum basilicum</td>\n",
       "      <td>[Sweet basil, Basil, Thai Basil]</td>\n",
       "      <td>Ocimum</td>\n",
       "      <td>Lamiaceae</td>\n",
       "      <td>2927096.0</td>\n",
       "      <td>452874-1</td>\n",
       "      <td>2043.0</td>\n",
       "      <td>63.0</td>\n",
       "      <td>0.055122</td>\n",
       "      <td>...</td>\n",
       "      <td>[Basil is a fascinating herb that is used in c...</td>\n",
       "      <td>http://nature-go.edouardleurent.com/media/spec...</td>\n",
       "      <td>http://nature-go.edouardleurent.com/media/spec...</td>\n",
       "      <td>None</td>\n",
       "      <td>None</td>\n",
       "      <td></td>\n",
       "      <td>http://nature-go.edouardleurent.com/media/spec...</td>\n",
       "      <td>Sweet basil</td>\n",
       "      <td>1</td>\n",
       "      <td>0</td>\n",
       "    </tr>\n",
       "    <tr>\n",
       "      <th>2</th>\n",
       "      <td>4127</td>\n",
       "      <td>Paeonia lactiflora</td>\n",
       "      <td>[Common garden peony, Peony, Chinese peony]</td>\n",
       "      <td>Paeonia</td>\n",
       "      <td>Paeoniaceae</td>\n",
       "      <td>3083486.0</td>\n",
       "      <td>711802-1</td>\n",
       "      <td>490.0</td>\n",
       "      <td>14.0</td>\n",
       "      <td>0.019946</td>\n",
       "      <td>...</td>\n",
       "      <td>[Today, I admired the beauty of Paeonia lactif...</td>\n",
       "      <td>None</td>\n",
       "      <td>None</td>\n",
       "      <td>None</td>\n",
       "      <td>None</td>\n",
       "      <td></td>\n",
       "      <td>http://nature-go.edouardleurent.com/static/img...</td>\n",
       "      <td>Common garden peony</td>\n",
       "      <td>1</td>\n",
       "      <td>0</td>\n",
       "    </tr>\n",
       "    <tr>\n",
       "      <th>3</th>\n",
       "      <td>36470</td>\n",
       "      <td>Stellaria holostea</td>\n",
       "      <td>[Greater stichwort, Greater Stitchwort, Easter...</td>\n",
       "      <td>Stellaria</td>\n",
       "      <td>Caryophyllaceae</td>\n",
       "      <td></td>\n",
       "      <td></td>\n",
       "      <td>NaN</td>\n",
       "      <td>NaN</td>\n",
       "      <td>NaN</td>\n",
       "      <td>...</td>\n",
       "      <td>[Today, I saw the greater stitchwort, a beauti...</td>\n",
       "      <td>None</td>\n",
       "      <td>None</td>\n",
       "      <td>None</td>\n",
       "      <td>None</td>\n",
       "      <td></td>\n",
       "      <td>http://nature-go.edouardleurent.com/static/img...</td>\n",
       "      <td>Greater stichwort</td>\n",
       "      <td>1</td>\n",
       "      <td>0</td>\n",
       "    </tr>\n",
       "  </tbody>\n",
       "</table>\n",
       "<p>4 rows × 21 columns</p>\n",
       "</div>"
      ],
      "text/plain": [
       "      id scientificNameWithoutAuthor  \\\n",
       "0   1131             Hedera colchica   \n",
       "1   2271            Ocimum basilicum   \n",
       "2   4127          Paeonia lactiflora   \n",
       "3  36470          Stellaria holostea   \n",
       "\n",
       "                                         commonNames      genus  \\\n",
       "0          [Persian Ivy, Colchis ivy, Caucasian Ivy]     Hedera   \n",
       "1                   [Sweet basil, Basil, Thai Basil]     Ocimum   \n",
       "2        [Common garden peony, Peony, Chinese peony]    Paeonia   \n",
       "3  [Greater stichwort, Greater Stitchwort, Easter...  Stellaria   \n",
       "\n",
       "            family    gbif_id   powo_id  wikipedia_word_count  \\\n",
       "0       Araliaceae  3036033.0   90679-1                 419.0   \n",
       "1        Lamiaceae  2927096.0  452874-1                2043.0   \n",
       "2      Paeoniaceae  3083486.0  711802-1                 490.0   \n",
       "3  Caryophyllaceae                                        NaN   \n",
       "\n",
       "   number_of_occurrences  occurences_cdf  ...  \\\n",
       "0                  255.0        0.145775  ...   \n",
       "1                   63.0        0.055122  ...   \n",
       "2                   14.0        0.019946  ...   \n",
       "3                    NaN             NaN  ...   \n",
       "\n",
       "                                        descriptions  \\\n",
       "0  [Today, I discovered a fascinating plant calle...   \n",
       "1  [Basil is a fascinating herb that is used in c...   \n",
       "2  [Today, I admired the beauty of Paeonia lactif...   \n",
       "3  [Today, I saw the greater stitchwort, a beauti...   \n",
       "\n",
       "                                        illustration  \\\n",
       "0  http://nature-go.edouardleurent.com/media/spec...   \n",
       "1  http://nature-go.edouardleurent.com/media/spec...   \n",
       "2                                               None   \n",
       "3                                               None   \n",
       "\n",
       "                            illustration_transparent illustration_reference  \\\n",
       "0  http://nature-go.edouardleurent.com/media/spec...                   None   \n",
       "1  http://nature-go.edouardleurent.com/media/spec...                   None   \n",
       "2                                               None                   None   \n",
       "3                                               None                   None   \n",
       "\n",
       "  illustration_reference_transparent reference_image_url  \\\n",
       "0                               None                       \n",
       "1                               None                       \n",
       "2                               None                       \n",
       "3                               None                       \n",
       "\n",
       "                                    illustration_url         display_name  \\\n",
       "0  http://nature-go.edouardleurent.com/media/spec...          Persian Ivy   \n",
       "1  http://nature-go.edouardleurent.com/media/spec...          Sweet basil   \n",
       "2  http://nature-go.edouardleurent.com/static/img...  Common garden peony   \n",
       "3  http://nature-go.edouardleurent.com/static/img...    Greater stichwort   \n",
       "\n",
       "  num_observations_total  num_questions_total  \n",
       "0                      1                    0  \n",
       "1                      1                    0  \n",
       "2                      1                    0  \n",
       "3                      1                    0  \n",
       "\n",
       "[4 rows x 21 columns]"
      ]
     },
     "execution_count": 11,
     "metadata": {},
     "output_type": "execute_result"
    }
   ],
   "source": [
    "species_list = pd.DataFrame(client.get_labeled_species(limit=10, multiplechoicequestions=False))\n",
    "species_list = species_list[species_list['num_observations_total'] > 0]\n",
    "species_list"
   ]
  },
  {
   "cell_type": "markdown",
   "metadata": {},
   "source": [
    "## Run generation with openai API"
   ]
  },
  {
   "cell_type": "code",
   "execution_count": 12,
   "metadata": {},
   "outputs": [],
   "source": [
    "species = species_list.loc[0]\n",
    "questions = generate_questions(species['display_name'])"
   ]
  },
  {
   "cell_type": "code",
   "execution_count": 13,
   "metadata": {},
   "outputs": [
    {
     "data": {
      "text/plain": [
       "[{'question': 'What is the primary method of climbing for Persian Ivy?',\n",
       "  'choices': ['Twining around objects',\n",
       "   'Extending tendrils',\n",
       "   'Using aerial rootlets',\n",
       "   'Growing thorns'],\n",
       "  'correct_choice': 2},\n",
       " {'question': 'Which type of leaves does Persian Ivy have on its creeping and climbing stems?',\n",
       "  'choices': ['Palmately five-lobed juvenile leaves',\n",
       "   'Unlobed cordate adult leaves',\n",
       "   'Needle-like leaves',\n",
       "   'Serrated leaves'],\n",
       "  'correct_choice': 0},\n",
       " {'question': 'What is the primary food source for bees and other insects provided by Persian Ivy?',\n",
       "  'choices': ['Flowers', 'Nectar', 'Fruits', 'Leaves'],\n",
       "  'correct_choice': 1},\n",
       " {'question': 'In which type of microclimate does Persian Ivy prefer to grow?',\n",
       "  'choices': ['Arid deserts',\n",
       "   'Coastal areas',\n",
       "   'Mountain ranges with cool shade',\n",
       "   'Tropical rainforests'],\n",
       "  'correct_choice': 2}]"
      ]
     },
     "execution_count": 13,
     "metadata": {},
     "output_type": "execute_result"
    }
   ],
   "source": [
    "questions"
   ]
  },
  {
   "cell_type": "markdown",
   "metadata": {},
   "source": [
    "## Upload result to Nature Go API"
   ]
  },
  {
   "cell_type": "code",
   "execution_count": 14,
   "metadata": {},
   "outputs": [],
   "source": [
    "client.post_species_questions(int(species['id']), questions)"
   ]
  },
  {
   "cell_type": "markdown",
   "metadata": {},
   "source": [
    "# Process the rest of the batch"
   ]
  },
  {
   "cell_type": "code",
   "execution_count": 16,
   "metadata": {},
   "outputs": [
    {
     "name": "stdout",
     "output_type": "stream",
     "text": [
      "API error occurred: This model's maximum context length is 4097 tokens. However, you requested 4168 tokens (3368 in the messages, 800 in the completion). Please reduce the length of the messages or completion. . Retrying in 1 second...\n",
      "API error occurred: This model's maximum context length is 4097 tokens. However, you requested 4168 tokens (3368 in the messages, 800 in the completion). Please reduce the length of the messages or completion. . Retrying in 1 second...\n",
      "Uploaded results for Sweet basil\n",
      "API error occurred: This model's maximum context length is 4097 tokens. However, your messages resulted in 5318 tokens. Please reduce the length of the messages. . Retrying in 1 second...\n",
      "API error occurred: This model's maximum context length is 4097 tokens. However, your messages resulted in 5186 tokens. Please reduce the length of the messages. . Retrying in 1 second...\n",
      "Uploaded results for Common garden peony\n",
      "Uploaded results for Greater stichwort\n"
     ]
    }
   ],
   "source": [
    "species_list = pd.DataFrame(client.get_labeled_species(limit=10, multiplechoicequestions=False))\n",
    "species_list = species_list[species_list['num_observations_total'] > 0]\n",
    "for _, species in species_list.iterrows():\n",
    "    questions = generate_questions(species['display_name'])\n",
    "    client.post_species_questions(int(species['id']), questions)\n",
    "    print(f\"Uploaded results for {species['display_name']}\")"
   ]
  }
 ],
 "metadata": {
  "kernelspec": {
   "display_name": "wikipedia",
   "language": "python",
   "name": "python3"
  },
  "language_info": {
   "codemirror_mode": {
    "name": "ipython",
    "version": 3
   },
   "file_extension": ".py",
   "mimetype": "text/x-python",
   "name": "python",
   "nbconvert_exporter": "python",
   "pygments_lexer": "ipython3",
   "version": "3.11.5"
  },
  "orig_nbformat": 4
 },
 "nbformat": 4,
 "nbformat_minor": 2
}
